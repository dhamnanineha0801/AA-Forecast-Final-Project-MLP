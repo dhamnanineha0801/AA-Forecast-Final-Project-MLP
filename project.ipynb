{
 "cells": [
  {
   "cell_type": "code",
   "execution_count": 1,
   "id": "bbfff288",
   "metadata": {},
   "outputs": [
    {
     "name": "stdout",
     "output_type": "stream",
     "text": [
      "Requirement already satisfied: tensorflow in c:\\users\\dhamn\\anaconda3\\lib\\site-packages (2.13.0)\n",
      "Requirement already satisfied: tensorflow-intel==2.13.0 in c:\\users\\dhamn\\anaconda3\\lib\\site-packages (from tensorflow) (2.13.0)\n",
      "Requirement already satisfied: google-pasta>=0.1.1 in c:\\users\\dhamn\\anaconda3\\lib\\site-packages (from tensorflow-intel==2.13.0->tensorflow) (0.2.0)\n",
      "Requirement already satisfied: typing-extensions<4.6.0,>=3.6.6 in c:\\users\\dhamn\\anaconda3\\lib\\site-packages (from tensorflow-intel==2.13.0->tensorflow) (3.7.4.3)\n",
      "Requirement already satisfied: protobuf!=4.21.0,!=4.21.1,!=4.21.2,!=4.21.3,!=4.21.4,!=4.21.5,<5.0.0dev,>=3.20.3 in c:\\users\\dhamn\\anaconda3\\lib\\site-packages (from tensorflow-intel==2.13.0->tensorflow) (4.24.0)\n",
      "Requirement already satisfied: h5py>=2.9.0 in c:\\users\\dhamn\\anaconda3\\lib\\site-packages (from tensorflow-intel==2.13.0->tensorflow) (2.10.0)\n",
      "Requirement already satisfied: setuptools in c:\\users\\dhamn\\anaconda3\\lib\\site-packages (from tensorflow-intel==2.13.0->tensorflow) (52.0.0.post20210125)\n",
      "Requirement already satisfied: numpy<=1.24.3,>=1.22 in c:\\users\\dhamn\\anaconda3\\lib\\site-packages (from tensorflow-intel==2.13.0->tensorflow) (1.22.0)\n",
      "Requirement already satisfied: flatbuffers>=23.1.21 in c:\\users\\dhamn\\anaconda3\\lib\\site-packages (from tensorflow-intel==2.13.0->tensorflow) (23.5.26)\n",
      "Requirement already satisfied: six>=1.12.0 in c:\\users\\dhamn\\anaconda3\\lib\\site-packages (from tensorflow-intel==2.13.0->tensorflow) (1.15.0)\n",
      "Requirement already satisfied: tensorflow-io-gcs-filesystem>=0.23.1 in c:\\users\\dhamn\\anaconda3\\lib\\site-packages (from tensorflow-intel==2.13.0->tensorflow) (0.31.0)\n",
      "Requirement already satisfied: tensorflow-estimator<2.14,>=2.13.0 in c:\\users\\dhamn\\anaconda3\\lib\\site-packages (from tensorflow-intel==2.13.0->tensorflow) (2.13.0)\n",
      "Requirement already satisfied: opt-einsum>=2.3.2 in c:\\users\\dhamn\\anaconda3\\lib\\site-packages (from tensorflow-intel==2.13.0->tensorflow) (3.3.0)\n",
      "Requirement already satisfied: grpcio<2.0,>=1.24.3 in c:\\users\\dhamn\\anaconda3\\lib\\site-packages (from tensorflow-intel==2.13.0->tensorflow) (1.57.0)\n",
      "Requirement already satisfied: absl-py>=1.0.0 in c:\\users\\dhamn\\anaconda3\\lib\\site-packages (from tensorflow-intel==2.13.0->tensorflow) (1.4.0)\n",
      "Requirement already satisfied: keras<2.14,>=2.13.1 in c:\\users\\dhamn\\anaconda3\\lib\\site-packages (from tensorflow-intel==2.13.0->tensorflow) (2.13.1)\n",
      "Requirement already satisfied: libclang>=13.0.0 in c:\\users\\dhamn\\anaconda3\\lib\\site-packages (from tensorflow-intel==2.13.0->tensorflow) (16.0.6)\n",
      "Requirement already satisfied: gast<=0.4.0,>=0.2.1 in c:\\users\\dhamn\\anaconda3\\lib\\site-packages (from tensorflow-intel==2.13.0->tensorflow) (0.4.0)\n",
      "Requirement already satisfied: termcolor>=1.1.0 in c:\\users\\dhamn\\anaconda3\\lib\\site-packages (from tensorflow-intel==2.13.0->tensorflow) (2.3.0)\n",
      "Requirement already satisfied: wrapt>=1.11.0 in c:\\users\\dhamn\\anaconda3\\lib\\site-packages (from tensorflow-intel==2.13.0->tensorflow) (1.12.1)\n",
      "Requirement already satisfied: astunparse>=1.6.0 in c:\\users\\dhamn\\anaconda3\\lib\\site-packages (from tensorflow-intel==2.13.0->tensorflow) (1.6.3)\n",
      "Requirement already satisfied: tensorboard<2.14,>=2.13 in c:\\users\\dhamn\\anaconda3\\lib\\site-packages (from tensorflow-intel==2.13.0->tensorflow) (2.13.0)\n",
      "Requirement already satisfied: packaging in c:\\users\\dhamn\\anaconda3\\lib\\site-packages (from tensorflow-intel==2.13.0->tensorflow) (20.9)\n",
      "Requirement already satisfied: wheel<1.0,>=0.23.0 in c:\\users\\dhamn\\anaconda3\\lib\\site-packages (from astunparse>=1.6.0->tensorflow-intel==2.13.0->tensorflow) (0.36.2)\n",
      "Requirement already satisfied: werkzeug>=1.0.1 in c:\\users\\dhamn\\anaconda3\\lib\\site-packages (from tensorboard<2.14,>=2.13->tensorflow-intel==2.13.0->tensorflow) (1.0.1)\n",
      "Requirement already satisfied: google-auth<3,>=1.6.3 in c:\\users\\dhamn\\anaconda3\\lib\\site-packages (from tensorboard<2.14,>=2.13->tensorflow-intel==2.13.0->tensorflow) (2.22.0)\n",
      "Requirement already satisfied: google-auth-oauthlib<1.1,>=0.5 in c:\\users\\dhamn\\anaconda3\\lib\\site-packages (from tensorboard<2.14,>=2.13->tensorflow-intel==2.13.0->tensorflow) (1.0.0)\n",
      "Requirement already satisfied: markdown>=2.6.8 in c:\\users\\dhamn\\anaconda3\\lib\\site-packages (from tensorboard<2.14,>=2.13->tensorflow-intel==2.13.0->tensorflow) (3.4.4)\n",
      "Requirement already satisfied: requests<3,>=2.21.0 in c:\\users\\dhamn\\anaconda3\\lib\\site-packages (from tensorboard<2.14,>=2.13->tensorflow-intel==2.13.0->tensorflow) (2.25.1)\n",
      "Requirement already satisfied: tensorboard-data-server<0.8.0,>=0.7.0 in c:\\users\\dhamn\\anaconda3\\lib\\site-packages (from tensorboard<2.14,>=2.13->tensorflow-intel==2.13.0->tensorflow) (0.7.1)\n",
      "Requirement already satisfied: rsa<5,>=3.1.4 in c:\\users\\dhamn\\anaconda3\\lib\\site-packages (from google-auth<3,>=1.6.3->tensorboard<2.14,>=2.13->tensorflow-intel==2.13.0->tensorflow) (4.7.2)\n",
      "Requirement already satisfied: cachetools<6.0,>=2.0.0 in c:\\users\\dhamn\\anaconda3\\lib\\site-packages (from google-auth<3,>=1.6.3->tensorboard<2.14,>=2.13->tensorflow-intel==2.13.0->tensorflow) (5.3.1)\n",
      "Requirement already satisfied: urllib3<2.0 in c:\\users\\dhamn\\anaconda3\\lib\\site-packages (from google-auth<3,>=1.6.3->tensorboard<2.14,>=2.13->tensorflow-intel==2.13.0->tensorflow) (1.26.4)\n",
      "Requirement already satisfied: pyasn1-modules>=0.2.1 in c:\\users\\dhamn\\anaconda3\\lib\\site-packages (from google-auth<3,>=1.6.3->tensorboard<2.14,>=2.13->tensorflow-intel==2.13.0->tensorflow) (0.3.0)\n",
      "Requirement already satisfied: requests-oauthlib>=0.7.0 in c:\\users\\dhamn\\anaconda3\\lib\\site-packages (from google-auth-oauthlib<1.1,>=0.5->tensorboard<2.14,>=2.13->tensorflow-intel==2.13.0->tensorflow) (1.3.1)\n",
      "Requirement already satisfied: importlib-metadata>=4.4 in c:\\users\\dhamn\\anaconda3\\lib\\site-packages (from markdown>=2.6.8->tensorboard<2.14,>=2.13->tensorflow-intel==2.13.0->tensorflow) (6.8.0)\n",
      "Requirement already satisfied: zipp>=0.5 in c:\\users\\dhamn\\anaconda3\\lib\\site-packages (from importlib-metadata>=4.4->markdown>=2.6.8->tensorboard<2.14,>=2.13->tensorflow-intel==2.13.0->tensorflow) (3.4.1)\n",
      "Requirement already satisfied: pyasn1<0.6.0,>=0.4.6 in c:\\users\\dhamn\\anaconda3\\lib\\site-packages (from pyasn1-modules>=0.2.1->google-auth<3,>=1.6.3->tensorboard<2.14,>=2.13->tensorflow-intel==2.13.0->tensorflow) (0.5.0)\n",
      "Requirement already satisfied: chardet<5,>=3.0.2 in c:\\users\\dhamn\\anaconda3\\lib\\site-packages (from requests<3,>=2.21.0->tensorboard<2.14,>=2.13->tensorflow-intel==2.13.0->tensorflow) (4.0.0)\n",
      "Requirement already satisfied: idna<3,>=2.5 in c:\\users\\dhamn\\anaconda3\\lib\\site-packages (from requests<3,>=2.21.0->tensorboard<2.14,>=2.13->tensorflow-intel==2.13.0->tensorflow) (2.10)\n",
      "Requirement already satisfied: certifi>=2017.4.17 in c:\\users\\dhamn\\anaconda3\\lib\\site-packages (from requests<3,>=2.21.0->tensorboard<2.14,>=2.13->tensorflow-intel==2.13.0->tensorflow) (2020.12.5)\n",
      "Requirement already satisfied: oauthlib>=3.0.0 in c:\\users\\dhamn\\anaconda3\\lib\\site-packages (from requests-oauthlib>=0.7.0->google-auth-oauthlib<1.1,>=0.5->tensorboard<2.14,>=2.13->tensorflow-intel==2.13.0->tensorflow) (3.2.2)\n",
      "Requirement already satisfied: pyparsing>=2.0.2 in c:\\users\\dhamn\\anaconda3\\lib\\site-packages (from packaging->tensorflow-intel==2.13.0->tensorflow) (2.4.7)\n"
     ]
    }
   ],
   "source": [
    "! pip install tensorflow"
   ]
  },
  {
   "cell_type": "code",
   "execution_count": 8,
   "id": "5575da8a",
   "metadata": {},
   "outputs": [
    {
     "name": "stdout",
     "output_type": "stream",
     "text": [
      "Obtaining file:///C:/Users/dhamn/Documents/GitHub/AA-Forecast (from -r requirements.txt (line 2))\n",
      "Requirement already satisfied: click in c:\\users\\dhamn\\anaconda3\\lib\\site-packages (from -r requirements.txt (line 5)) (7.1.2)\n",
      "Requirement already satisfied: Sphinx in c:\\users\\dhamn\\anaconda3\\lib\\site-packages (from -r requirements.txt (line 6)) (4.0.1)\n",
      "Collecting coverage\n",
      "  Downloading coverage-7.2.7-cp38-cp38-win_amd64.whl (204 kB)\n",
      "Collecting awscli\n",
      "  Downloading awscli-1.29.25-py3-none-any.whl (4.2 MB)\n",
      "Requirement already satisfied: flake8 in c:\\users\\dhamn\\anaconda3\\lib\\site-packages (from -r requirements.txt (line 9)) (3.9.0)\n",
      "Collecting python-dotenv>=0.5.1\n",
      "  Using cached python_dotenv-1.0.0-py3-none-any.whl (19 kB)\n",
      "Collecting docutils<0.17,>=0.10\n",
      "  Downloading docutils-0.16-py2.py3-none-any.whl (548 kB)\n",
      "Collecting botocore==1.31.25\n",
      "  Downloading botocore-1.31.25-py3-none-any.whl (11.1 MB)\n",
      "Requirement already satisfied: PyYAML<6.1,>=3.10 in c:\\users\\dhamn\\anaconda3\\lib\\site-packages (from awscli->-r requirements.txt (line 8)) (5.4.1)\n",
      "Requirement already satisfied: colorama<0.4.5,>=0.2.5 in c:\\users\\dhamn\\anaconda3\\lib\\site-packages (from awscli->-r requirements.txt (line 8)) (0.4.4)\n",
      "Collecting rsa<4.8,>=3.1.2\n",
      "  Downloading rsa-4.7.2-py3-none-any.whl (34 kB)\n",
      "Collecting s3transfer<0.7.0,>=0.6.0\n",
      "  Downloading s3transfer-0.6.1-py3-none-any.whl (79 kB)\n",
      "Collecting jmespath<2.0.0,>=0.7.1\n",
      "  Downloading jmespath-1.0.1-py3-none-any.whl (20 kB)\n",
      "Requirement already satisfied: python-dateutil<3.0.0,>=2.1 in c:\\users\\dhamn\\anaconda3\\lib\\site-packages (from botocore==1.31.25->awscli->-r requirements.txt (line 8)) (2.8.1)\n",
      "Requirement already satisfied: urllib3<1.27,>=1.25.4 in c:\\users\\dhamn\\anaconda3\\lib\\site-packages (from botocore==1.31.25->awscli->-r requirements.txt (line 8)) (1.26.4)\n",
      "Requirement already satisfied: six>=1.5 in c:\\users\\dhamn\\anaconda3\\lib\\site-packages (from python-dateutil<3.0.0,>=2.1->botocore==1.31.25->awscli->-r requirements.txt (line 8)) (1.15.0)\n",
      "Requirement already satisfied: pyasn1>=0.1.3 in c:\\users\\dhamn\\anaconda3\\lib\\site-packages (from rsa<4.8,>=3.1.2->awscli->-r requirements.txt (line 8)) (0.5.0)\n",
      "Requirement already satisfied: mccabe<0.7.0,>=0.6.0 in c:\\users\\dhamn\\anaconda3\\lib\\site-packages (from flake8->-r requirements.txt (line 9)) (0.6.1)\n",
      "Collecting pycodestyle<2.8.0,>=2.7.0\n",
      "  Using cached pycodestyle-2.7.0-py2.py3-none-any.whl (41 kB)\n",
      "Collecting pyflakes<2.4.0,>=2.3.0\n",
      "  Using cached pyflakes-2.3.1-py2.py3-none-any.whl (68 kB)\n",
      "Requirement already satisfied: sphinxcontrib-htmlhelp in c:\\users\\dhamn\\anaconda3\\lib\\site-packages (from Sphinx->-r requirements.txt (line 6)) (1.0.3)\n",
      "Requirement already satisfied: alabaster<0.8,>=0.7 in c:\\users\\dhamn\\anaconda3\\lib\\site-packages (from Sphinx->-r requirements.txt (line 6)) (0.7.12)\n",
      "Requirement already satisfied: snowballstemmer>=1.1 in c:\\users\\dhamn\\anaconda3\\lib\\site-packages (from Sphinx->-r requirements.txt (line 6)) (2.1.0)\n",
      "Requirement already satisfied: sphinxcontrib-serializinghtml in c:\\users\\dhamn\\anaconda3\\lib\\site-packages (from Sphinx->-r requirements.txt (line 6)) (1.1.4)\n",
      "Requirement already satisfied: sphinxcontrib-devhelp in c:\\users\\dhamn\\anaconda3\\lib\\site-packages (from Sphinx->-r requirements.txt (line 6)) (1.0.2)\n",
      "Requirement already satisfied: packaging in c:\\users\\dhamn\\anaconda3\\lib\\site-packages (from Sphinx->-r requirements.txt (line 6)) (20.9)\n",
      "Requirement already satisfied: sphinxcontrib-jsmath in c:\\users\\dhamn\\anaconda3\\lib\\site-packages (from Sphinx->-r requirements.txt (line 6)) (1.0.1)\n",
      "Requirement already satisfied: setuptools in c:\\users\\dhamn\\anaconda3\\lib\\site-packages (from Sphinx->-r requirements.txt (line 6)) (52.0.0.post20210125)\n",
      "Requirement already satisfied: sphinxcontrib-applehelp in c:\\users\\dhamn\\anaconda3\\lib\\site-packages (from Sphinx->-r requirements.txt (line 6)) (1.0.2)\n",
      "Requirement already satisfied: Jinja2<3.0,>=2.3 in c:\\users\\dhamn\\anaconda3\\lib\\site-packages (from Sphinx->-r requirements.txt (line 6)) (2.11.3)\n",
      "Requirement already satisfied: Pygments>=2.0 in c:\\users\\dhamn\\anaconda3\\lib\\site-packages (from Sphinx->-r requirements.txt (line 6)) (2.8.1)\n",
      "Requirement already satisfied: babel>=1.3 in c:\\users\\dhamn\\anaconda3\\lib\\site-packages (from Sphinx->-r requirements.txt (line 6)) (2.9.0)\n",
      "Requirement already satisfied: sphinxcontrib-qthelp in c:\\users\\dhamn\\anaconda3\\lib\\site-packages (from Sphinx->-r requirements.txt (line 6)) (1.0.3)\n",
      "Requirement already satisfied: requests>=2.5.0 in c:\\users\\dhamn\\anaconda3\\lib\\site-packages (from Sphinx->-r requirements.txt (line 6)) (2.25.1)\n",
      "Requirement already satisfied: MarkupSafe<2.0 in c:\\users\\dhamn\\anaconda3\\lib\\site-packages (from Sphinx->-r requirements.txt (line 6)) (1.1.1)\n",
      "Requirement already satisfied: imagesize in c:\\users\\dhamn\\anaconda3\\lib\\site-packages (from Sphinx->-r requirements.txt (line 6)) (1.2.0)\n",
      "Requirement already satisfied: pytz>=2015.7 in c:\\users\\dhamn\\anaconda3\\lib\\site-packages (from babel>=1.3->Sphinx->-r requirements.txt (line 6)) (2021.1)\n",
      "Requirement already satisfied: chardet<5,>=3.0.2 in c:\\users\\dhamn\\anaconda3\\lib\\site-packages (from requests>=2.5.0->Sphinx->-r requirements.txt (line 6)) (4.0.0)\n",
      "Requirement already satisfied: certifi>=2017.4.17 in c:\\users\\dhamn\\anaconda3\\lib\\site-packages (from requests>=2.5.0->Sphinx->-r requirements.txt (line 6)) (2020.12.5)\n",
      "Requirement already satisfied: idna<3,>=2.5 in c:\\users\\dhamn\\anaconda3\\lib\\site-packages (from requests>=2.5.0->Sphinx->-r requirements.txt (line 6)) (2.10)\n",
      "Requirement already satisfied: pyparsing>=2.0.2 in c:\\users\\dhamn\\anaconda3\\lib\\site-packages (from packaging->Sphinx->-r requirements.txt (line 6)) (2.4.7)\n",
      "Installing collected packages: jmespath, botocore, s3transfer, rsa, pyflakes, pycodestyle, docutils, src, python-dotenv, coverage, awscli\n",
      "  Attempting uninstall: rsa\n",
      "    Found existing installation: rsa 4.9\n",
      "    Uninstalling rsa-4.9:\n",
      "      Successfully uninstalled rsa-4.9\n",
      "  Attempting uninstall: pyflakes\n",
      "    Found existing installation: pyflakes 2.2.0\n",
      "    Uninstalling pyflakes-2.2.0:\n",
      "      Successfully uninstalled pyflakes-2.2.0\n",
      "  Attempting uninstall: pycodestyle\n",
      "    Found existing installation: pycodestyle 2.6.0\n",
      "    Uninstalling pycodestyle-2.6.0:\n",
      "      Successfully uninstalled pycodestyle-2.6.0\n",
      "  Attempting uninstall: docutils\n",
      "    Found existing installation: docutils 0.17\n",
      "    Uninstalling docutils-0.17:\n",
      "      Successfully uninstalled docutils-0.17\n",
      "  Running setup.py develop for src\n",
      "Successfully installed awscli-1.29.25 botocore-1.31.25 coverage-7.2.7 docutils-0.16 jmespath-1.0.1 pycodestyle-2.7.0 pyflakes-2.3.1 python-dotenv-1.0.0 rsa-4.7.2 s3transfer-0.6.1 src\n"
     ]
    }
   ],
   "source": [
    "! pip install -r requirements.txt"
   ]
  },
  {
   "cell_type": "code",
   "execution_count": 8,
   "id": "071621b6",
   "metadata": {},
   "outputs": [],
   "source": [
    "import matplotlib.pylab as pylab\n",
    "from sklearn.metrics import mean_squared_log_error, mean_absolute_error, mean_squared_error\n",
    "from tensorflow.keras import backend as K\n",
    "from tensorflow.keras.layers import *\n",
    "from tensorflow.keras.models import *\n",
    "import tensorflow as tf\n",
    "from sklearn.model_selection import train_test_split\n",
    "from sklearn.preprocessing import StandardScaler, MinMaxScaler\n",
    "import seaborn as sns\n",
    "import matplotlib.pyplot as plt\n",
    "import os\n",
    "import random\n",
    "import tqdm\n",
    "import pandas as pd\n",
    "import numpy as np\n",
    "\n",
    "plt.rcParams['figure.figsize'] = 12, 8\n"
   ]
  },
  {
   "cell_type": "code",
   "execution_count": 14,
   "id": "882864a3",
   "metadata": {},
   "outputs": [
    {
     "name": "stdout",
     "output_type": "stream",
     "text": [
      "(9936, 9)\n",
      "Total counties for Hotel category : 48\n",
      "Train counties for Hotel category : 38\n",
      "Test counties for Hotel category : 10\n"
     ]
    }
   ],
   "source": [
    "# Grid search\n",
    "# import talos\n",
    "\n",
    "df = pd.read_csv('./dataset/tax-sales-hurricane.csv', index_col=0)\n",
    "category = 'Hotel'\n",
    "print(df.shape)\n",
    "df.tail()\n",
    "countyNames = df[\"region\"].unique()\n",
    "countySplit = int(len(countyNames)*.8)\n",
    "trainCounties = countyNames[10:]\n",
    "testCounties = countyNames[0:10]\n",
    "print('Total counties for', category, \"category :\", len(countyNames))\n",
    "print('Train counties for', category, \"category :\", len(trainCounties))\n",
    "print('Test counties for', category, \"category :\", len(testCounties))\n",
    "\n",
    "df\n",
    "scaler = MinMaxScaler(feature_range=(0, 1))\n",
    "scaler = scaler.fit(\n",
    "    df[['hurricane', 'observed', 'residual'\t, 'seasonal'\t, 'trend']])\n",
    "df[['hurricane', 'observed', 'residual'\t, 'seasonal'\t, 'trend']] = scaler.transform(\n",
    "    df[['hurricane', 'observed', 'residual'\t, 'seasonal'\t, 'trend']])\n",
    "df\n",
    "\n",
    "testCounties = ['Lee', 'Collier', 'Hardee', 'Sarasota', 'Orange', 'Palm Beach']\n",
    "trainCounties = ['Alachua', 'Bay', 'Brevard', 'Broward', 'Citrus', 'Clay',\n",
    "                 'DeSoto', 'Dixie', 'Duval', 'Escambia', 'Franklin',\n",
    "                 'Gadsden', 'Gulf',  'Hendry', 'Hernando', 'Highlands',\n",
    "                 'Hillsborough', 'IndianRiver', 'Jefferson', 'Lake',  'Leon',\n",
    "                 'Levy', 'Manatee', 'Marion', 'Martin', 'Miami-Dade', 'Monroe',\n",
    "                 'Nassau', 'Okaloosa',  'Osceola',\n",
    "                 'Pinellas', 'Polk', 'Putnam', 'St. Johns', 'St. Lucie',\n",
    "                 'Santa Rosa',  'Seminole', 'Sumter', 'Suwannee',\n",
    "                 'Volusia', 'Wakulla', 'Walton']\n"
   ]
  },
  {
   "cell_type": "code",
   "execution_count": 15,
   "id": "4c194492",
   "metadata": {},
   "outputs": [],
   "source": [
    "### CREATE GENERATOR FOR LSTM WINDOWS AND LABELS ###\n",
    "lossmetric = 'mean_absolute_error'\n",
    "sequence_length = 8\n",
    "dropae = 0.1\n",
    "\n",
    "\n",
    "def gen_sequence(id_df, seq_length, seq_cols):\n",
    "\n",
    "    data_matrix = id_df[seq_cols].values\n",
    "    num_elements = data_matrix.shape[0]\n",
    "    for start, stop in zip(range(0, num_elements-seq_length), range(seq_length, num_elements)):\n",
    "        yield data_matrix[start:stop, :]\n",
    "\n",
    "\n",
    "def gen_labels(id_df, seq_length, label):\n",
    "\n",
    "    data_matrix = id_df[label].values\n",
    "    num_elements = data_matrix.shape[0]\n",
    "    return data_matrix[seq_length:num_elements, :]\n"
   ]
  },
  {
   "cell_type": "code",
   "execution_count": 16,
   "id": "5b8a3702",
   "metadata": {},
   "outputs": [
    {
     "data": {
      "text/plain": [
       "[0, 12, 24, 36, 48, 60, 72, 84, 96, 108, 120, 132, 144, 156, 168, 180, 192]"
      ]
     },
     "execution_count": 16,
     "metadata": {},
     "output_type": "execute_result"
    }
   ],
   "source": [
    "### CREATE TRAIN/TEST PRICE DATA ###\n",
    "X_train_c, X_train_o = [], []\n",
    "X_test_c, X_test_o = [], []\n",
    "X_other_train_c, X_other_train_o = [], []\n",
    "X_other_test_c, X_other_test_o = [], []\n",
    "\n",
    "for county in df[\"region\"].unique():\n",
    "\n",
    "    for sequence in gen_sequence(df[(df[\"region\"] == county) & (df[\"type\"] == \"Urban\")],\n",
    "                                 sequence_length, ['observed']):\n",
    "        if county in trainCounties:\n",
    "            X_train_c.append(sequence)\n",
    "\n",
    "    for sequence in gen_sequence(df[(df[\"region\"] == county) & (df[\"type\"] == \"Rural\")],\n",
    "                                 sequence_length, ['observed']):\n",
    "        if county in trainCounties:\n",
    "            X_train_o.append(sequence)\n",
    "\n",
    "    for sequence in gen_sequence(df[(df[\"region\"] == county) & (df[\"type\"] == \"Urban\")],\n",
    "                                 sequence_length, ['observed']):\n",
    "        if county in testCounties:\n",
    "            X_test_c.append(sequence)\n",
    "\n",
    "    for sequence in gen_sequence(df[(df[\"region\"] == county) & (df[\"type\"] == \"Rural\")],\n",
    "                                 sequence_length, ['observed']):\n",
    "        if county in testCounties:\n",
    "            X_test_o.append(sequence)\n",
    "\n",
    "\n",
    "X_train_c, X_train_o = np.asarray(X_train_c), np.asarray(X_train_o)\n",
    "X_test_c, X_test_o = np.asarray(X_test_c), np.asarray(X_test_o)\n",
    "y_train_c, y_train_o = [], []\n",
    "y_test_c, y_test_o = [], []\n",
    "y_other_train_c, y_other_train_o = [], []\n",
    "y_other_test_c, y_other_test_o = [], []\n",
    "\n",
    "for county in df[\"region\"].unique():\n",
    "\n",
    "    for sequence in gen_labels(df[(df[\"region\"] == county) & (df[\"type\"] == \"Urban\")],\n",
    "                               sequence_length, ['observed']):\n",
    "        if county in trainCounties:\n",
    "            y_train_c.append(sequence)\n",
    "\n",
    "    for sequence in gen_labels(df[(df[\"region\"] == county) & (df[\"type\"] == \"Rural\")],\n",
    "                               sequence_length, ['observed']):\n",
    "        if county in trainCounties:\n",
    "            y_train_o.append(sequence)\n",
    "\n",
    "    for sequence in gen_labels(df[(df[\"region\"] == county) & (df[\"type\"] == \"Urban\")],\n",
    "                               sequence_length, ['observed']):\n",
    "        if county in testCounties:\n",
    "            y_test_c.append(sequence)\n",
    "\n",
    "    for sequence in gen_labels(df[(df[\"region\"] == county) & (df[\"type\"] == \"Rural\")],\n",
    "                               sequence_length, ['observed']):\n",
    "        if county in testCounties:\n",
    "            y_test_o.append(sequence)\n",
    "\n",
    "\n",
    "y_train_c, y_train_o = np.asarray(y_train_c), np.asarray(y_train_o)\n",
    "y_test_c, y_test_o = np.asarray(y_test_c), np.asarray(y_test_o)\n",
    "df['year'].unique()\n",
    "splitTest = 197\n",
    "customXLabel = []\n",
    "for j in range(len(df['year'].unique())-1):\n",
    "    j = j*12\n",
    "    customXLabel.append(j)\n",
    "customXLabel"
   ]
  },
  {
   "cell_type": "code",
   "execution_count": 17,
   "id": "3bce3b14",
   "metadata": {},
   "outputs": [],
   "source": [
    "### CONCATENATE TRAIN/TEST DATA AND LABEL ###\n",
    "XUrban = np.concatenate([X_train_c, X_test_c], axis=0)\n",
    "XRural = np.concatenate([X_train_o, X_test_o], axis=0)\n",
    "\n",
    "yUrban = np.concatenate([y_train_c, y_test_c], axis=0)\n",
    "yRural = np.concatenate([y_train_o, y_test_o], axis=0)"
   ]
  },
  {
   "cell_type": "code",
   "execution_count": 18,
   "id": "b22e10bf",
   "metadata": {},
   "outputs": [
    {
     "name": "stdout",
     "output_type": "stream",
     "text": [
      "Urban:  (6169, 8, 1)  - Rural  (2388, 8, 1)\n"
     ]
    }
   ],
   "source": [
    "print('Urban: ', XUrban.shape, ' - Rural ', XRural.shape)"
   ]
  },
  {
   "cell_type": "code",
   "execution_count": 19,
   "id": "4ec16af3",
   "metadata": {},
   "outputs": [],
   "source": [
    "### CREATE TRAIN/TEST EXTERNAL FEATURES ###\n",
    "col = ['residual', \"seasonal\", 'trend', 'hurricane']\n",
    "\n",
    "f_train_c, f_train_o = [], []\n",
    "f_test_c, f_test_o = [], []\n",
    "f_other_train_c, f_other_train_o = [], []\n",
    "f_other_test_c, f_other_test_o = [], []\n",
    "\n",
    "\n",
    "for county in df[\"region\"].unique():\n",
    "\n",
    "    for sequence in gen_sequence(df[(df[\"region\"] == county) & (df[\"type\"] == \"Urban\")],\n",
    "                                 sequence_length, col):\n",
    "        if county in trainCounties:\n",
    "            f_train_c.append(sequence)\n",
    "\n",
    "    for sequence in gen_sequence(df[(df[\"region\"] == county) & (df[\"type\"] == \"Rural\")],\n",
    "                                 sequence_length, col):\n",
    "        if county in trainCounties:\n",
    "            f_train_o.append(sequence)\n",
    "\n",
    "    for sequence in gen_sequence(df[(df[\"region\"] == county) & (df[\"type\"] == \"Urban\")],\n",
    "                                 sequence_length, col):\n",
    "        if county in testCounties:\n",
    "            f_test_c.append(sequence)\n",
    "\n",
    "    for sequence in gen_sequence(df[(df[\"region\"] == county) & (df[\"type\"] == \"Rural\")],\n",
    "                                 sequence_length, col):\n",
    "        if county in testCounties:\n",
    "            f_test_o.append(sequence)\n",
    "\n",
    "\n",
    "f_train_c, f_train_o = np.asarray(f_train_c), np.asarray(f_train_o)\n",
    "f_test_c, f_test_o = np.asarray(f_test_c), np.asarray(f_test_o)"
   ]
  },
  {
   "cell_type": "code",
   "execution_count": 20,
   "id": "1b7edef6",
   "metadata": {},
   "outputs": [
    {
     "name": "stdout",
     "output_type": "stream",
     "text": [
      "(6169, 8, 4) (2388, 8, 4)\n"
     ]
    }
   ],
   "source": [
    "### CONCATENATE TRAIN/TEST EXTERNAL FEATURES ###\n",
    "F = np.concatenate([f_train_c, f_train_o, f_test_c, f_test_o], axis=0)\n",
    "FUrban = np.concatenate([f_train_c, f_test_c], axis=0)\n",
    "FRural = np.concatenate([f_train_o, f_test_o], axis=0)\n",
    "\n",
    "print(FUrban.shape, FRural.shape)\n"
   ]
  },
  {
   "cell_type": "code",
   "execution_count": 21,
   "id": "630cde1e",
   "metadata": {},
   "outputs": [],
   "source": [
    "\"\"\"# AutoEncoder Urban - Rural \"\"\"\n",
    "\n",
    "### SET SEED ###\n",
    "# tf.random.set_seed(47)\n",
    "os.environ['PYTHONHASHSEED'] = str(47)\n",
    "np.random.seed(47)\n",
    "random.seed(47)\n",
    "\n",
    "session_conf = tf.compat.v1.ConfigProto(\n",
    "    intra_op_parallelism_threads=1,\n",
    "    inter_op_parallelism_threads=1\n",
    ")\n",
    "sess = tf.compat.v1.Session(\n",
    "    graph=tf.compat.v1.get_default_graph(),\n",
    "    config=session_conf\n",
    ")\n",
    "tf.compat.v1.keras.backend.set_session(sess)\n"
   ]
  },
  {
   "cell_type": "code",
   "execution_count": 22,
   "id": "18fdc820",
   "metadata": {},
   "outputs": [],
   "source": [
    "### LSTM AUTOENCODER ###\n",
    "inputsUrbanAE = Input(shape=(sequence_length, 1))\n",
    "encodedUrbanAE = GRU(128, return_sequences=True, dropout=dropae)(\n",
    "    inputsUrbanAE, training=True)\n",
    "decodedUrbanAE = GRU(32, return_sequences=True, dropout=dropae)(\n",
    "    encodedUrbanAE, training=True)\n",
    "outputUrbanAE = TimeDistributed(Dense(1))(decodedUrbanAE)\n",
    "\n",
    "sequenceUrbanAE = Model(inputsUrbanAE, outputUrbanAE)\n",
    "sequenceUrbanAE.compile(\n",
    "    optimizer='adam', loss=lossmetric, metrics=[lossmetric])\n"
   ]
  },
  {
   "cell_type": "code",
   "execution_count": 23,
   "id": "2307167e",
   "metadata": {},
   "outputs": [
    {
     "name": "stdout",
     "output_type": "stream",
     "text": [
      "Epoch 1/30\n",
      "41/41 - 12s - loss: 0.0339 - mean_absolute_error: 0.0339 - 12s/epoch - 304ms/step\n",
      "Epoch 2/30\n",
      "41/41 - 2s - loss: 0.0215 - mean_absolute_error: 0.0215 - 2s/epoch - 50ms/step\n",
      "Epoch 3/30\n",
      "41/41 - 2s - loss: 0.0155 - mean_absolute_error: 0.0155 - 2s/epoch - 51ms/step\n",
      "Epoch 4/30\n",
      "41/41 - 2s - loss: 0.0126 - mean_absolute_error: 0.0126 - 2s/epoch - 50ms/step\n",
      "Epoch 5/30\n",
      "41/41 - 2s - loss: 0.0113 - mean_absolute_error: 0.0113 - 2s/epoch - 49ms/step\n",
      "Epoch 6/30\n",
      "41/41 - 2s - loss: 0.0124 - mean_absolute_error: 0.0124 - 2s/epoch - 49ms/step\n",
      "Epoch 7/30\n",
      "41/41 - 2s - loss: 0.0119 - mean_absolute_error: 0.0119 - 2s/epoch - 50ms/step\n",
      "Epoch 8/30\n",
      "41/41 - 2s - loss: 0.0122 - mean_absolute_error: 0.0122 - 2s/epoch - 50ms/step\n",
      "Epoch 9/30\n",
      "41/41 - 2s - loss: 0.0118 - mean_absolute_error: 0.0118 - 2s/epoch - 51ms/step\n",
      "Epoch 10/30\n",
      "41/41 - 2s - loss: 0.0118 - mean_absolute_error: 0.0118 - 2s/epoch - 50ms/step\n",
      "Epoch 11/30\n",
      "41/41 - 2s - loss: 0.0114 - mean_absolute_error: 0.0114 - 2s/epoch - 51ms/step\n",
      "Epoch 12/30\n",
      "41/41 - 2s - loss: 0.0114 - mean_absolute_error: 0.0114 - 2s/epoch - 51ms/step\n",
      "Epoch 13/30\n",
      "41/41 - 2s - loss: 0.0116 - mean_absolute_error: 0.0116 - 2s/epoch - 51ms/step\n",
      "Epoch 14/30\n",
      "41/41 - 2s - loss: 0.0112 - mean_absolute_error: 0.0112 - 2s/epoch - 51ms/step\n",
      "Epoch 15/30\n",
      "41/41 - 2s - loss: 0.0114 - mean_absolute_error: 0.0114 - 2s/epoch - 50ms/step\n",
      "Epoch 16/30\n",
      "41/41 - 2s - loss: 0.0117 - mean_absolute_error: 0.0117 - 2s/epoch - 51ms/step\n",
      "Epoch 17/30\n",
      "41/41 - 2s - loss: 0.0116 - mean_absolute_error: 0.0116 - 2s/epoch - 51ms/step\n",
      "Epoch 18/30\n",
      "41/41 - 2s - loss: 0.0114 - mean_absolute_error: 0.0114 - 2s/epoch - 51ms/step\n",
      "Epoch 19/30\n",
      "41/41 - 2s - loss: 0.0112 - mean_absolute_error: 0.0112 - 2s/epoch - 51ms/step\n",
      "Epoch 20/30\n",
      "41/41 - 2s - loss: 0.0111 - mean_absolute_error: 0.0111 - 2s/epoch - 52ms/step\n",
      "Epoch 21/30\n",
      "41/41 - 2s - loss: 0.0116 - mean_absolute_error: 0.0116 - 2s/epoch - 48ms/step\n",
      "Epoch 22/30\n",
      "41/41 - 2s - loss: 0.0113 - mean_absolute_error: 0.0113 - 2s/epoch - 47ms/step\n",
      "Epoch 23/30\n",
      "41/41 - 2s - loss: 0.0114 - mean_absolute_error: 0.0114 - 2s/epoch - 51ms/step\n",
      "Epoch 24/30\n",
      "41/41 - 2s - loss: 0.0114 - mean_absolute_error: 0.0114 - 2s/epoch - 50ms/step\n",
      "Epoch 25/30\n",
      "41/41 - 2s - loss: 0.0113 - mean_absolute_error: 0.0113 - 2s/epoch - 51ms/step\n",
      "Epoch 26/30\n",
      "41/41 - 2s - loss: 0.0112 - mean_absolute_error: 0.0112 - 2s/epoch - 50ms/step\n",
      "Epoch 27/30\n",
      "41/41 - 2s - loss: 0.0109 - mean_absolute_error: 0.0109 - 2s/epoch - 51ms/step\n",
      "Epoch 28/30\n",
      "41/41 - 2s - loss: 0.0115 - mean_absolute_error: 0.0115 - 2s/epoch - 52ms/step\n",
      "Epoch 29/30\n",
      "41/41 - 2s - loss: 0.0110 - mean_absolute_error: 0.0110 - 2s/epoch - 51ms/step\n",
      "Epoch 30/30\n",
      "41/41 - 2s - loss: 0.0110 - mean_absolute_error: 0.0110 - 2s/epoch - 51ms/step\n"
     ]
    }
   ],
   "source": [
    "### TRAIN AUTOENCODER ###\n",
    "sequenceUrbanAE.fit(XUrban[:len(X_train_c)], XUrban[:len(X_train_c)],\n",
    "                    # validation_data=(XUrban[len(X_train_c):], XUrban[len(X_train_c):]),\n",
    "                    batch_size=128, epochs=30, verbose=2, shuffle=False)\n",
    "os.environ['PYTHONHASHSEED'] = str(47)\n",
    "np.random.seed(47)\n",
    "random.seed(47)\n",
    "\n",
    "session_conf = tf.compat.v1.ConfigProto(\n",
    "    intra_op_parallelism_threads=1,\n",
    "    inter_op_parallelism_threads=1\n",
    ")\n",
    "sess = tf.compat.v1.Session(\n",
    "    graph=tf.compat.v1.get_default_graph(),\n",
    "    config=session_conf\n",
    ")\n",
    "tf.compat.v1.keras.backend.set_session(sess)"
   ]
  },
  {
   "cell_type": "code",
   "execution_count": 24,
   "id": "2b373bb7",
   "metadata": {},
   "outputs": [],
   "source": [
    "### LSTM AUTOENCODER ###\n",
    "inputsRuralAE = Input(shape=(sequence_length, 1))\n",
    "encodedRuralAE = GRU(128, return_sequences=True, dropout=dropae)(\n",
    "    inputsRuralAE, training=True)\n",
    "decodedRuralAE = GRU(32, return_sequences=True, dropout=dropae)(\n",
    "    encodedRuralAE, training=True)\n",
    "outputRuralAE = TimeDistributed(Dense(1))(decodedRuralAE)\n",
    "\n",
    "sequenceRuralAE = Model(inputsRuralAE, outputRuralAE)\n",
    "sequenceRuralAE.compile(\n",
    "    optimizer='adam', loss=lossmetric, metrics=[lossmetric])\n"
   ]
  },
  {
   "cell_type": "code",
   "execution_count": 25,
   "id": "00823a79",
   "metadata": {},
   "outputs": [
    {
     "name": "stdout",
     "output_type": "stream",
     "text": [
      "Epoch 1/5\n",
      "18/18 - 11s - loss: 0.0513 - mean_absolute_error: 0.0513 - 11s/epoch - 631ms/step\n",
      "Epoch 2/5\n",
      "18/18 - 1s - loss: 0.0361 - mean_absolute_error: 0.0361 - 886ms/epoch - 49ms/step\n",
      "Epoch 3/5\n",
      "18/18 - 1s - loss: 0.0293 - mean_absolute_error: 0.0293 - 908ms/epoch - 50ms/step\n",
      "Epoch 4/5\n",
      "18/18 - 1s - loss: 0.0246 - mean_absolute_error: 0.0246 - 895ms/epoch - 50ms/step\n",
      "Epoch 5/5\n",
      "18/18 - 1s - loss: 0.0202 - mean_absolute_error: 0.0202 - 907ms/epoch - 50ms/step\n"
     ]
    },
    {
     "data": {
      "text/plain": [
       "<keras.src.callbacks.History at 0x18cec4921c0>"
      ]
     },
     "execution_count": 25,
     "metadata": {},
     "output_type": "execute_result"
    }
   ],
   "source": [
    "### TRAIN AUTOENCODER ###\n",
    "sequenceRuralAE.fit(XRural[:len(X_train_o)], XRural[:len(X_train_o)],\n",
    "                    batch_size=128, epochs=5, verbose=2, shuffle=False)"
   ]
  },
  {
   "cell_type": "code",
   "execution_count": 64,
   "id": "21d1a93a",
   "metadata": {},
   "outputs": [
    {
     "name": "stdout",
     "output_type": "stream",
     "text": [
      "193/193 [==============================] - 2s 7ms/step\n"
     ]
    }
   ],
   "source": [
    "\"\"\"# GRU after AutoEncoder Urban & Rural\"\"\"\n",
    "\n",
    "os.environ['PYTHONHASHSEED'] = str(47)\n",
    "np.random.seed(47)\n",
    "random.seed(47)\n",
    "\n",
    "dropOut = 0.3\n",
    "epochs = 400\n",
    "lstmcell1Urban = 256\n",
    "lstmcell2Urban = 128\n",
    "dense1Urban = 64\n",
    "\n",
    "lstmcell1Rural = 128\n",
    "lstmcell2Rural = 32\n",
    "dense1Rural = 32\n",
    "\n",
    "\n",
    "encoderUrban = Model(inputsUrbanAE, encodedUrbanAE)\n",
    "XXUrban = encoderUrban.predict(XUrban)\n",
    "XXFUrban = np.concatenate([XXUrban, FUrban], axis=2)\n",
    "XXFUrban.shape\n",
    "X_train1Urban, X_test1Urban = XXFUrban[:len(\n",
    "    X_train_c)], XXFUrban[len(X_train_c):]\n",
    "y_train1Urban, y_test1Urban = yUrban[:len(y_train_c)], yUrban[len(y_train_c):]\n",
    "scaler1Urban = StandardScaler()\n",
    "X_train1Urban = scaler1Urban.fit_transform(\n",
    "    X_train1Urban.reshape(-1, XXFUrban.shape[-1])).reshape(-1, sequence_length, XXFUrban.shape[-1])\n",
    "X_test1Urban = scaler1Urban.transform(\n",
    "    X_test1Urban.reshape(-1, XXFUrban.shape[-1])).reshape(-1, sequence_length, XXFUrban.shape[-1])\n",
    "\n",
    "session_conf = tf.compat.v1.ConfigProto(\n",
    "    intra_op_parallelism_threads=1,\n",
    "    inter_op_parallelism_threads=1\n",
    ")\n",
    "sess = tf.compat.v1.Session(\n",
    "    graph=tf.compat.v1.get_default_graph(),\n",
    "    config=session_conf\n",
    ")\n",
    "tf.compat.v1.keras.backend.set_session(sess)\n"
   ]
  },
  {
   "cell_type": "code",
   "execution_count": 65,
   "id": "caaa660e",
   "metadata": {},
   "outputs": [],
   "source": [
    "### DEFINE FORECASTER ###\n",
    "inputs1 = Input(shape=(X_train1Urban.shape[1], X_train1Urban.shape[2]))\n",
    "lstm1 = GRU(lstmcell1Urban, return_sequences=True,\n",
    "            dropout=dropOut)(inputs1, training=True)\n",
    "lstm1 = GRU(lstmcell2Urban, return_sequences=False,\n",
    "            dropout=dropOut)(lstm1, training=True)\n",
    "dense1 = Dense(dense1Urban)(lstm1)\n",
    "out1 = Dense(1)(dense1)\n",
    "\n",
    "model1Urban = Model(inputs1, out1)\n",
    "model1Urban.compile(loss=lossmetric, optimizer='adam', metrics=[lossmetric])\n"
   ]
  },
  {
   "cell_type": "code",
   "execution_count": 66,
   "id": "eff8affa",
   "metadata": {},
   "outputs": [
    {
     "name": "stdout",
     "output_type": "stream",
     "text": [
      "Epoch 1/400\n",
      "32/32 - 17s - loss: 0.1735 - mean_absolute_error: 0.1735 - val_loss: 0.0608 - val_mean_absolute_error: 0.0608 - 17s/epoch - 528ms/step\n",
      "Epoch 2/400\n",
      "32/32 - 5s - loss: 0.0394 - mean_absolute_error: 0.0394 - val_loss: 0.0403 - val_mean_absolute_error: 0.0403 - 5s/epoch - 164ms/step\n",
      "Epoch 3/400\n",
      "32/32 - 5s - loss: 0.0291 - mean_absolute_error: 0.0291 - val_loss: 0.0319 - val_mean_absolute_error: 0.0319 - 5s/epoch - 164ms/step\n",
      "Epoch 4/400\n",
      "32/32 - 5s - loss: 0.0265 - mean_absolute_error: 0.0265 - val_loss: 0.0306 - val_mean_absolute_error: 0.0306 - 5s/epoch - 165ms/step\n",
      "Epoch 5/400\n",
      "32/32 - 5s - loss: 0.0249 - mean_absolute_error: 0.0249 - val_loss: 0.0317 - val_mean_absolute_error: 0.0317 - 5s/epoch - 162ms/step\n",
      "Epoch 6/400\n",
      "32/32 - 4s - loss: 0.0249 - mean_absolute_error: 0.0249 - val_loss: 0.0317 - val_mean_absolute_error: 0.0317 - 4s/epoch - 140ms/step\n",
      "Epoch 7/400\n",
      "32/32 - 5s - loss: 0.0239 - mean_absolute_error: 0.0239 - val_loss: 0.0336 - val_mean_absolute_error: 0.0336 - 5s/epoch - 146ms/step\n",
      "Epoch 8/400\n",
      "32/32 - 4s - loss: 0.0241 - mean_absolute_error: 0.0241 - val_loss: 0.0295 - val_mean_absolute_error: 0.0295 - 4s/epoch - 130ms/step\n",
      "Epoch 9/400\n",
      "32/32 - 4s - loss: 0.0238 - mean_absolute_error: 0.0238 - val_loss: 0.0296 - val_mean_absolute_error: 0.0296 - 4s/epoch - 121ms/step\n",
      "Epoch 10/400\n",
      "32/32 - 5s - loss: 0.0231 - mean_absolute_error: 0.0231 - val_loss: 0.0304 - val_mean_absolute_error: 0.0304 - 5s/epoch - 152ms/step\n",
      "Epoch 11/400\n",
      "32/32 - 5s - loss: 0.0226 - mean_absolute_error: 0.0226 - val_loss: 0.0335 - val_mean_absolute_error: 0.0335 - 5s/epoch - 164ms/step\n",
      "Epoch 12/400\n",
      "32/32 - 5s - loss: 0.0238 - mean_absolute_error: 0.0238 - val_loss: 0.0274 - val_mean_absolute_error: 0.0274 - 5s/epoch - 159ms/step\n",
      "Epoch 13/400\n",
      "32/32 - 5s - loss: 0.0225 - mean_absolute_error: 0.0225 - val_loss: 0.0299 - val_mean_absolute_error: 0.0299 - 5s/epoch - 159ms/step\n",
      "Epoch 14/400\n",
      "32/32 - 5s - loss: 0.0223 - mean_absolute_error: 0.0223 - val_loss: 0.0309 - val_mean_absolute_error: 0.0309 - 5s/epoch - 165ms/step\n",
      "Epoch 15/400\n",
      "32/32 - 5s - loss: 0.0217 - mean_absolute_error: 0.0217 - val_loss: 0.0278 - val_mean_absolute_error: 0.0278 - 5s/epoch - 166ms/step\n",
      "Epoch 16/400\n",
      "32/32 - 5s - loss: 0.0226 - mean_absolute_error: 0.0226 - val_loss: 0.0296 - val_mean_absolute_error: 0.0296 - 5s/epoch - 165ms/step\n",
      "Epoch 17/400\n",
      "32/32 - 5s - loss: 0.0219 - mean_absolute_error: 0.0219 - val_loss: 0.0290 - val_mean_absolute_error: 0.0290 - 5s/epoch - 165ms/step\n",
      "Epoch 18/400\n",
      "32/32 - 5s - loss: 0.0209 - mean_absolute_error: 0.0209 - val_loss: 0.0272 - val_mean_absolute_error: 0.0272 - 5s/epoch - 166ms/step\n",
      "Epoch 19/400\n",
      "32/32 - 5s - loss: 0.0209 - mean_absolute_error: 0.0209 - val_loss: 0.0281 - val_mean_absolute_error: 0.0281 - 5s/epoch - 166ms/step\n",
      "Epoch 20/400\n",
      "32/32 - 5s - loss: 0.0216 - mean_absolute_error: 0.0216 - val_loss: 0.0310 - val_mean_absolute_error: 0.0310 - 5s/epoch - 164ms/step\n",
      "Epoch 21/400\n",
      "32/32 - 5s - loss: 0.0216 - mean_absolute_error: 0.0216 - val_loss: 0.0259 - val_mean_absolute_error: 0.0259 - 5s/epoch - 164ms/step\n",
      "Epoch 22/400\n",
      "32/32 - 5s - loss: 0.0214 - mean_absolute_error: 0.0214 - val_loss: 0.0272 - val_mean_absolute_error: 0.0272 - 5s/epoch - 166ms/step\n",
      "Epoch 23/400\n",
      "32/32 - 5s - loss: 0.0210 - mean_absolute_error: 0.0210 - val_loss: 0.0263 - val_mean_absolute_error: 0.0263 - 5s/epoch - 165ms/step\n",
      "Epoch 24/400\n",
      "32/32 - 5s - loss: 0.0207 - mean_absolute_error: 0.0207 - val_loss: 0.0269 - val_mean_absolute_error: 0.0269 - 5s/epoch - 158ms/step\n",
      "Epoch 25/400\n",
      "32/32 - 5s - loss: 0.0209 - mean_absolute_error: 0.0209 - val_loss: 0.0288 - val_mean_absolute_error: 0.0288 - 5s/epoch - 165ms/step\n",
      "Epoch 26/400\n",
      "32/32 - 5s - loss: 0.0212 - mean_absolute_error: 0.0212 - val_loss: 0.0270 - val_mean_absolute_error: 0.0270 - 5s/epoch - 167ms/step\n",
      "Epoch 27/400\n",
      "32/32 - 5s - loss: 0.0212 - mean_absolute_error: 0.0212 - val_loss: 0.0273 - val_mean_absolute_error: 0.0273 - 5s/epoch - 165ms/step\n",
      "Epoch 28/400\n",
      "32/32 - 5s - loss: 0.0207 - mean_absolute_error: 0.0207 - val_loss: 0.0278 - val_mean_absolute_error: 0.0278 - 5s/epoch - 164ms/step\n",
      "Epoch 29/400\n",
      "32/32 - 5s - loss: 0.0206 - mean_absolute_error: 0.0206 - val_loss: 0.0258 - val_mean_absolute_error: 0.0258 - 5s/epoch - 167ms/step\n",
      "Epoch 30/400\n",
      "32/32 - 5s - loss: 0.0212 - mean_absolute_error: 0.0212 - val_loss: 0.0270 - val_mean_absolute_error: 0.0270 - 5s/epoch - 159ms/step\n",
      "Epoch 31/400\n",
      "32/32 - 5s - loss: 0.0207 - mean_absolute_error: 0.0207 - val_loss: 0.0252 - val_mean_absolute_error: 0.0252 - 5s/epoch - 166ms/step\n",
      "Epoch 32/400\n",
      "32/32 - 5s - loss: 0.0202 - mean_absolute_error: 0.0202 - val_loss: 0.0274 - val_mean_absolute_error: 0.0274 - 5s/epoch - 166ms/step\n",
      "Epoch 33/400\n",
      "32/32 - 5s - loss: 0.0201 - mean_absolute_error: 0.0201 - val_loss: 0.0284 - val_mean_absolute_error: 0.0284 - 5s/epoch - 165ms/step\n",
      "Epoch 34/400\n",
      "32/32 - 5s - loss: 0.0215 - mean_absolute_error: 0.0215 - val_loss: 0.0252 - val_mean_absolute_error: 0.0252 - 5s/epoch - 166ms/step\n",
      "Epoch 35/400\n",
      "32/32 - 5s - loss: 0.0193 - mean_absolute_error: 0.0193 - val_loss: 0.0271 - val_mean_absolute_error: 0.0271 - 5s/epoch - 161ms/step\n",
      "Epoch 36/400\n",
      "32/32 - 5s - loss: 0.0210 - mean_absolute_error: 0.0210 - val_loss: 0.0285 - val_mean_absolute_error: 0.0285 - 5s/epoch - 163ms/step\n",
      "Epoch 37/400\n",
      "32/32 - 5s - loss: 0.0203 - mean_absolute_error: 0.0203 - val_loss: 0.0238 - val_mean_absolute_error: 0.0238 - 5s/epoch - 165ms/step\n",
      "Epoch 38/400\n",
      "32/32 - 5s - loss: 0.0202 - mean_absolute_error: 0.0202 - val_loss: 0.0253 - val_mean_absolute_error: 0.0253 - 5s/epoch - 165ms/step\n",
      "Epoch 39/400\n",
      "32/32 - 5s - loss: 0.0194 - mean_absolute_error: 0.0194 - val_loss: 0.0344 - val_mean_absolute_error: 0.0344 - 5s/epoch - 165ms/step\n",
      "Epoch 40/400\n",
      "32/32 - 5s - loss: 0.0222 - mean_absolute_error: 0.0222 - val_loss: 0.0288 - val_mean_absolute_error: 0.0288 - 5s/epoch - 167ms/step\n",
      "Epoch 41/400\n",
      "32/32 - 5s - loss: 0.0207 - mean_absolute_error: 0.0207 - val_loss: 0.0294 - val_mean_absolute_error: 0.0294 - 5s/epoch - 166ms/step\n",
      "Epoch 42/400\n",
      "32/32 - 5s - loss: 0.0203 - mean_absolute_error: 0.0203 - val_loss: 0.0264 - val_mean_absolute_error: 0.0264 - 5s/epoch - 166ms/step\n",
      "Epoch 43/400\n",
      "32/32 - 5s - loss: 0.0202 - mean_absolute_error: 0.0202 - val_loss: 0.0270 - val_mean_absolute_error: 0.0270 - 5s/epoch - 166ms/step\n",
      "Epoch 44/400\n",
      "32/32 - 5s - loss: 0.0196 - mean_absolute_error: 0.0196 - val_loss: 0.0249 - val_mean_absolute_error: 0.0249 - 5s/epoch - 165ms/step\n",
      "Epoch 45/400\n",
      "32/32 - 5s - loss: 0.0189 - mean_absolute_error: 0.0189 - val_loss: 0.0270 - val_mean_absolute_error: 0.0270 - 5s/epoch - 165ms/step\n",
      "Epoch 46/400\n",
      "32/32 - 5s - loss: 0.0202 - mean_absolute_error: 0.0202 - val_loss: 0.0270 - val_mean_absolute_error: 0.0270 - 5s/epoch - 164ms/step\n",
      "Epoch 47/400\n",
      "32/32 - 5s - loss: 0.0192 - mean_absolute_error: 0.0192 - val_loss: 0.0270 - val_mean_absolute_error: 0.0270 - 5s/epoch - 160ms/step\n",
      "Epoch 48/400\n",
      "32/32 - 5s - loss: 0.0200 - mean_absolute_error: 0.0200 - val_loss: 0.0263 - val_mean_absolute_error: 0.0263 - 5s/epoch - 166ms/step\n",
      "Epoch 49/400\n",
      "32/32 - 5s - loss: 0.0198 - mean_absolute_error: 0.0198 - val_loss: 0.0247 - val_mean_absolute_error: 0.0247 - 5s/epoch - 166ms/step\n",
      "Epoch 50/400\n",
      "32/32 - 5s - loss: 0.0191 - mean_absolute_error: 0.0191 - val_loss: 0.0250 - val_mean_absolute_error: 0.0250 - 5s/epoch - 164ms/step\n",
      "Epoch 51/400\n",
      "32/32 - 5s - loss: 0.0191 - mean_absolute_error: 0.0191 - val_loss: 0.0270 - val_mean_absolute_error: 0.0270 - 5s/epoch - 165ms/step\n",
      "Epoch 52/400\n",
      "32/32 - 5s - loss: 0.0201 - mean_absolute_error: 0.0201 - val_loss: 0.0276 - val_mean_absolute_error: 0.0276 - 5s/epoch - 165ms/step\n",
      "Epoch 53/400\n",
      "32/32 - 5s - loss: 0.0202 - mean_absolute_error: 0.0202 - val_loss: 0.0280 - val_mean_absolute_error: 0.0280 - 5s/epoch - 165ms/step\n",
      "Epoch 54/400\n",
      "32/32 - 5s - loss: 0.0217 - mean_absolute_error: 0.0217 - val_loss: 0.0263 - val_mean_absolute_error: 0.0263 - 5s/epoch - 164ms/step\n",
      "Epoch 55/400\n",
      "32/32 - 5s - loss: 0.0207 - mean_absolute_error: 0.0207 - val_loss: 0.0278 - val_mean_absolute_error: 0.0278 - 5s/epoch - 166ms/step\n",
      "Epoch 56/400\n",
      "32/32 - 5s - loss: 0.0228 - mean_absolute_error: 0.0228 - val_loss: 0.0248 - val_mean_absolute_error: 0.0248 - 5s/epoch - 166ms/step\n",
      "Epoch 57/400\n",
      "32/32 - 5s - loss: 0.0198 - mean_absolute_error: 0.0198 - val_loss: 0.0246 - val_mean_absolute_error: 0.0246 - 5s/epoch - 152ms/step\n"
     ]
    },
    {
     "name": "stdout",
     "output_type": "stream",
     "text": [
      "Epoch 58/400\n",
      "32/32 - 5s - loss: 0.0193 - mean_absolute_error: 0.0193 - val_loss: 0.0248 - val_mean_absolute_error: 0.0248 - 5s/epoch - 157ms/step\n",
      "Epoch 59/400\n",
      "32/32 - 5s - loss: 0.0199 - mean_absolute_error: 0.0199 - val_loss: 0.0252 - val_mean_absolute_error: 0.0252 - 5s/epoch - 164ms/step\n",
      "Epoch 60/400\n",
      "32/32 - 5s - loss: 0.0191 - mean_absolute_error: 0.0191 - val_loss: 0.0254 - val_mean_absolute_error: 0.0254 - 5s/epoch - 166ms/step\n",
      "Epoch 61/400\n",
      "32/32 - 5s - loss: 0.0196 - mean_absolute_error: 0.0196 - val_loss: 0.0272 - val_mean_absolute_error: 0.0272 - 5s/epoch - 165ms/step\n",
      "Epoch 62/400\n",
      "32/32 - 5s - loss: 0.0199 - mean_absolute_error: 0.0199 - val_loss: 0.0248 - val_mean_absolute_error: 0.0248 - 5s/epoch - 164ms/step\n",
      "Epoch 63/400\n",
      "32/32 - 5s - loss: 0.0179 - mean_absolute_error: 0.0179 - val_loss: 0.0259 - val_mean_absolute_error: 0.0259 - 5s/epoch - 166ms/step\n",
      "Epoch 64/400\n",
      "32/32 - 5s - loss: 0.0188 - mean_absolute_error: 0.0188 - val_loss: 0.0248 - val_mean_absolute_error: 0.0248 - 5s/epoch - 165ms/step\n",
      "Epoch 65/400\n",
      "32/32 - 5s - loss: 0.0183 - mean_absolute_error: 0.0183 - val_loss: 0.0271 - val_mean_absolute_error: 0.0271 - 5s/epoch - 167ms/step\n",
      "Epoch 66/400\n",
      "32/32 - 5s - loss: 0.0190 - mean_absolute_error: 0.0190 - val_loss: 0.0230 - val_mean_absolute_error: 0.0230 - 5s/epoch - 167ms/step\n",
      "Epoch 67/400\n",
      "32/32 - 5s - loss: 0.0179 - mean_absolute_error: 0.0179 - val_loss: 0.0261 - val_mean_absolute_error: 0.0261 - 5s/epoch - 165ms/step\n",
      "Epoch 68/400\n",
      "32/32 - 5s - loss: 0.0187 - mean_absolute_error: 0.0187 - val_loss: 0.0267 - val_mean_absolute_error: 0.0267 - 5s/epoch - 165ms/step\n",
      "Epoch 69/400\n",
      "32/32 - 5s - loss: 0.0187 - mean_absolute_error: 0.0187 - val_loss: 0.0266 - val_mean_absolute_error: 0.0266 - 5s/epoch - 163ms/step\n",
      "Epoch 70/400\n",
      "32/32 - 5s - loss: 0.0187 - mean_absolute_error: 0.0187 - val_loss: 0.0262 - val_mean_absolute_error: 0.0262 - 5s/epoch - 163ms/step\n",
      "Epoch 71/400\n",
      "32/32 - 5s - loss: 0.0180 - mean_absolute_error: 0.0180 - val_loss: 0.0266 - val_mean_absolute_error: 0.0266 - 5s/epoch - 165ms/step\n",
      "Epoch 72/400\n",
      "32/32 - 5s - loss: 0.0179 - mean_absolute_error: 0.0179 - val_loss: 0.0257 - val_mean_absolute_error: 0.0257 - 5s/epoch - 167ms/step\n",
      "Epoch 73/400\n",
      "32/32 - 5s - loss: 0.0188 - mean_absolute_error: 0.0188 - val_loss: 0.0255 - val_mean_absolute_error: 0.0255 - 5s/epoch - 165ms/step\n",
      "Epoch 74/400\n",
      "32/32 - 5s - loss: 0.0183 - mean_absolute_error: 0.0183 - val_loss: 0.0276 - val_mean_absolute_error: 0.0276 - 5s/epoch - 165ms/step\n",
      "Epoch 75/400\n",
      "32/32 - 5s - loss: 0.0190 - mean_absolute_error: 0.0190 - val_loss: 0.0271 - val_mean_absolute_error: 0.0271 - 5s/epoch - 165ms/step\n",
      "Epoch 76/400\n",
      "32/32 - 5s - loss: 0.0187 - mean_absolute_error: 0.0187 - val_loss: 0.0300 - val_mean_absolute_error: 0.0300 - 5s/epoch - 165ms/step\n",
      "Epoch 77/400\n",
      "32/32 - 5s - loss: 0.0188 - mean_absolute_error: 0.0188 - val_loss: 0.0274 - val_mean_absolute_error: 0.0274 - 5s/epoch - 165ms/step\n",
      "Epoch 78/400\n",
      "32/32 - 5s - loss: 0.0186 - mean_absolute_error: 0.0186 - val_loss: 0.0266 - val_mean_absolute_error: 0.0266 - 5s/epoch - 165ms/step\n",
      "Epoch 79/400\n",
      "32/32 - 5s - loss: 0.0173 - mean_absolute_error: 0.0173 - val_loss: 0.0268 - val_mean_absolute_error: 0.0268 - 5s/epoch - 165ms/step\n",
      "Epoch 80/400\n",
      "32/32 - 5s - loss: 0.0186 - mean_absolute_error: 0.0186 - val_loss: 0.0246 - val_mean_absolute_error: 0.0246 - 5s/epoch - 167ms/step\n",
      "Epoch 81/400\n",
      "32/32 - 5s - loss: 0.0180 - mean_absolute_error: 0.0180 - val_loss: 0.0253 - val_mean_absolute_error: 0.0253 - 5s/epoch - 157ms/step\n",
      "Epoch 82/400\n",
      "32/32 - 5s - loss: 0.0195 - mean_absolute_error: 0.0195 - val_loss: 0.0289 - val_mean_absolute_error: 0.0289 - 5s/epoch - 165ms/step\n",
      "Epoch 83/400\n",
      "32/32 - 5s - loss: 0.0185 - mean_absolute_error: 0.0185 - val_loss: 0.0250 - val_mean_absolute_error: 0.0250 - 5s/epoch - 165ms/step\n",
      "Epoch 84/400\n",
      "32/32 - 5s - loss: 0.0182 - mean_absolute_error: 0.0182 - val_loss: 0.0276 - val_mean_absolute_error: 0.0276 - 5s/epoch - 166ms/step\n",
      "Epoch 85/400\n",
      "32/32 - 5s - loss: 0.0187 - mean_absolute_error: 0.0187 - val_loss: 0.0240 - val_mean_absolute_error: 0.0240 - 5s/epoch - 165ms/step\n",
      "Epoch 86/400\n",
      "32/32 - 5s - loss: 0.0171 - mean_absolute_error: 0.0171 - val_loss: 0.0278 - val_mean_absolute_error: 0.0278 - 5s/epoch - 166ms/step\n",
      "Epoch 87/400\n",
      "32/32 - 5s - loss: 0.0185 - mean_absolute_error: 0.0185 - val_loss: 0.0268 - val_mean_absolute_error: 0.0268 - 5s/epoch - 166ms/step\n",
      "Epoch 88/400\n",
      "32/32 - 5s - loss: 0.0174 - mean_absolute_error: 0.0174 - val_loss: 0.0262 - val_mean_absolute_error: 0.0262 - 5s/epoch - 163ms/step\n",
      "Epoch 89/400\n",
      "32/32 - 5s - loss: 0.0178 - mean_absolute_error: 0.0178 - val_loss: 0.0249 - val_mean_absolute_error: 0.0249 - 5s/epoch - 165ms/step\n",
      "Epoch 90/400\n",
      "32/32 - 5s - loss: 0.0178 - mean_absolute_error: 0.0178 - val_loss: 0.0246 - val_mean_absolute_error: 0.0246 - 5s/epoch - 164ms/step\n",
      "Epoch 91/400\n",
      "32/32 - 5s - loss: 0.0181 - mean_absolute_error: 0.0181 - val_loss: 0.0261 - val_mean_absolute_error: 0.0261 - 5s/epoch - 165ms/step\n",
      "Epoch 92/400\n",
      "32/32 - 5s - loss: 0.0171 - mean_absolute_error: 0.0171 - val_loss: 0.0261 - val_mean_absolute_error: 0.0261 - 5s/epoch - 161ms/step\n",
      "Epoch 93/400\n",
      "32/32 - 5s - loss: 0.0179 - mean_absolute_error: 0.0179 - val_loss: 0.0245 - val_mean_absolute_error: 0.0245 - 5s/epoch - 164ms/step\n",
      "Epoch 94/400\n",
      "32/32 - 5s - loss: 0.0175 - mean_absolute_error: 0.0175 - val_loss: 0.0264 - val_mean_absolute_error: 0.0264 - 5s/epoch - 166ms/step\n",
      "Epoch 95/400\n",
      "32/32 - 5s - loss: 0.0178 - mean_absolute_error: 0.0178 - val_loss: 0.0267 - val_mean_absolute_error: 0.0267 - 5s/epoch - 165ms/step\n",
      "Epoch 96/400\n",
      "32/32 - 5s - loss: 0.0179 - mean_absolute_error: 0.0179 - val_loss: 0.0267 - val_mean_absolute_error: 0.0267 - 5s/epoch - 164ms/step\n",
      "Epoch 97/400\n",
      "32/32 - 5s - loss: 0.0180 - mean_absolute_error: 0.0180 - val_loss: 0.0239 - val_mean_absolute_error: 0.0239 - 5s/epoch - 165ms/step\n",
      "Epoch 98/400\n",
      "32/32 - 5s - loss: 0.0173 - mean_absolute_error: 0.0173 - val_loss: 0.0241 - val_mean_absolute_error: 0.0241 - 5s/epoch - 166ms/step\n",
      "Epoch 99/400\n",
      "32/32 - 5s - loss: 0.0171 - mean_absolute_error: 0.0171 - val_loss: 0.0241 - val_mean_absolute_error: 0.0241 - 5s/epoch - 165ms/step\n",
      "Epoch 100/400\n",
      "32/32 - 5s - loss: 0.0171 - mean_absolute_error: 0.0171 - val_loss: 0.0244 - val_mean_absolute_error: 0.0244 - 5s/epoch - 164ms/step\n",
      "Epoch 101/400\n",
      "32/32 - 5s - loss: 0.0165 - mean_absolute_error: 0.0165 - val_loss: 0.0229 - val_mean_absolute_error: 0.0229 - 5s/epoch - 165ms/step\n",
      "Epoch 102/400\n",
      "32/32 - 5s - loss: 0.0167 - mean_absolute_error: 0.0167 - val_loss: 0.0229 - val_mean_absolute_error: 0.0229 - 5s/epoch - 166ms/step\n",
      "Epoch 103/400\n",
      "32/32 - 5s - loss: 0.0158 - mean_absolute_error: 0.0158 - val_loss: 0.0236 - val_mean_absolute_error: 0.0236 - 5s/epoch - 166ms/step\n",
      "Epoch 104/400\n",
      "32/32 - 5s - loss: 0.0159 - mean_absolute_error: 0.0159 - val_loss: 0.0221 - val_mean_absolute_error: 0.0221 - 5s/epoch - 157ms/step\n",
      "Epoch 105/400\n",
      "32/32 - 5s - loss: 0.0162 - mean_absolute_error: 0.0162 - val_loss: 0.0234 - val_mean_absolute_error: 0.0234 - 5s/epoch - 166ms/step\n",
      "Epoch 106/400\n",
      "32/32 - 5s - loss: 0.0161 - mean_absolute_error: 0.0161 - val_loss: 0.0230 - val_mean_absolute_error: 0.0230 - 5s/epoch - 164ms/step\n",
      "Epoch 107/400\n",
      "32/32 - 5s - loss: 0.0174 - mean_absolute_error: 0.0174 - val_loss: 0.0229 - val_mean_absolute_error: 0.0229 - 5s/epoch - 165ms/step\n",
      "Epoch 108/400\n",
      "32/32 - 5s - loss: 0.0166 - mean_absolute_error: 0.0166 - val_loss: 0.0243 - val_mean_absolute_error: 0.0243 - 5s/epoch - 165ms/step\n",
      "Epoch 109/400\n",
      "32/32 - 5s - loss: 0.0170 - mean_absolute_error: 0.0170 - val_loss: 0.0243 - val_mean_absolute_error: 0.0243 - 5s/epoch - 165ms/step\n",
      "Epoch 110/400\n",
      "32/32 - 5s - loss: 0.0171 - mean_absolute_error: 0.0171 - val_loss: 0.0249 - val_mean_absolute_error: 0.0249 - 5s/epoch - 165ms/step\n",
      "Epoch 111/400\n",
      "32/32 - 5s - loss: 0.0173 - mean_absolute_error: 0.0173 - val_loss: 0.0251 - val_mean_absolute_error: 0.0251 - 5s/epoch - 165ms/step\n",
      "Epoch 112/400\n",
      "32/32 - 5s - loss: 0.0166 - mean_absolute_error: 0.0166 - val_loss: 0.0223 - val_mean_absolute_error: 0.0223 - 5s/epoch - 165ms/step\n",
      "Epoch 113/400\n",
      "32/32 - 5s - loss: 0.0164 - mean_absolute_error: 0.0164 - val_loss: 0.0240 - val_mean_absolute_error: 0.0240 - 5s/epoch - 165ms/step\n",
      "Epoch 114/400\n"
     ]
    },
    {
     "name": "stdout",
     "output_type": "stream",
     "text": [
      "32/32 - 5s - loss: 0.0165 - mean_absolute_error: 0.0165 - val_loss: 0.0228 - val_mean_absolute_error: 0.0228 - 5s/epoch - 162ms/step\n",
      "Epoch 115/400\n",
      "32/32 - 5s - loss: 0.0160 - mean_absolute_error: 0.0160 - val_loss: 0.0230 - val_mean_absolute_error: 0.0230 - 5s/epoch - 159ms/step\n",
      "Epoch 116/400\n",
      "32/32 - 5s - loss: 0.0163 - mean_absolute_error: 0.0163 - val_loss: 0.0228 - val_mean_absolute_error: 0.0228 - 5s/epoch - 165ms/step\n",
      "Epoch 117/400\n",
      "32/32 - 5s - loss: 0.0166 - mean_absolute_error: 0.0166 - val_loss: 0.0237 - val_mean_absolute_error: 0.0237 - 5s/epoch - 166ms/step\n",
      "Epoch 118/400\n",
      "32/32 - 5s - loss: 0.0161 - mean_absolute_error: 0.0161 - val_loss: 0.0234 - val_mean_absolute_error: 0.0234 - 5s/epoch - 166ms/step\n",
      "Epoch 119/400\n",
      "32/32 - 5s - loss: 0.0160 - mean_absolute_error: 0.0160 - val_loss: 0.0228 - val_mean_absolute_error: 0.0228 - 5s/epoch - 165ms/step\n",
      "Epoch 120/400\n",
      "32/32 - 5s - loss: 0.0152 - mean_absolute_error: 0.0152 - val_loss: 0.0222 - val_mean_absolute_error: 0.0222 - 5s/epoch - 165ms/step\n",
      "Epoch 121/400\n",
      "32/32 - 5s - loss: 0.0154 - mean_absolute_error: 0.0154 - val_loss: 0.0237 - val_mean_absolute_error: 0.0237 - 5s/epoch - 165ms/step\n",
      "Epoch 122/400\n",
      "32/32 - 5s - loss: 0.0161 - mean_absolute_error: 0.0161 - val_loss: 0.0239 - val_mean_absolute_error: 0.0239 - 5s/epoch - 166ms/step\n",
      "Epoch 123/400\n",
      "32/32 - 5s - loss: 0.0154 - mean_absolute_error: 0.0154 - val_loss: 0.0223 - val_mean_absolute_error: 0.0223 - 5s/epoch - 165ms/step\n",
      "Epoch 124/400\n",
      "32/32 - 5s - loss: 0.0152 - mean_absolute_error: 0.0152 - val_loss: 0.0224 - val_mean_absolute_error: 0.0224 - 5s/epoch - 162ms/step\n",
      "Epoch 125/400\n",
      "32/32 - 5s - loss: 0.0155 - mean_absolute_error: 0.0155 - val_loss: 0.0227 - val_mean_absolute_error: 0.0227 - 5s/epoch - 159ms/step\n",
      "Epoch 126/400\n",
      "32/32 - 5s - loss: 0.0157 - mean_absolute_error: 0.0157 - val_loss: 0.0222 - val_mean_absolute_error: 0.0222 - 5s/epoch - 165ms/step\n",
      "Epoch 127/400\n",
      "32/32 - 5s - loss: 0.0152 - mean_absolute_error: 0.0152 - val_loss: 0.0217 - val_mean_absolute_error: 0.0217 - 5s/epoch - 161ms/step\n",
      "Epoch 128/400\n",
      "32/32 - 575s - loss: 0.0151 - mean_absolute_error: 0.0151 - val_loss: 0.0223 - val_mean_absolute_error: 0.0223 - 575s/epoch - 18s/step\n",
      "Epoch 129/400\n",
      "32/32 - 2s - loss: 0.0153 - mean_absolute_error: 0.0153 - val_loss: 0.0236 - val_mean_absolute_error: 0.0236 - 2s/epoch - 72ms/step\n",
      "Epoch 130/400\n",
      "32/32 - 3s - loss: 0.0159 - mean_absolute_error: 0.0159 - val_loss: 0.0224 - val_mean_absolute_error: 0.0224 - 3s/epoch - 86ms/step\n",
      "Epoch 131/400\n",
      "32/32 - 5s - loss: 0.0147 - mean_absolute_error: 0.0147 - val_loss: 0.0220 - val_mean_absolute_error: 0.0220 - 5s/epoch - 167ms/step\n",
      "Epoch 132/400\n",
      "32/32 - 5s - loss: 0.0152 - mean_absolute_error: 0.0152 - val_loss: 0.0215 - val_mean_absolute_error: 0.0215 - 5s/epoch - 164ms/step\n",
      "Epoch 133/400\n",
      "32/32 - 5s - loss: 0.0153 - mean_absolute_error: 0.0153 - val_loss: 0.0222 - val_mean_absolute_error: 0.0222 - 5s/epoch - 166ms/step\n",
      "Epoch 134/400\n",
      "32/32 - 5s - loss: 0.0154 - mean_absolute_error: 0.0154 - val_loss: 0.0215 - val_mean_absolute_error: 0.0215 - 5s/epoch - 166ms/step\n",
      "Epoch 135/400\n",
      "32/32 - 5s - loss: 0.0152 - mean_absolute_error: 0.0152 - val_loss: 0.0221 - val_mean_absolute_error: 0.0221 - 5s/epoch - 160ms/step\n",
      "Epoch 136/400\n",
      "32/32 - 5s - loss: 0.0153 - mean_absolute_error: 0.0153 - val_loss: 0.0211 - val_mean_absolute_error: 0.0211 - 5s/epoch - 164ms/step\n",
      "Epoch 137/400\n",
      "32/32 - 5s - loss: 0.0150 - mean_absolute_error: 0.0150 - val_loss: 0.0220 - val_mean_absolute_error: 0.0220 - 5s/epoch - 166ms/step\n",
      "Epoch 138/400\n",
      "32/32 - 5s - loss: 0.0155 - mean_absolute_error: 0.0155 - val_loss: 0.0222 - val_mean_absolute_error: 0.0222 - 5s/epoch - 166ms/step\n",
      "Epoch 139/400\n",
      "32/32 - 5s - loss: 0.0158 - mean_absolute_error: 0.0158 - val_loss: 0.0225 - val_mean_absolute_error: 0.0225 - 5s/epoch - 159ms/step\n",
      "Epoch 140/400\n",
      "32/32 - 5s - loss: 0.0159 - mean_absolute_error: 0.0159 - val_loss: 0.0232 - val_mean_absolute_error: 0.0232 - 5s/epoch - 166ms/step\n",
      "Epoch 141/400\n",
      "32/32 - 5s - loss: 0.0156 - mean_absolute_error: 0.0156 - val_loss: 0.0247 - val_mean_absolute_error: 0.0247 - 5s/epoch - 165ms/step\n",
      "Epoch 142/400\n",
      "32/32 - 5s - loss: 0.0151 - mean_absolute_error: 0.0151 - val_loss: 0.0239 - val_mean_absolute_error: 0.0239 - 5s/epoch - 164ms/step\n",
      "Epoch 143/400\n",
      "32/32 - 5s - loss: 0.0145 - mean_absolute_error: 0.0145 - val_loss: 0.0221 - val_mean_absolute_error: 0.0221 - 5s/epoch - 159ms/step\n",
      "Epoch 144/400\n",
      "32/32 - 5s - loss: 0.0144 - mean_absolute_error: 0.0144 - val_loss: 0.0219 - val_mean_absolute_error: 0.0219 - 5s/epoch - 155ms/step\n",
      "Epoch 145/400\n",
      "32/32 - 5s - loss: 0.0154 - mean_absolute_error: 0.0154 - val_loss: 0.0224 - val_mean_absolute_error: 0.0224 - 5s/epoch - 152ms/step\n",
      "Epoch 146/400\n",
      "32/32 - 4s - loss: 0.0146 - mean_absolute_error: 0.0146 - val_loss: 0.0223 - val_mean_absolute_error: 0.0223 - 4s/epoch - 139ms/step\n",
      "Epoch 147/400\n",
      "32/32 - 5s - loss: 0.0142 - mean_absolute_error: 0.0142 - val_loss: 0.0218 - val_mean_absolute_error: 0.0218 - 5s/epoch - 155ms/step\n",
      "Epoch 148/400\n",
      "32/32 - 5s - loss: 0.0140 - mean_absolute_error: 0.0140 - val_loss: 0.0211 - val_mean_absolute_error: 0.0211 - 5s/epoch - 160ms/step\n",
      "Epoch 149/400\n",
      "32/32 - 5s - loss: 0.0138 - mean_absolute_error: 0.0138 - val_loss: 0.0212 - val_mean_absolute_error: 0.0212 - 5s/epoch - 158ms/step\n",
      "Epoch 150/400\n",
      "32/32 - 5s - loss: 0.0138 - mean_absolute_error: 0.0138 - val_loss: 0.0207 - val_mean_absolute_error: 0.0207 - 5s/epoch - 161ms/step\n",
      "Epoch 151/400\n",
      "32/32 - 5s - loss: 0.0146 - mean_absolute_error: 0.0146 - val_loss: 0.0217 - val_mean_absolute_error: 0.0217 - 5s/epoch - 156ms/step\n",
      "Epoch 152/400\n",
      "32/32 - 5s - loss: 0.0146 - mean_absolute_error: 0.0146 - val_loss: 0.0222 - val_mean_absolute_error: 0.0222 - 5s/epoch - 165ms/step\n",
      "Epoch 153/400\n",
      "32/32 - 5s - loss: 0.0144 - mean_absolute_error: 0.0144 - val_loss: 0.0217 - val_mean_absolute_error: 0.0217 - 5s/epoch - 160ms/step\n",
      "Epoch 154/400\n",
      "32/32 - 5s - loss: 0.0143 - mean_absolute_error: 0.0143 - val_loss: 0.0227 - val_mean_absolute_error: 0.0227 - 5s/epoch - 165ms/step\n",
      "Epoch 155/400\n",
      "32/32 - 5s - loss: 0.0140 - mean_absolute_error: 0.0140 - val_loss: 0.0213 - val_mean_absolute_error: 0.0213 - 5s/epoch - 165ms/step\n",
      "Epoch 156/400\n",
      "32/32 - 5s - loss: 0.0137 - mean_absolute_error: 0.0137 - val_loss: 0.0206 - val_mean_absolute_error: 0.0206 - 5s/epoch - 166ms/step\n",
      "Epoch 157/400\n",
      "32/32 - 5s - loss: 0.0135 - mean_absolute_error: 0.0135 - val_loss: 0.0213 - val_mean_absolute_error: 0.0213 - 5s/epoch - 165ms/step\n",
      "Epoch 158/400\n",
      "32/32 - 5s - loss: 0.0137 - mean_absolute_error: 0.0137 - val_loss: 0.0214 - val_mean_absolute_error: 0.0214 - 5s/epoch - 163ms/step\n",
      "Epoch 159/400\n",
      "32/32 - 5s - loss: 0.0135 - mean_absolute_error: 0.0135 - val_loss: 0.0208 - val_mean_absolute_error: 0.0208 - 5s/epoch - 166ms/step\n",
      "Epoch 160/400\n",
      "32/32 - 5s - loss: 0.0129 - mean_absolute_error: 0.0129 - val_loss: 0.0207 - val_mean_absolute_error: 0.0207 - 5s/epoch - 165ms/step\n",
      "Epoch 161/400\n",
      "32/32 - 5s - loss: 0.0138 - mean_absolute_error: 0.0138 - val_loss: 0.0215 - val_mean_absolute_error: 0.0215 - 5s/epoch - 164ms/step\n",
      "Epoch 162/400\n",
      "32/32 - 5s - loss: 0.0140 - mean_absolute_error: 0.0140 - val_loss: 0.0213 - val_mean_absolute_error: 0.0213 - 5s/epoch - 161ms/step\n",
      "Epoch 163/400\n",
      "32/32 - 5s - loss: 0.0142 - mean_absolute_error: 0.0142 - val_loss: 0.0217 - val_mean_absolute_error: 0.0217 - 5s/epoch - 165ms/step\n",
      "Epoch 164/400\n",
      "32/32 - 5s - loss: 0.0132 - mean_absolute_error: 0.0132 - val_loss: 0.0220 - val_mean_absolute_error: 0.0220 - 5s/epoch - 165ms/step\n",
      "Epoch 165/400\n",
      "32/32 - 5s - loss: 0.0136 - mean_absolute_error: 0.0136 - val_loss: 0.0213 - val_mean_absolute_error: 0.0213 - 5s/epoch - 162ms/step\n",
      "Epoch 166/400\n",
      "32/32 - 5s - loss: 0.0132 - mean_absolute_error: 0.0132 - val_loss: 0.0219 - val_mean_absolute_error: 0.0219 - 5s/epoch - 166ms/step\n",
      "Epoch 167/400\n",
      "32/32 - 5s - loss: 0.0137 - mean_absolute_error: 0.0137 - val_loss: 0.0222 - val_mean_absolute_error: 0.0222 - 5s/epoch - 165ms/step\n",
      "Epoch 168/400\n",
      "32/32 - 5s - loss: 0.0132 - mean_absolute_error: 0.0132 - val_loss: 0.0221 - val_mean_absolute_error: 0.0221 - 5s/epoch - 166ms/step\n",
      "Epoch 169/400\n",
      "32/32 - 5s - loss: 0.0126 - mean_absolute_error: 0.0126 - val_loss: 0.0209 - val_mean_absolute_error: 0.0209 - 5s/epoch - 164ms/step\n"
     ]
    },
    {
     "name": "stdout",
     "output_type": "stream",
     "text": [
      "Epoch 170/400\n",
      "32/32 - 5s - loss: 0.0138 - mean_absolute_error: 0.0138 - val_loss: 0.0214 - val_mean_absolute_error: 0.0214 - 5s/epoch - 164ms/step\n",
      "Epoch 171/400\n",
      "32/32 - 5s - loss: 0.0133 - mean_absolute_error: 0.0133 - val_loss: 0.0209 - val_mean_absolute_error: 0.0209 - 5s/epoch - 164ms/step\n",
      "Epoch 172/400\n",
      "32/32 - 5s - loss: 0.0128 - mean_absolute_error: 0.0128 - val_loss: 0.0226 - val_mean_absolute_error: 0.0226 - 5s/epoch - 161ms/step\n",
      "Epoch 173/400\n",
      "32/32 - 5s - loss: 0.0129 - mean_absolute_error: 0.0129 - val_loss: 0.0224 - val_mean_absolute_error: 0.0224 - 5s/epoch - 165ms/step\n",
      "Epoch 174/400\n",
      "32/32 - 5s - loss: 0.0132 - mean_absolute_error: 0.0132 - val_loss: 0.0217 - val_mean_absolute_error: 0.0217 - 5s/epoch - 157ms/step\n",
      "Epoch 175/400\n",
      "32/32 - 5s - loss: 0.0137 - mean_absolute_error: 0.0137 - val_loss: 0.0217 - val_mean_absolute_error: 0.0217 - 5s/epoch - 164ms/step\n",
      "Epoch 176/400\n",
      "32/32 - 5s - loss: 0.0128 - mean_absolute_error: 0.0128 - val_loss: 0.0216 - val_mean_absolute_error: 0.0216 - 5s/epoch - 164ms/step\n",
      "Epoch 177/400\n",
      "32/32 - 5s - loss: 0.0130 - mean_absolute_error: 0.0130 - val_loss: 0.0214 - val_mean_absolute_error: 0.0214 - 5s/epoch - 165ms/step\n",
      "Epoch 178/400\n",
      "32/32 - 5s - loss: 0.0129 - mean_absolute_error: 0.0129 - val_loss: 0.0220 - val_mean_absolute_error: 0.0220 - 5s/epoch - 166ms/step\n",
      "Epoch 179/400\n",
      "32/32 - 5s - loss: 0.0138 - mean_absolute_error: 0.0138 - val_loss: 0.0220 - val_mean_absolute_error: 0.0220 - 5s/epoch - 165ms/step\n",
      "Epoch 180/400\n",
      "32/32 - 5s - loss: 0.0132 - mean_absolute_error: 0.0132 - val_loss: 0.0216 - val_mean_absolute_error: 0.0216 - 5s/epoch - 165ms/step\n",
      "Epoch 181/400\n",
      "32/32 - 5s - loss: 0.0124 - mean_absolute_error: 0.0124 - val_loss: 0.0220 - val_mean_absolute_error: 0.0220 - 5s/epoch - 165ms/step\n",
      "Epoch 182/400\n",
      "32/32 - 5s - loss: 0.0122 - mean_absolute_error: 0.0122 - val_loss: 0.0215 - val_mean_absolute_error: 0.0215 - 5s/epoch - 164ms/step\n",
      "Epoch 183/400\n",
      "32/32 - 5s - loss: 0.0123 - mean_absolute_error: 0.0123 - val_loss: 0.0240 - val_mean_absolute_error: 0.0240 - 5s/epoch - 164ms/step\n",
      "Epoch 184/400\n",
      "32/32 - 5s - loss: 0.0126 - mean_absolute_error: 0.0126 - val_loss: 0.0226 - val_mean_absolute_error: 0.0226 - 5s/epoch - 164ms/step\n",
      "Epoch 185/400\n",
      "32/32 - 5s - loss: 0.0122 - mean_absolute_error: 0.0122 - val_loss: 0.0223 - val_mean_absolute_error: 0.0223 - 5s/epoch - 159ms/step\n",
      "Epoch 186/400\n",
      "32/32 - 5s - loss: 0.0121 - mean_absolute_error: 0.0121 - val_loss: 0.0216 - val_mean_absolute_error: 0.0216 - 5s/epoch - 164ms/step\n",
      "Epoch 187/400\n",
      "32/32 - 5s - loss: 0.0125 - mean_absolute_error: 0.0125 - val_loss: 0.0219 - val_mean_absolute_error: 0.0219 - 5s/epoch - 165ms/step\n",
      "Epoch 188/400\n",
      "32/32 - 5s - loss: 0.0125 - mean_absolute_error: 0.0125 - val_loss: 0.0226 - val_mean_absolute_error: 0.0226 - 5s/epoch - 165ms/step\n",
      "Epoch 189/400\n",
      "32/32 - 5s - loss: 0.0124 - mean_absolute_error: 0.0124 - val_loss: 0.0219 - val_mean_absolute_error: 0.0219 - 5s/epoch - 165ms/step\n",
      "Epoch 190/400\n",
      "32/32 - 5s - loss: 0.0127 - mean_absolute_error: 0.0127 - val_loss: 0.0217 - val_mean_absolute_error: 0.0217 - 5s/epoch - 166ms/step\n",
      "Epoch 191/400\n",
      "32/32 - 5s - loss: 0.0123 - mean_absolute_error: 0.0123 - val_loss: 0.0217 - val_mean_absolute_error: 0.0217 - 5s/epoch - 165ms/step\n",
      "Epoch 192/400\n",
      "32/32 - 5s - loss: 0.0119 - mean_absolute_error: 0.0119 - val_loss: 0.0216 - val_mean_absolute_error: 0.0216 - 5s/epoch - 165ms/step\n",
      "Epoch 193/400\n",
      "32/32 - 5s - loss: 0.0119 - mean_absolute_error: 0.0119 - val_loss: 0.0226 - val_mean_absolute_error: 0.0226 - 5s/epoch - 167ms/step\n",
      "Epoch 194/400\n",
      "32/32 - 5s - loss: 0.0128 - mean_absolute_error: 0.0128 - val_loss: 0.0223 - val_mean_absolute_error: 0.0223 - 5s/epoch - 165ms/step\n",
      "Epoch 195/400\n",
      "32/32 - 5s - loss: 0.0118 - mean_absolute_error: 0.0118 - val_loss: 0.0226 - val_mean_absolute_error: 0.0226 - 5s/epoch - 163ms/step\n",
      "Epoch 196/400\n",
      "32/32 - 5s - loss: 0.0120 - mean_absolute_error: 0.0120 - val_loss: 0.0227 - val_mean_absolute_error: 0.0227 - 5s/epoch - 162ms/step\n",
      "Epoch 197/400\n",
      "32/32 - 5s - loss: 0.0123 - mean_absolute_error: 0.0123 - val_loss: 0.0219 - val_mean_absolute_error: 0.0219 - 5s/epoch - 160ms/step\n",
      "Epoch 198/400\n",
      "32/32 - 5s - loss: 0.0118 - mean_absolute_error: 0.0118 - val_loss: 0.0218 - val_mean_absolute_error: 0.0218 - 5s/epoch - 165ms/step\n",
      "Epoch 199/400\n",
      "32/32 - 5s - loss: 0.0131 - mean_absolute_error: 0.0131 - val_loss: 0.0221 - val_mean_absolute_error: 0.0221 - 5s/epoch - 165ms/step\n",
      "Epoch 200/400\n",
      "32/32 - 5s - loss: 0.0129 - mean_absolute_error: 0.0129 - val_loss: 0.0232 - val_mean_absolute_error: 0.0232 - 5s/epoch - 165ms/step\n",
      "Epoch 201/400\n",
      "32/32 - 5s - loss: 0.0128 - mean_absolute_error: 0.0128 - val_loss: 0.0220 - val_mean_absolute_error: 0.0220 - 5s/epoch - 160ms/step\n",
      "Epoch 202/400\n",
      "32/32 - 5s - loss: 0.0121 - mean_absolute_error: 0.0121 - val_loss: 0.0218 - val_mean_absolute_error: 0.0218 - 5s/epoch - 165ms/step\n",
      "Epoch 203/400\n",
      "32/32 - 5s - loss: 0.0119 - mean_absolute_error: 0.0119 - val_loss: 0.0237 - val_mean_absolute_error: 0.0237 - 5s/epoch - 165ms/step\n",
      "Epoch 204/400\n",
      "32/32 - 5s - loss: 0.0118 - mean_absolute_error: 0.0118 - val_loss: 0.0224 - val_mean_absolute_error: 0.0224 - 5s/epoch - 165ms/step\n",
      "Epoch 205/400\n",
      "32/32 - 5s - loss: 0.0118 - mean_absolute_error: 0.0118 - val_loss: 0.0227 - val_mean_absolute_error: 0.0227 - 5s/epoch - 166ms/step\n",
      "Epoch 206/400\n",
      "32/32 - 5s - loss: 0.0112 - mean_absolute_error: 0.0112 - val_loss: 0.0226 - val_mean_absolute_error: 0.0226 - 5s/epoch - 166ms/step\n",
      "Epoch 207/400\n",
      "32/32 - 5s - loss: 0.0119 - mean_absolute_error: 0.0119 - val_loss: 0.0224 - val_mean_absolute_error: 0.0224 - 5s/epoch - 165ms/step\n",
      "Epoch 208/400\n",
      "32/32 - 5s - loss: 0.0120 - mean_absolute_error: 0.0120 - val_loss: 0.0235 - val_mean_absolute_error: 0.0235 - 5s/epoch - 157ms/step\n",
      "Epoch 209/400\n",
      "32/32 - 5s - loss: 0.0116 - mean_absolute_error: 0.0116 - val_loss: 0.0219 - val_mean_absolute_error: 0.0219 - 5s/epoch - 165ms/step\n",
      "Epoch 210/400\n",
      "32/32 - 5s - loss: 0.0112 - mean_absolute_error: 0.0112 - val_loss: 0.0225 - val_mean_absolute_error: 0.0225 - 5s/epoch - 165ms/step\n",
      "Epoch 211/400\n",
      "32/32 - 5s - loss: 0.0114 - mean_absolute_error: 0.0114 - val_loss: 0.0226 - val_mean_absolute_error: 0.0226 - 5s/epoch - 167ms/step\n",
      "Epoch 212/400\n",
      "32/32 - 5s - loss: 0.0112 - mean_absolute_error: 0.0112 - val_loss: 0.0242 - val_mean_absolute_error: 0.0242 - 5s/epoch - 167ms/step\n",
      "Epoch 213/400\n",
      "32/32 - 5s - loss: 0.0125 - mean_absolute_error: 0.0125 - val_loss: 0.0238 - val_mean_absolute_error: 0.0238 - 5s/epoch - 167ms/step\n",
      "Epoch 214/400\n",
      "32/32 - 5s - loss: 0.0120 - mean_absolute_error: 0.0120 - val_loss: 0.0224 - val_mean_absolute_error: 0.0224 - 5s/epoch - 167ms/step\n",
      "Epoch 215/400\n",
      "32/32 - 5s - loss: 0.0119 - mean_absolute_error: 0.0119 - val_loss: 0.0229 - val_mean_absolute_error: 0.0229 - 5s/epoch - 167ms/step\n",
      "Epoch 216/400\n",
      "32/32 - 5s - loss: 0.0126 - mean_absolute_error: 0.0126 - val_loss: 0.0227 - val_mean_absolute_error: 0.0227 - 5s/epoch - 166ms/step\n",
      "Epoch 217/400\n",
      "32/32 - 5s - loss: 0.0114 - mean_absolute_error: 0.0114 - val_loss: 0.0239 - val_mean_absolute_error: 0.0239 - 5s/epoch - 166ms/step\n",
      "Epoch 218/400\n",
      "32/32 - 5s - loss: 0.0117 - mean_absolute_error: 0.0117 - val_loss: 0.0228 - val_mean_absolute_error: 0.0228 - 5s/epoch - 166ms/step\n",
      "Epoch 219/400\n",
      "32/32 - 5s - loss: 0.0117 - mean_absolute_error: 0.0117 - val_loss: 0.0233 - val_mean_absolute_error: 0.0233 - 5s/epoch - 163ms/step\n",
      "Epoch 220/400\n",
      "32/32 - 5s - loss: 0.0114 - mean_absolute_error: 0.0114 - val_loss: 0.0231 - val_mean_absolute_error: 0.0231 - 5s/epoch - 162ms/step\n",
      "Epoch 221/400\n",
      "32/32 - 5s - loss: 0.0116 - mean_absolute_error: 0.0116 - val_loss: 0.0232 - val_mean_absolute_error: 0.0232 - 5s/epoch - 167ms/step\n",
      "Epoch 222/400\n",
      "32/32 - 5s - loss: 0.0126 - mean_absolute_error: 0.0126 - val_loss: 0.0251 - val_mean_absolute_error: 0.0251 - 5s/epoch - 166ms/step\n",
      "Epoch 223/400\n",
      "32/32 - 5s - loss: 0.0123 - mean_absolute_error: 0.0123 - val_loss: 0.0237 - val_mean_absolute_error: 0.0237 - 5s/epoch - 165ms/step\n",
      "Epoch 224/400\n",
      "32/32 - 5s - loss: 0.0132 - mean_absolute_error: 0.0132 - val_loss: 0.0246 - val_mean_absolute_error: 0.0246 - 5s/epoch - 165ms/step\n",
      "Epoch 225/400\n",
      "32/32 - 5s - loss: 0.0126 - mean_absolute_error: 0.0126 - val_loss: 0.0250 - val_mean_absolute_error: 0.0250 - 5s/epoch - 165ms/step\n"
     ]
    },
    {
     "name": "stdout",
     "output_type": "stream",
     "text": [
      "Epoch 226/400\n",
      "32/32 - 5s - loss: 0.0123 - mean_absolute_error: 0.0123 - val_loss: 0.0233 - val_mean_absolute_error: 0.0233 - 5s/epoch - 164ms/step\n",
      "Epoch 227/400\n",
      "32/32 - 5s - loss: 0.0118 - mean_absolute_error: 0.0118 - val_loss: 0.0240 - val_mean_absolute_error: 0.0240 - 5s/epoch - 165ms/step\n",
      "Epoch 228/400\n",
      "32/32 - 5s - loss: 0.0121 - mean_absolute_error: 0.0121 - val_loss: 0.0236 - val_mean_absolute_error: 0.0236 - 5s/epoch - 165ms/step\n",
      "Epoch 229/400\n",
      "32/32 - 5s - loss: 0.0116 - mean_absolute_error: 0.0116 - val_loss: 0.0227 - val_mean_absolute_error: 0.0227 - 5s/epoch - 164ms/step\n",
      "Epoch 230/400\n",
      "32/32 - 5s - loss: 0.0118 - mean_absolute_error: 0.0118 - val_loss: 0.0240 - val_mean_absolute_error: 0.0240 - 5s/epoch - 164ms/step\n",
      "Epoch 231/400\n",
      "32/32 - 5s - loss: 0.0115 - mean_absolute_error: 0.0115 - val_loss: 0.0242 - val_mean_absolute_error: 0.0242 - 5s/epoch - 162ms/step\n",
      "Epoch 232/400\n",
      "32/32 - 5s - loss: 0.0105 - mean_absolute_error: 0.0105 - val_loss: 0.0226 - val_mean_absolute_error: 0.0226 - 5s/epoch - 166ms/step\n",
      "Epoch 233/400\n",
      "32/32 - 5s - loss: 0.0105 - mean_absolute_error: 0.0105 - val_loss: 0.0234 - val_mean_absolute_error: 0.0234 - 5s/epoch - 164ms/step\n",
      "Epoch 234/400\n",
      "32/32 - 5s - loss: 0.0106 - mean_absolute_error: 0.0106 - val_loss: 0.0225 - val_mean_absolute_error: 0.0225 - 5s/epoch - 165ms/step\n",
      "Epoch 235/400\n",
      "32/32 - 5s - loss: 0.0103 - mean_absolute_error: 0.0103 - val_loss: 0.0223 - val_mean_absolute_error: 0.0223 - 5s/epoch - 165ms/step\n",
      "Epoch 236/400\n",
      "32/32 - 5s - loss: 0.0103 - mean_absolute_error: 0.0103 - val_loss: 0.0221 - val_mean_absolute_error: 0.0221 - 5s/epoch - 166ms/step\n",
      "Epoch 237/400\n",
      "32/32 - 5s - loss: 0.0098 - mean_absolute_error: 0.0098 - val_loss: 0.0238 - val_mean_absolute_error: 0.0238 - 5s/epoch - 164ms/step\n",
      "Epoch 238/400\n",
      "32/32 - 5s - loss: 0.0103 - mean_absolute_error: 0.0103 - val_loss: 0.0233 - val_mean_absolute_error: 0.0233 - 5s/epoch - 165ms/step\n",
      "Epoch 239/400\n",
      "32/32 - 5s - loss: 0.0099 - mean_absolute_error: 0.0099 - val_loss: 0.0227 - val_mean_absolute_error: 0.0227 - 5s/epoch - 166ms/step\n",
      "Epoch 240/400\n",
      "32/32 - 5s - loss: 0.0099 - mean_absolute_error: 0.0099 - val_loss: 0.0219 - val_mean_absolute_error: 0.0219 - 5s/epoch - 166ms/step\n",
      "Epoch 241/400\n",
      "32/32 - 5s - loss: 0.0099 - mean_absolute_error: 0.0099 - val_loss: 0.0231 - val_mean_absolute_error: 0.0231 - 5s/epoch - 166ms/step\n",
      "Epoch 242/400\n",
      "32/32 - 5s - loss: 0.0103 - mean_absolute_error: 0.0103 - val_loss: 0.0233 - val_mean_absolute_error: 0.0233 - 5s/epoch - 160ms/step\n",
      "Epoch 243/400\n",
      "32/32 - 5s - loss: 0.0101 - mean_absolute_error: 0.0101 - val_loss: 0.0236 - val_mean_absolute_error: 0.0236 - 5s/epoch - 167ms/step\n",
      "Epoch 244/400\n",
      "32/32 - 5s - loss: 0.0099 - mean_absolute_error: 0.0099 - val_loss: 0.0228 - val_mean_absolute_error: 0.0228 - 5s/epoch - 166ms/step\n",
      "Epoch 245/400\n",
      "32/32 - 5s - loss: 0.0098 - mean_absolute_error: 0.0098 - val_loss: 0.0227 - val_mean_absolute_error: 0.0227 - 5s/epoch - 165ms/step\n",
      "Epoch 246/400\n",
      "32/32 - 5s - loss: 0.0098 - mean_absolute_error: 0.0098 - val_loss: 0.0238 - val_mean_absolute_error: 0.0238 - 5s/epoch - 166ms/step\n",
      "Epoch 247/400\n",
      "32/32 - 5s - loss: 0.0098 - mean_absolute_error: 0.0098 - val_loss: 0.0233 - val_mean_absolute_error: 0.0233 - 5s/epoch - 166ms/step\n",
      "Epoch 248/400\n",
      "32/32 - 5s - loss: 0.0099 - mean_absolute_error: 0.0099 - val_loss: 0.0228 - val_mean_absolute_error: 0.0228 - 5s/epoch - 163ms/step\n",
      "Epoch 249/400\n",
      "32/32 - 5s - loss: 0.0098 - mean_absolute_error: 0.0098 - val_loss: 0.0235 - val_mean_absolute_error: 0.0235 - 5s/epoch - 165ms/step\n",
      "Epoch 250/400\n",
      "32/32 - 5s - loss: 0.0100 - mean_absolute_error: 0.0100 - val_loss: 0.0226 - val_mean_absolute_error: 0.0226 - 5s/epoch - 165ms/step\n",
      "Epoch 251/400\n",
      "32/32 - 5s - loss: 0.0096 - mean_absolute_error: 0.0096 - val_loss: 0.0236 - val_mean_absolute_error: 0.0236 - 5s/epoch - 165ms/step\n",
      "Epoch 252/400\n",
      "32/32 - 5s - loss: 0.0096 - mean_absolute_error: 0.0096 - val_loss: 0.0228 - val_mean_absolute_error: 0.0228 - 5s/epoch - 165ms/step\n",
      "Epoch 253/400\n",
      "32/32 - 5s - loss: 0.0097 - mean_absolute_error: 0.0097 - val_loss: 0.0229 - val_mean_absolute_error: 0.0229 - 5s/epoch - 163ms/step\n",
      "Epoch 254/400\n",
      "32/32 - 5s - loss: 0.0094 - mean_absolute_error: 0.0094 - val_loss: 0.0231 - val_mean_absolute_error: 0.0231 - 5s/epoch - 164ms/step\n",
      "Epoch 255/400\n",
      "32/32 - 5s - loss: 0.0095 - mean_absolute_error: 0.0095 - val_loss: 0.0235 - val_mean_absolute_error: 0.0235 - 5s/epoch - 166ms/step\n",
      "Epoch 256/400\n",
      "32/32 - 5s - loss: 0.0097 - mean_absolute_error: 0.0097 - val_loss: 0.0228 - val_mean_absolute_error: 0.0228 - 5s/epoch - 166ms/step\n",
      "Epoch 257/400\n",
      "32/32 - 5s - loss: 0.0094 - mean_absolute_error: 0.0094 - val_loss: 0.0232 - val_mean_absolute_error: 0.0232 - 5s/epoch - 167ms/step\n",
      "Epoch 258/400\n",
      "32/32 - 5s - loss: 0.0094 - mean_absolute_error: 0.0094 - val_loss: 0.0229 - val_mean_absolute_error: 0.0229 - 5s/epoch - 164ms/step\n",
      "Epoch 259/400\n",
      "32/32 - 5s - loss: 0.0100 - mean_absolute_error: 0.0100 - val_loss: 0.0229 - val_mean_absolute_error: 0.0229 - 5s/epoch - 165ms/step\n",
      "Epoch 260/400\n",
      "32/32 - 5s - loss: 0.0099 - mean_absolute_error: 0.0099 - val_loss: 0.0231 - val_mean_absolute_error: 0.0231 - 5s/epoch - 165ms/step\n",
      "Epoch 261/400\n",
      "32/32 - 5s - loss: 0.0097 - mean_absolute_error: 0.0097 - val_loss: 0.0226 - val_mean_absolute_error: 0.0226 - 5s/epoch - 166ms/step\n",
      "Epoch 262/400\n",
      "32/32 - 5s - loss: 0.0094 - mean_absolute_error: 0.0094 - val_loss: 0.0234 - val_mean_absolute_error: 0.0234 - 5s/epoch - 164ms/step\n",
      "Epoch 263/400\n",
      "32/32 - 5s - loss: 0.0100 - mean_absolute_error: 0.0100 - val_loss: 0.0235 - val_mean_absolute_error: 0.0235 - 5s/epoch - 165ms/step\n",
      "Epoch 264/400\n",
      "32/32 - 5s - loss: 0.0095 - mean_absolute_error: 0.0095 - val_loss: 0.0228 - val_mean_absolute_error: 0.0228 - 5s/epoch - 165ms/step\n",
      "Epoch 265/400\n",
      "32/32 - 5s - loss: 0.0101 - mean_absolute_error: 0.0101 - val_loss: 0.0228 - val_mean_absolute_error: 0.0228 - 5s/epoch - 158ms/step\n",
      "Epoch 266/400\n",
      "32/32 - 5s - loss: 0.0094 - mean_absolute_error: 0.0094 - val_loss: 0.0232 - val_mean_absolute_error: 0.0232 - 5s/epoch - 165ms/step\n",
      "Epoch 267/400\n",
      "32/32 - 5s - loss: 0.0092 - mean_absolute_error: 0.0092 - val_loss: 0.0233 - val_mean_absolute_error: 0.0233 - 5s/epoch - 165ms/step\n",
      "Epoch 268/400\n",
      "32/32 - 5s - loss: 0.0093 - mean_absolute_error: 0.0093 - val_loss: 0.0244 - val_mean_absolute_error: 0.0244 - 5s/epoch - 167ms/step\n",
      "Epoch 269/400\n",
      "32/32 - 5s - loss: 0.0093 - mean_absolute_error: 0.0093 - val_loss: 0.0234 - val_mean_absolute_error: 0.0234 - 5s/epoch - 165ms/step\n",
      "Epoch 270/400\n",
      "32/32 - 5s - loss: 0.0091 - mean_absolute_error: 0.0091 - val_loss: 0.0236 - val_mean_absolute_error: 0.0236 - 5s/epoch - 165ms/step\n",
      "Epoch 271/400\n",
      "32/32 - 5s - loss: 0.0092 - mean_absolute_error: 0.0092 - val_loss: 0.0244 - val_mean_absolute_error: 0.0244 - 5s/epoch - 165ms/step\n",
      "Epoch 272/400\n",
      "32/32 - 5s - loss: 0.0089 - mean_absolute_error: 0.0089 - val_loss: 0.0236 - val_mean_absolute_error: 0.0236 - 5s/epoch - 164ms/step\n",
      "Epoch 273/400\n",
      "32/32 - 5s - loss: 0.0090 - mean_absolute_error: 0.0090 - val_loss: 0.0238 - val_mean_absolute_error: 0.0238 - 5s/epoch - 166ms/step\n",
      "Epoch 274/400\n",
      "32/32 - 5s - loss: 0.0091 - mean_absolute_error: 0.0091 - val_loss: 0.0232 - val_mean_absolute_error: 0.0232 - 5s/epoch - 166ms/step\n",
      "Epoch 275/400\n",
      "32/32 - 5s - loss: 0.0092 - mean_absolute_error: 0.0092 - val_loss: 0.0235 - val_mean_absolute_error: 0.0235 - 5s/epoch - 165ms/step\n",
      "Epoch 276/400\n",
      "32/32 - 5s - loss: 0.0088 - mean_absolute_error: 0.0088 - val_loss: 0.0232 - val_mean_absolute_error: 0.0232 - 5s/epoch - 159ms/step\n",
      "Epoch 277/400\n",
      "32/32 - 5s - loss: 0.0087 - mean_absolute_error: 0.0087 - val_loss: 0.0240 - val_mean_absolute_error: 0.0240 - 5s/epoch - 166ms/step\n",
      "Epoch 278/400\n",
      "32/32 - 5s - loss: 0.0087 - mean_absolute_error: 0.0087 - val_loss: 0.0233 - val_mean_absolute_error: 0.0233 - 5s/epoch - 165ms/step\n",
      "Epoch 279/400\n",
      "32/32 - 5s - loss: 0.0088 - mean_absolute_error: 0.0088 - val_loss: 0.0235 - val_mean_absolute_error: 0.0235 - 5s/epoch - 165ms/step\n",
      "Epoch 280/400\n",
      "32/32 - 5s - loss: 0.0085 - mean_absolute_error: 0.0085 - val_loss: 0.0237 - val_mean_absolute_error: 0.0237 - 5s/epoch - 166ms/step\n",
      "Epoch 281/400\n",
      "32/32 - 5s - loss: 0.0090 - mean_absolute_error: 0.0090 - val_loss: 0.0234 - val_mean_absolute_error: 0.0234 - 5s/epoch - 165ms/step\n"
     ]
    },
    {
     "name": "stdout",
     "output_type": "stream",
     "text": [
      "Epoch 282/400\n",
      "32/32 - 5s - loss: 0.0088 - mean_absolute_error: 0.0088 - val_loss: 0.0231 - val_mean_absolute_error: 0.0231 - 5s/epoch - 166ms/step\n",
      "Epoch 283/400\n",
      "32/32 - 5s - loss: 0.0087 - mean_absolute_error: 0.0087 - val_loss: 0.0238 - val_mean_absolute_error: 0.0238 - 5s/epoch - 165ms/step\n",
      "Epoch 284/400\n",
      "32/32 - 5s - loss: 0.0085 - mean_absolute_error: 0.0085 - val_loss: 0.0238 - val_mean_absolute_error: 0.0238 - 5s/epoch - 165ms/step\n",
      "Epoch 285/400\n",
      "32/32 - 5s - loss: 0.0088 - mean_absolute_error: 0.0088 - val_loss: 0.0244 - val_mean_absolute_error: 0.0244 - 5s/epoch - 165ms/step\n",
      "Epoch 286/400\n",
      "32/32 - 5s - loss: 0.0082 - mean_absolute_error: 0.0082 - val_loss: 0.0242 - val_mean_absolute_error: 0.0242 - 5s/epoch - 164ms/step\n",
      "Epoch 287/400\n",
      "32/32 - 5s - loss: 0.0082 - mean_absolute_error: 0.0082 - val_loss: 0.0238 - val_mean_absolute_error: 0.0238 - 5s/epoch - 162ms/step\n",
      "Epoch 288/400\n",
      "32/32 - 5s - loss: 0.0086 - mean_absolute_error: 0.0086 - val_loss: 0.0245 - val_mean_absolute_error: 0.0245 - 5s/epoch - 159ms/step\n",
      "Epoch 289/400\n",
      "32/32 - 5s - loss: 0.0088 - mean_absolute_error: 0.0088 - val_loss: 0.0233 - val_mean_absolute_error: 0.0233 - 5s/epoch - 166ms/step\n",
      "Epoch 290/400\n",
      "32/32 - 5s - loss: 0.0093 - mean_absolute_error: 0.0093 - val_loss: 0.0235 - val_mean_absolute_error: 0.0235 - 5s/epoch - 164ms/step\n",
      "Epoch 291/400\n",
      "32/32 - 5s - loss: 0.0095 - mean_absolute_error: 0.0095 - val_loss: 0.0230 - val_mean_absolute_error: 0.0230 - 5s/epoch - 165ms/step\n",
      "Epoch 292/400\n",
      "32/32 - 5s - loss: 0.0083 - mean_absolute_error: 0.0083 - val_loss: 0.0235 - val_mean_absolute_error: 0.0235 - 5s/epoch - 164ms/step\n",
      "Epoch 293/400\n",
      "32/32 - 5s - loss: 0.0085 - mean_absolute_error: 0.0085 - val_loss: 0.0234 - val_mean_absolute_error: 0.0234 - 5s/epoch - 166ms/step\n",
      "Epoch 294/400\n",
      "32/32 - 5s - loss: 0.0085 - mean_absolute_error: 0.0085 - val_loss: 0.0227 - val_mean_absolute_error: 0.0227 - 5s/epoch - 165ms/step\n",
      "Epoch 295/400\n",
      "32/32 - 5s - loss: 0.0082 - mean_absolute_error: 0.0082 - val_loss: 0.0234 - val_mean_absolute_error: 0.0234 - 5s/epoch - 165ms/step\n",
      "Epoch 296/400\n",
      "32/32 - 5s - loss: 0.0083 - mean_absolute_error: 0.0083 - val_loss: 0.0236 - val_mean_absolute_error: 0.0236 - 5s/epoch - 165ms/step\n",
      "Epoch 297/400\n",
      "32/32 - 5s - loss: 0.0085 - mean_absolute_error: 0.0085 - val_loss: 0.0239 - val_mean_absolute_error: 0.0239 - 5s/epoch - 166ms/step\n",
      "Epoch 298/400\n",
      "32/32 - 5s - loss: 0.0084 - mean_absolute_error: 0.0084 - val_loss: 0.0238 - val_mean_absolute_error: 0.0238 - 5s/epoch - 163ms/step\n",
      "Epoch 299/400\n",
      "32/32 - 5s - loss: 0.0083 - mean_absolute_error: 0.0083 - val_loss: 0.0236 - val_mean_absolute_error: 0.0236 - 5s/epoch - 146ms/step\n",
      "Epoch 300/400\n",
      "32/32 - 5s - loss: 0.0081 - mean_absolute_error: 0.0081 - val_loss: 0.0238 - val_mean_absolute_error: 0.0238 - 5s/epoch - 167ms/step\n",
      "Epoch 301/400\n",
      "32/32 - 5s - loss: 0.0082 - mean_absolute_error: 0.0082 - val_loss: 0.0240 - val_mean_absolute_error: 0.0240 - 5s/epoch - 163ms/step\n",
      "Epoch 302/400\n",
      "32/32 - 5s - loss: 0.0080 - mean_absolute_error: 0.0080 - val_loss: 0.0244 - val_mean_absolute_error: 0.0244 - 5s/epoch - 165ms/step\n",
      "Epoch 303/400\n",
      "32/32 - 5s - loss: 0.0081 - mean_absolute_error: 0.0081 - val_loss: 0.0239 - val_mean_absolute_error: 0.0239 - 5s/epoch - 164ms/step\n",
      "Epoch 304/400\n",
      "32/32 - 5s - loss: 0.0080 - mean_absolute_error: 0.0080 - val_loss: 0.0228 - val_mean_absolute_error: 0.0228 - 5s/epoch - 165ms/step\n",
      "Epoch 305/400\n",
      "32/32 - 5s - loss: 0.0078 - mean_absolute_error: 0.0078 - val_loss: 0.0233 - val_mean_absolute_error: 0.0233 - 5s/epoch - 167ms/step\n",
      "Epoch 306/400\n",
      "32/32 - 5s - loss: 0.0080 - mean_absolute_error: 0.0080 - val_loss: 0.0238 - val_mean_absolute_error: 0.0238 - 5s/epoch - 165ms/step\n",
      "Epoch 307/400\n",
      "32/32 - 5s - loss: 0.0077 - mean_absolute_error: 0.0077 - val_loss: 0.0228 - val_mean_absolute_error: 0.0228 - 5s/epoch - 166ms/step\n",
      "Epoch 308/400\n",
      "32/32 - 5s - loss: 0.0079 - mean_absolute_error: 0.0079 - val_loss: 0.0238 - val_mean_absolute_error: 0.0238 - 5s/epoch - 165ms/step\n",
      "Epoch 309/400\n",
      "32/32 - 5s - loss: 0.0079 - mean_absolute_error: 0.0079 - val_loss: 0.0235 - val_mean_absolute_error: 0.0235 - 5s/epoch - 164ms/step\n",
      "Epoch 310/400\n",
      "32/32 - 5s - loss: 0.0081 - mean_absolute_error: 0.0081 - val_loss: 0.0241 - val_mean_absolute_error: 0.0241 - 5s/epoch - 163ms/step\n",
      "Epoch 311/400\n",
      "32/32 - 5s - loss: 0.0085 - mean_absolute_error: 0.0085 - val_loss: 0.0247 - val_mean_absolute_error: 0.0247 - 5s/epoch - 163ms/step\n",
      "Epoch 312/400\n",
      "32/32 - 5s - loss: 0.0083 - mean_absolute_error: 0.0083 - val_loss: 0.0239 - val_mean_absolute_error: 0.0239 - 5s/epoch - 166ms/step\n",
      "Epoch 313/400\n",
      "32/32 - 5s - loss: 0.0084 - mean_absolute_error: 0.0084 - val_loss: 0.0244 - val_mean_absolute_error: 0.0244 - 5s/epoch - 164ms/step\n",
      "Epoch 314/400\n",
      "32/32 - 5s - loss: 0.0084 - mean_absolute_error: 0.0084 - val_loss: 0.0242 - val_mean_absolute_error: 0.0242 - 5s/epoch - 166ms/step\n",
      "Epoch 315/400\n",
      "32/32 - 5s - loss: 0.0080 - mean_absolute_error: 0.0080 - val_loss: 0.0235 - val_mean_absolute_error: 0.0235 - 5s/epoch - 165ms/step\n",
      "Epoch 316/400\n",
      "32/32 - 5s - loss: 0.0077 - mean_absolute_error: 0.0077 - val_loss: 0.0228 - val_mean_absolute_error: 0.0228 - 5s/epoch - 165ms/step\n",
      "Epoch 317/400\n",
      "32/32 - 5s - loss: 0.0078 - mean_absolute_error: 0.0078 - val_loss: 0.0237 - val_mean_absolute_error: 0.0237 - 5s/epoch - 165ms/step\n",
      "Epoch 318/400\n",
      "32/32 - 5s - loss: 0.0079 - mean_absolute_error: 0.0079 - val_loss: 0.0232 - val_mean_absolute_error: 0.0232 - 5s/epoch - 167ms/step\n",
      "Epoch 319/400\n",
      "32/32 - 5s - loss: 0.0076 - mean_absolute_error: 0.0076 - val_loss: 0.0232 - val_mean_absolute_error: 0.0232 - 5s/epoch - 164ms/step\n",
      "Epoch 320/400\n",
      "32/32 - 5s - loss: 0.0077 - mean_absolute_error: 0.0077 - val_loss: 0.0236 - val_mean_absolute_error: 0.0236 - 5s/epoch - 165ms/step\n",
      "Epoch 321/400\n",
      "32/32 - 5s - loss: 0.0076 - mean_absolute_error: 0.0076 - val_loss: 0.0239 - val_mean_absolute_error: 0.0239 - 5s/epoch - 166ms/step\n",
      "Epoch 322/400\n",
      "32/32 - 5s - loss: 0.0077 - mean_absolute_error: 0.0077 - val_loss: 0.0235 - val_mean_absolute_error: 0.0235 - 5s/epoch - 160ms/step\n",
      "Epoch 323/400\n",
      "32/32 - 5s - loss: 0.0078 - mean_absolute_error: 0.0078 - val_loss: 0.0239 - val_mean_absolute_error: 0.0239 - 5s/epoch - 164ms/step\n",
      "Epoch 324/400\n",
      "32/32 - 5s - loss: 0.0078 - mean_absolute_error: 0.0078 - val_loss: 0.0236 - val_mean_absolute_error: 0.0236 - 5s/epoch - 165ms/step\n",
      "Epoch 325/400\n",
      "32/32 - 5s - loss: 0.0082 - mean_absolute_error: 0.0082 - val_loss: 0.0233 - val_mean_absolute_error: 0.0233 - 5s/epoch - 166ms/step\n",
      "Epoch 326/400\n",
      "32/32 - 5s - loss: 0.0079 - mean_absolute_error: 0.0079 - val_loss: 0.0237 - val_mean_absolute_error: 0.0237 - 5s/epoch - 165ms/step\n",
      "Epoch 327/400\n",
      "32/32 - 5s - loss: 0.0076 - mean_absolute_error: 0.0076 - val_loss: 0.0231 - val_mean_absolute_error: 0.0231 - 5s/epoch - 165ms/step\n",
      "Epoch 328/400\n",
      "32/32 - 5s - loss: 0.0076 - mean_absolute_error: 0.0076 - val_loss: 0.0232 - val_mean_absolute_error: 0.0232 - 5s/epoch - 164ms/step\n",
      "Epoch 329/400\n",
      "32/32 - 5s - loss: 0.0075 - mean_absolute_error: 0.0075 - val_loss: 0.0233 - val_mean_absolute_error: 0.0233 - 5s/epoch - 166ms/step\n",
      "Epoch 330/400\n",
      "32/32 - 5s - loss: 0.0077 - mean_absolute_error: 0.0077 - val_loss: 0.0237 - val_mean_absolute_error: 0.0237 - 5s/epoch - 166ms/step\n",
      "Epoch 331/400\n",
      "32/32 - 5s - loss: 0.0080 - mean_absolute_error: 0.0080 - val_loss: 0.0233 - val_mean_absolute_error: 0.0233 - 5s/epoch - 166ms/step\n",
      "Epoch 332/400\n",
      "32/32 - 5s - loss: 0.0077 - mean_absolute_error: 0.0077 - val_loss: 0.0235 - val_mean_absolute_error: 0.0235 - 5s/epoch - 165ms/step\n",
      "Epoch 333/400\n",
      "32/32 - 5s - loss: 0.0077 - mean_absolute_error: 0.0077 - val_loss: 0.0232 - val_mean_absolute_error: 0.0232 - 5s/epoch - 162ms/step\n",
      "Epoch 334/400\n",
      "32/32 - 5s - loss: 0.0074 - mean_absolute_error: 0.0074 - val_loss: 0.0230 - val_mean_absolute_error: 0.0230 - 5s/epoch - 164ms/step\n",
      "Epoch 335/400\n",
      "32/32 - 5s - loss: 0.0078 - mean_absolute_error: 0.0078 - val_loss: 0.0234 - val_mean_absolute_error: 0.0234 - 5s/epoch - 164ms/step\n",
      "Epoch 336/400\n",
      "32/32 - 5s - loss: 0.0076 - mean_absolute_error: 0.0076 - val_loss: 0.0238 - val_mean_absolute_error: 0.0238 - 5s/epoch - 165ms/step\n",
      "Epoch 337/400\n",
      "32/32 - 5s - loss: 0.0077 - mean_absolute_error: 0.0077 - val_loss: 0.0234 - val_mean_absolute_error: 0.0234 - 5s/epoch - 164ms/step\n"
     ]
    },
    {
     "name": "stdout",
     "output_type": "stream",
     "text": [
      "Epoch 338/400\n",
      "32/32 - 5s - loss: 0.0076 - mean_absolute_error: 0.0076 - val_loss: 0.0237 - val_mean_absolute_error: 0.0237 - 5s/epoch - 165ms/step\n",
      "Epoch 339/400\n",
      "32/32 - 5s - loss: 0.0075 - mean_absolute_error: 0.0075 - val_loss: 0.0242 - val_mean_absolute_error: 0.0242 - 5s/epoch - 165ms/step\n",
      "Epoch 340/400\n",
      "32/32 - 5s - loss: 0.0076 - mean_absolute_error: 0.0076 - val_loss: 0.0239 - val_mean_absolute_error: 0.0239 - 5s/epoch - 164ms/step\n",
      "Epoch 341/400\n",
      "32/32 - 5s - loss: 0.0075 - mean_absolute_error: 0.0075 - val_loss: 0.0236 - val_mean_absolute_error: 0.0236 - 5s/epoch - 165ms/step\n",
      "Epoch 342/400\n",
      "32/32 - 5s - loss: 0.0072 - mean_absolute_error: 0.0072 - val_loss: 0.0232 - val_mean_absolute_error: 0.0232 - 5s/epoch - 165ms/step\n",
      "Epoch 343/400\n",
      "32/32 - 5s - loss: 0.0072 - mean_absolute_error: 0.0072 - val_loss: 0.0238 - val_mean_absolute_error: 0.0238 - 5s/epoch - 165ms/step\n",
      "Epoch 344/400\n",
      "32/32 - 5s - loss: 0.0072 - mean_absolute_error: 0.0072 - val_loss: 0.0236 - val_mean_absolute_error: 0.0236 - 5s/epoch - 163ms/step\n",
      "Epoch 345/400\n",
      "32/32 - 5s - loss: 0.0071 - mean_absolute_error: 0.0071 - val_loss: 0.0236 - val_mean_absolute_error: 0.0236 - 5s/epoch - 161ms/step\n",
      "Epoch 346/400\n",
      "32/32 - 5s - loss: 0.0071 - mean_absolute_error: 0.0071 - val_loss: 0.0242 - val_mean_absolute_error: 0.0242 - 5s/epoch - 165ms/step\n",
      "Epoch 347/400\n",
      "32/32 - 5s - loss: 0.0073 - mean_absolute_error: 0.0073 - val_loss: 0.0240 - val_mean_absolute_error: 0.0240 - 5s/epoch - 165ms/step\n",
      "Epoch 348/400\n",
      "32/32 - 5s - loss: 0.0074 - mean_absolute_error: 0.0074 - val_loss: 0.0241 - val_mean_absolute_error: 0.0241 - 5s/epoch - 165ms/step\n",
      "Epoch 349/400\n",
      "32/32 - 5s - loss: 0.0077 - mean_absolute_error: 0.0077 - val_loss: 0.0240 - val_mean_absolute_error: 0.0240 - 5s/epoch - 165ms/step\n",
      "Epoch 350/400\n",
      "32/32 - 5s - loss: 0.0070 - mean_absolute_error: 0.0070 - val_loss: 0.0233 - val_mean_absolute_error: 0.0233 - 5s/epoch - 164ms/step\n",
      "Epoch 351/400\n",
      "32/32 - 5s - loss: 0.0072 - mean_absolute_error: 0.0072 - val_loss: 0.0239 - val_mean_absolute_error: 0.0239 - 5s/epoch - 164ms/step\n",
      "Epoch 352/400\n",
      "32/32 - 5s - loss: 0.0071 - mean_absolute_error: 0.0071 - val_loss: 0.0237 - val_mean_absolute_error: 0.0237 - 5s/epoch - 167ms/step\n",
      "Epoch 353/400\n",
      "32/32 - 5s - loss: 0.0072 - mean_absolute_error: 0.0072 - val_loss: 0.0241 - val_mean_absolute_error: 0.0241 - 5s/epoch - 162ms/step\n",
      "Epoch 354/400\n",
      "32/32 - 5s - loss: 0.0075 - mean_absolute_error: 0.0075 - val_loss: 0.0236 - val_mean_absolute_error: 0.0236 - 5s/epoch - 165ms/step\n",
      "Epoch 355/400\n",
      "32/32 - 5s - loss: 0.0070 - mean_absolute_error: 0.0070 - val_loss: 0.0237 - val_mean_absolute_error: 0.0237 - 5s/epoch - 166ms/step\n",
      "Epoch 356/400\n",
      "32/32 - 5s - loss: 0.0072 - mean_absolute_error: 0.0072 - val_loss: 0.0237 - val_mean_absolute_error: 0.0237 - 5s/epoch - 159ms/step\n",
      "Epoch 357/400\n",
      "32/32 - 5s - loss: 0.0072 - mean_absolute_error: 0.0072 - val_loss: 0.0242 - val_mean_absolute_error: 0.0242 - 5s/epoch - 166ms/step\n",
      "Epoch 358/400\n",
      "32/32 - 5s - loss: 0.0075 - mean_absolute_error: 0.0075 - val_loss: 0.0240 - val_mean_absolute_error: 0.0240 - 5s/epoch - 165ms/step\n",
      "Epoch 359/400\n",
      "32/32 - 5s - loss: 0.0071 - mean_absolute_error: 0.0071 - val_loss: 0.0231 - val_mean_absolute_error: 0.0231 - 5s/epoch - 163ms/step\n",
      "Epoch 360/400\n",
      "32/32 - 5s - loss: 0.0071 - mean_absolute_error: 0.0071 - val_loss: 0.0238 - val_mean_absolute_error: 0.0238 - 5s/epoch - 165ms/step\n",
      "Epoch 361/400\n",
      "32/32 - 5s - loss: 0.0070 - mean_absolute_error: 0.0070 - val_loss: 0.0234 - val_mean_absolute_error: 0.0234 - 5s/epoch - 165ms/step\n",
      "Epoch 362/400\n",
      "32/32 - 5s - loss: 0.0071 - mean_absolute_error: 0.0071 - val_loss: 0.0236 - val_mean_absolute_error: 0.0236 - 5s/epoch - 165ms/step\n",
      "Epoch 363/400\n",
      "32/32 - 5s - loss: 0.0069 - mean_absolute_error: 0.0069 - val_loss: 0.0239 - val_mean_absolute_error: 0.0239 - 5s/epoch - 167ms/step\n",
      "Epoch 364/400\n",
      "32/32 - 5s - loss: 0.0069 - mean_absolute_error: 0.0069 - val_loss: 0.0230 - val_mean_absolute_error: 0.0230 - 5s/epoch - 165ms/step\n",
      "Epoch 365/400\n",
      "32/32 - 5s - loss: 0.0069 - mean_absolute_error: 0.0069 - val_loss: 0.0241 - val_mean_absolute_error: 0.0241 - 5s/epoch - 165ms/step\n",
      "Epoch 366/400\n",
      "32/32 - 5s - loss: 0.0071 - mean_absolute_error: 0.0071 - val_loss: 0.0242 - val_mean_absolute_error: 0.0242 - 5s/epoch - 165ms/step\n",
      "Epoch 367/400\n",
      "32/32 - 5s - loss: 0.0070 - mean_absolute_error: 0.0070 - val_loss: 0.0237 - val_mean_absolute_error: 0.0237 - 5s/epoch - 162ms/step\n",
      "Epoch 368/400\n",
      "32/32 - 5s - loss: 0.0068 - mean_absolute_error: 0.0068 - val_loss: 0.0246 - val_mean_absolute_error: 0.0246 - 5s/epoch - 165ms/step\n",
      "Epoch 369/400\n",
      "32/32 - 5s - loss: 0.0069 - mean_absolute_error: 0.0069 - val_loss: 0.0250 - val_mean_absolute_error: 0.0250 - 5s/epoch - 165ms/step\n",
      "Epoch 370/400\n",
      "32/32 - 5s - loss: 0.0072 - mean_absolute_error: 0.0072 - val_loss: 0.0249 - val_mean_absolute_error: 0.0249 - 5s/epoch - 166ms/step\n",
      "Epoch 371/400\n",
      "32/32 - 5s - loss: 0.0075 - mean_absolute_error: 0.0075 - val_loss: 0.0242 - val_mean_absolute_error: 0.0242 - 5s/epoch - 165ms/step\n",
      "Epoch 372/400\n",
      "32/32 - 5s - loss: 0.0073 - mean_absolute_error: 0.0073 - val_loss: 0.0239 - val_mean_absolute_error: 0.0239 - 5s/epoch - 166ms/step\n",
      "Epoch 373/400\n",
      "32/32 - 5s - loss: 0.0073 - mean_absolute_error: 0.0073 - val_loss: 0.0242 - val_mean_absolute_error: 0.0242 - 5s/epoch - 165ms/step\n",
      "Epoch 374/400\n",
      "32/32 - 5s - loss: 0.0080 - mean_absolute_error: 0.0080 - val_loss: 0.0241 - val_mean_absolute_error: 0.0241 - 5s/epoch - 161ms/step\n",
      "Epoch 375/400\n",
      "32/32 - 5s - loss: 0.0077 - mean_absolute_error: 0.0077 - val_loss: 0.0233 - val_mean_absolute_error: 0.0233 - 5s/epoch - 166ms/step\n",
      "Epoch 376/400\n",
      "32/32 - 5s - loss: 0.0073 - mean_absolute_error: 0.0073 - val_loss: 0.0237 - val_mean_absolute_error: 0.0237 - 5s/epoch - 167ms/step\n",
      "Epoch 377/400\n",
      "32/32 - 5s - loss: 0.0073 - mean_absolute_error: 0.0073 - val_loss: 0.0246 - val_mean_absolute_error: 0.0246 - 5s/epoch - 162ms/step\n",
      "Epoch 378/400\n",
      "32/32 - 5s - loss: 0.0071 - mean_absolute_error: 0.0071 - val_loss: 0.0245 - val_mean_absolute_error: 0.0245 - 5s/epoch - 165ms/step\n",
      "Epoch 379/400\n",
      "32/32 - 5s - loss: 0.0069 - mean_absolute_error: 0.0069 - val_loss: 0.0235 - val_mean_absolute_error: 0.0235 - 5s/epoch - 160ms/step\n",
      "Epoch 380/400\n",
      "32/32 - 5s - loss: 0.0068 - mean_absolute_error: 0.0068 - val_loss: 0.0242 - val_mean_absolute_error: 0.0242 - 5s/epoch - 166ms/step\n",
      "Epoch 381/400\n",
      "32/32 - 5s - loss: 0.0072 - mean_absolute_error: 0.0072 - val_loss: 0.0240 - val_mean_absolute_error: 0.0240 - 5s/epoch - 165ms/step\n",
      "Epoch 382/400\n",
      "32/32 - 5s - loss: 0.0073 - mean_absolute_error: 0.0073 - val_loss: 0.0239 - val_mean_absolute_error: 0.0239 - 5s/epoch - 165ms/step\n",
      "Epoch 383/400\n",
      "32/32 - 5s - loss: 0.0072 - mean_absolute_error: 0.0072 - val_loss: 0.0239 - val_mean_absolute_error: 0.0239 - 5s/epoch - 166ms/step\n",
      "Epoch 384/400\n",
      "32/32 - 5s - loss: 0.0068 - mean_absolute_error: 0.0068 - val_loss: 0.0246 - val_mean_absolute_error: 0.0246 - 5s/epoch - 165ms/step\n",
      "Epoch 385/400\n",
      "32/32 - 5s - loss: 0.0070 - mean_absolute_error: 0.0070 - val_loss: 0.0247 - val_mean_absolute_error: 0.0247 - 5s/epoch - 165ms/step\n",
      "Epoch 386/400\n",
      "32/32 - 5s - loss: 0.0071 - mean_absolute_error: 0.0071 - val_loss: 0.0251 - val_mean_absolute_error: 0.0251 - 5s/epoch - 164ms/step\n",
      "Epoch 387/400\n",
      "32/32 - 5s - loss: 0.0071 - mean_absolute_error: 0.0071 - val_loss: 0.0243 - val_mean_absolute_error: 0.0243 - 5s/epoch - 163ms/step\n",
      "Epoch 388/400\n",
      "32/32 - 5s - loss: 0.0069 - mean_absolute_error: 0.0069 - val_loss: 0.0245 - val_mean_absolute_error: 0.0245 - 5s/epoch - 161ms/step\n",
      "Epoch 389/400\n",
      "32/32 - 5s - loss: 0.0068 - mean_absolute_error: 0.0068 - val_loss: 0.0248 - val_mean_absolute_error: 0.0248 - 5s/epoch - 163ms/step\n",
      "Epoch 390/400\n",
      "32/32 - 5s - loss: 0.0065 - mean_absolute_error: 0.0065 - val_loss: 0.0245 - val_mean_absolute_error: 0.0245 - 5s/epoch - 157ms/step\n",
      "Epoch 391/400\n",
      "32/32 - 5s - loss: 0.0067 - mean_absolute_error: 0.0067 - val_loss: 0.0244 - val_mean_absolute_error: 0.0244 - 5s/epoch - 165ms/step\n",
      "Epoch 392/400\n",
      "32/32 - 5s - loss: 0.0067 - mean_absolute_error: 0.0067 - val_loss: 0.0248 - val_mean_absolute_error: 0.0248 - 5s/epoch - 164ms/step\n",
      "Epoch 393/400\n",
      "32/32 - 5s - loss: 0.0071 - mean_absolute_error: 0.0071 - val_loss: 0.0241 - val_mean_absolute_error: 0.0241 - 5s/epoch - 164ms/step\n"
     ]
    },
    {
     "name": "stdout",
     "output_type": "stream",
     "text": [
      "Epoch 394/400\n",
      "32/32 - 5s - loss: 0.0070 - mean_absolute_error: 0.0070 - val_loss: 0.0247 - val_mean_absolute_error: 0.0247 - 5s/epoch - 165ms/step\n",
      "Epoch 395/400\n",
      "32/32 - 5s - loss: 0.0067 - mean_absolute_error: 0.0067 - val_loss: 0.0246 - val_mean_absolute_error: 0.0246 - 5s/epoch - 166ms/step\n",
      "Epoch 396/400\n",
      "32/32 - 5s - loss: 0.0068 - mean_absolute_error: 0.0068 - val_loss: 0.0245 - val_mean_absolute_error: 0.0245 - 5s/epoch - 165ms/step\n",
      "Epoch 397/400\n",
      "32/32 - 5s - loss: 0.0070 - mean_absolute_error: 0.0070 - val_loss: 0.0249 - val_mean_absolute_error: 0.0249 - 5s/epoch - 166ms/step\n",
      "Epoch 398/400\n",
      "32/32 - 5s - loss: 0.0071 - mean_absolute_error: 0.0071 - val_loss: 0.0250 - val_mean_absolute_error: 0.0250 - 5s/epoch - 165ms/step\n",
      "Epoch 399/400\n",
      "32/32 - 5s - loss: 0.0073 - mean_absolute_error: 0.0073 - val_loss: 0.0250 - val_mean_absolute_error: 0.0250 - 5s/epoch - 164ms/step\n",
      "Epoch 400/400\n",
      "32/32 - 5s - loss: 0.0075 - mean_absolute_error: 0.0075 - val_loss: 0.0243 - val_mean_absolute_error: 0.0243 - 5s/epoch - 164ms/step\n"
     ]
    }
   ],
   "source": [
    "### FIT FORECASTER ###\n",
    "historyUrban = model1Urban.fit(X_train1Urban[:4000], y_train1Urban[:4000], validation_data=(X_train1Urban[4000:], y_train1Urban[4000:]),\n",
    "                               epochs=epochs, batch_size=128, verbose=2, shuffle=False)\n"
   ]
  },
  {
   "cell_type": "code",
   "execution_count": 67,
   "id": "bca0af75",
   "metadata": {},
   "outputs": [
    {
     "data": {
      "image/png": "[encoded data removed]",
      "text/plain": [
       "<Figure size 1008x1008 with 1 Axes>"
      ]
     },
     "metadata": {
      "needs_background": "light"
     },
     "output_type": "display_data"
    }
   ],
   "source": [
    "plt.plot(historyUrban.history['loss'][10:])\n",
    "plt.plot(historyUrban.history['val_loss'][10:])\n",
    "\n",
    "plt.title('Model training loss 10-100')\n",
    "plt.ylabel('Loss')\n",
    "plt.xlabel('Epoch')\n",
    "plt.legend(['Train loss', 'Val loss'], loc='upper left')\n",
    "plt.show()"
   ]
  },
  {
   "cell_type": "code",
   "execution_count": 50,
   "id": "6ae1ca00",
   "metadata": {},
   "outputs": [],
   "source": [
    "### FIT FORECASTER ###\n",
    "# plt.plot(historyUrban.history['loss'][10:])\n",
    "\n",
    "\"\"\"# UNSEEN DATA PREDICTION\"\"\"\n",
    "\n",
    "### FUNCTION FOR STOCHASTIC DROPOUT FOR UNSEEN COUNTY ###\n",
    "\n",
    "\n",
    "def test_other_drop1(typ, enc, NN, hurricane):\n",
    "    if typ == 'Urban':\n",
    "        X = X_test_c\n",
    "        F = f_test_c\n",
    "        y = y_test_c\n",
    "        if hurricane == False:\n",
    "            F = f_test_c_noHurricane\n",
    "\n",
    "    elif typ == 'Rural':\n",
    "        X = X_test_o\n",
    "        F = f_test_o\n",
    "        y = y_test_o\n",
    "        if hurricane == False:\n",
    "            F = f_test_o_noHurricane\n",
    "    \n",
    "    enc_pred = enc.predict(X)\n",
    "    enc_pred = np.concatenate([enc_pred, F], axis=2)\n",
    "    trans_pred = scaler1Urban.transform(\n",
    "        enc_pred.reshape(-1, enc_pred.shape[-1])).reshape(-1, sequence_length, enc_pred.shape[-1])\n",
    "    NN_pred = NN.predict(trans_pred)\n",
    "\n",
    "    return NN_pred, y\n",
    "\n",
    "\n",
    "testCounties1 = ['Lee', 'Collier', 'Sarasota', 'Orange', 'Palm Beach']\n",
    "testCounties1 = ['Collier']"
   ]
  },
  {
   "cell_type": "code",
   "execution_count": 32,
   "id": "331a7d53",
   "metadata": {},
   "outputs": [],
   "source": [
    "# from sklearn.utils import check_arrays\n",
    "\n",
    "\n",
    "def mean_absolute_percentage_error(y_true, y_pred):\n",
    "    return np.mean(np.abs((y_true - y_pred) / y_true)) * 100\n",
    "\n",
    "\n",
    "params = {'legend.fontsize': 'x-large',\n",
    "          'figure.figsize': (12, 8),\n",
    "          'axes.labelsize': '15',\n",
    "          'axes.titlesize': 'x-large',\n",
    "          'xtick.labelsize': '18',\n",
    "          'ytick.labelsize': '22',\n",
    "          'font.family': 'Times new roman'}\n",
    "pylab.rcParams.update(params)\n",
    "\n"
   ]
  },
  {
   "cell_type": "code",
   "execution_count": 53,
   "id": "0c88c588",
   "metadata": {},
   "outputs": [
    {
     "name": "stderr",
     "output_type": "stream",
     "text": [
      "\r",
      "  0%|                                                                                          | 0/100 [00:00<?, ?it/s]"
     ]
    },
    {
     "name": "stdout",
     "output_type": "stream",
     "text": [
      "7/7 [==============================] - 0s 8ms/step\n",
      "7/7 [==============================] - 0s 24ms/step\n"
     ]
    },
    {
     "name": "stderr",
     "output_type": "stream",
     "text": [
      "\r",
      "  1%|▊                                                                                 | 1/100 [00:00<00:54,  1.81it/s]"
     ]
    },
    {
     "name": "stdout",
     "output_type": "stream",
     "text": [
      "7/7 [==============================] - 0s 6ms/step\n",
      "7/7 [==============================] - 0s 20ms/step\n"
     ]
    },
    {
     "name": "stderr",
     "output_type": "stream",
     "text": [
      "\r",
      "  2%|█▋                                                                                | 2/100 [00:01<00:51,  1.91it/s]"
     ]
    },
    {
     "name": "stdout",
     "output_type": "stream",
     "text": [
      "7/7 [==============================] - 0s 7ms/step\n",
      "7/7 [==============================] - 0s 24ms/step\n"
     ]
    },
    {
     "name": "stderr",
     "output_type": "stream",
     "text": [
      "\r",
      "  3%|██▍                                                                               | 3/100 [00:01<00:50,  1.92it/s]"
     ]
    },
    {
     "name": "stdout",
     "output_type": "stream",
     "text": [
      "7/7 [==============================] - 0s 8ms/step\n",
      "7/7 [==============================] - 0s 22ms/step\n"
     ]
    },
    {
     "name": "stderr",
     "output_type": "stream",
     "text": [
      "\r",
      "  4%|███▎                                                                              | 4/100 [00:02<00:50,  1.90it/s]"
     ]
    },
    {
     "name": "stdout",
     "output_type": "stream",
     "text": [
      "7/7 [==============================] - 0s 6ms/step\n",
      "7/7 [==============================] - 0s 22ms/step\n"
     ]
    },
    {
     "name": "stderr",
     "output_type": "stream",
     "text": [
      "\r",
      "  5%|████                                                                              | 5/100 [00:02<00:49,  1.93it/s]"
     ]
    },
    {
     "name": "stdout",
     "output_type": "stream",
     "text": [
      "7/7 [==============================] - 0s 8ms/step\n",
      "7/7 [==============================] - 0s 24ms/step\n"
     ]
    },
    {
     "name": "stderr",
     "output_type": "stream",
     "text": [
      "\r",
      "  6%|████▉                                                                             | 6/100 [00:03<00:48,  1.92it/s]"
     ]
    },
    {
     "name": "stdout",
     "output_type": "stream",
     "text": [
      "7/7 [==============================] - 0s 7ms/step\n",
      "7/7 [==============================] - 0s 23ms/step\n"
     ]
    },
    {
     "name": "stderr",
     "output_type": "stream",
     "text": [
      "\r",
      "  7%|█████▋                                                                            | 7/100 [00:03<00:48,  1.92it/s]"
     ]
    },
    {
     "name": "stdout",
     "output_type": "stream",
     "text": [
      "7/7 [==============================] - 0s 6ms/step\n",
      "7/7 [==============================] - 0s 24ms/step\n"
     ]
    },
    {
     "name": "stderr",
     "output_type": "stream",
     "text": [
      "\r",
      "  8%|██████▌                                                                           | 8/100 [00:04<00:48,  1.90it/s]"
     ]
    },
    {
     "name": "stdout",
     "output_type": "stream",
     "text": [
      "7/7 [==============================] - 0s 7ms/step\n",
      "7/7 [==============================] - 0s 26ms/step\n"
     ]
    },
    {
     "name": "stderr",
     "output_type": "stream",
     "text": [
      "\r",
      "  9%|███████▍                                                                          | 9/100 [00:04<00:47,  1.90it/s]"
     ]
    },
    {
     "name": "stdout",
     "output_type": "stream",
     "text": [
      "7/7 [==============================] - 0s 9ms/step\n",
      "7/7 [==============================] - 0s 25ms/step\n"
     ]
    },
    {
     "name": "stderr",
     "output_type": "stream",
     "text": [
      "\r",
      " 10%|████████                                                                         | 10/100 [00:05<00:47,  1.89it/s]"
     ]
    },
    {
     "name": "stdout",
     "output_type": "stream",
     "text": [
      "7/7 [==============================] - 0s 8ms/step\n",
      "7/7 [==============================] - 0s 26ms/step\n"
     ]
    },
    {
     "name": "stderr",
     "output_type": "stream",
     "text": [
      "\r",
      " 11%|████████▉                                                                        | 11/100 [00:05<00:46,  1.90it/s]"
     ]
    },
    {
     "name": "stdout",
     "output_type": "stream",
     "text": [
      "7/7 [==============================] - 0s 6ms/step\n",
      "7/7 [==============================] - 0s 25ms/step\n"
     ]
    },
    {
     "name": "stderr",
     "output_type": "stream",
     "text": [
      "\r",
      " 12%|█████████▋                                                                       | 12/100 [00:06<00:46,  1.89it/s]"
     ]
    },
    {
     "name": "stdout",
     "output_type": "stream",
     "text": [
      "7/7 [==============================] - 0s 8ms/step\n",
      "7/7 [==============================] - 0s 24ms/step\n"
     ]
    },
    {
     "name": "stderr",
     "output_type": "stream",
     "text": [
      "\r",
      " 13%|██████████▌                                                                      | 13/100 [00:06<00:46,  1.89it/s]"
     ]
    },
    {
     "name": "stdout",
     "output_type": "stream",
     "text": [
      "7/7 [==============================] - 0s 7ms/step\n",
      "7/7 [==============================] - 0s 22ms/step\n"
     ]
    },
    {
     "name": "stderr",
     "output_type": "stream",
     "text": [
      "\r",
      " 14%|███████████▎                                                                     | 14/100 [00:07<00:45,  1.89it/s]"
     ]
    },
    {
     "name": "stdout",
     "output_type": "stream",
     "text": [
      "7/7 [==============================] - 0s 8ms/step\n",
      "7/7 [==============================] - 0s 25ms/step\n"
     ]
    },
    {
     "name": "stderr",
     "output_type": "stream",
     "text": [
      "\r",
      " 15%|████████████▏                                                                    | 15/100 [00:07<00:44,  1.90it/s]"
     ]
    },
    {
     "name": "stdout",
     "output_type": "stream",
     "text": [
      "7/7 [==============================] - 0s 5ms/step\n",
      "7/7 [==============================] - 0s 24ms/step\n"
     ]
    },
    {
     "name": "stderr",
     "output_type": "stream",
     "text": [
      "\r",
      " 16%|████████████▉                                                                    | 16/100 [00:08<00:44,  1.90it/s]"
     ]
    },
    {
     "name": "stdout",
     "output_type": "stream",
     "text": [
      "7/7 [==============================] - 0s 7ms/step\n",
      "7/7 [==============================] - 0s 22ms/step\n"
     ]
    },
    {
     "name": "stderr",
     "output_type": "stream",
     "text": [
      "\r",
      " 17%|█████████████▊                                                                   | 17/100 [00:08<00:43,  1.90it/s]"
     ]
    },
    {
     "name": "stdout",
     "output_type": "stream",
     "text": [
      "7/7 [==============================] - 0s 6ms/step\n",
      "7/7 [==============================] - 0s 23ms/step\n"
     ]
    },
    {
     "name": "stderr",
     "output_type": "stream",
     "text": [
      "\r",
      " 18%|██████████████▌                                                                  | 18/100 [00:09<00:43,  1.89it/s]"
     ]
    },
    {
     "name": "stdout",
     "output_type": "stream",
     "text": [
      "7/7 [==============================] - 0s 7ms/step\n",
      "7/7 [==============================] - 0s 26ms/step\n"
     ]
    },
    {
     "name": "stderr",
     "output_type": "stream",
     "text": [
      "\r",
      " 19%|███████████████▍                                                                 | 19/100 [00:10<00:42,  1.89it/s]"
     ]
    },
    {
     "name": "stdout",
     "output_type": "stream",
     "text": [
      "7/7 [==============================] - 0s 7ms/step\n",
      "7/7 [==============================] - 0s 25ms/step\n"
     ]
    },
    {
     "name": "stderr",
     "output_type": "stream",
     "text": [
      "\r",
      " 20%|████████████████▏                                                                | 20/100 [00:10<00:42,  1.89it/s]"
     ]
    },
    {
     "name": "stdout",
     "output_type": "stream",
     "text": [
      "7/7 [==============================] - 0s 6ms/step\n",
      "7/7 [==============================] - 0s 25ms/step\n"
     ]
    },
    {
     "name": "stderr",
     "output_type": "stream",
     "text": [
      "\r",
      " 21%|█████████████████                                                                | 21/100 [00:11<00:41,  1.88it/s]"
     ]
    },
    {
     "name": "stdout",
     "output_type": "stream",
     "text": [
      "7/7 [==============================] - 0s 7ms/step\n",
      "7/7 [==============================] - 0s 25ms/step\n"
     ]
    },
    {
     "name": "stderr",
     "output_type": "stream",
     "text": [
      "\r",
      " 22%|█████████████████▊                                                               | 22/100 [00:11<00:41,  1.90it/s]"
     ]
    },
    {
     "name": "stdout",
     "output_type": "stream",
     "text": [
      "7/7 [==============================] - 0s 7ms/step\n",
      "7/7 [==============================] - 0s 25ms/step\n"
     ]
    },
    {
     "name": "stderr",
     "output_type": "stream",
     "text": [
      "\r",
      " 23%|██████████████████▋                                                              | 23/100 [00:12<00:40,  1.92it/s]"
     ]
    },
    {
     "name": "stdout",
     "output_type": "stream",
     "text": [
      "7/7 [==============================] - 0s 8ms/step\n",
      "7/7 [==============================] - 0s 25ms/step\n"
     ]
    },
    {
     "name": "stderr",
     "output_type": "stream",
     "text": [
      "\r",
      " 24%|███████████████████▍                                                             | 24/100 [00:12<00:40,  1.87it/s]"
     ]
    },
    {
     "name": "stdout",
     "output_type": "stream",
     "text": [
      "7/7 [==============================] - 0s 6ms/step\n",
      "7/7 [==============================] - 0s 26ms/step\n"
     ]
    },
    {
     "name": "stderr",
     "output_type": "stream",
     "text": [
      "\r",
      " 25%|████████████████████▎                                                            | 25/100 [00:13<00:40,  1.86it/s]"
     ]
    },
    {
     "name": "stdout",
     "output_type": "stream",
     "text": [
      "7/7 [==============================] - 0s 8ms/step\n",
      "7/7 [==============================] - 0s 26ms/step\n"
     ]
    },
    {
     "name": "stderr",
     "output_type": "stream",
     "text": [
      "\r",
      " 26%|█████████████████████                                                            | 26/100 [00:13<00:39,  1.86it/s]"
     ]
    },
    {
     "name": "stdout",
     "output_type": "stream",
     "text": [
      "7/7 [==============================] - 0s 7ms/step\n",
      "7/7 [==============================] - 0s 26ms/step\n"
     ]
    },
    {
     "name": "stderr",
     "output_type": "stream",
     "text": [
      "\r",
      " 27%|█████████████████████▊                                                           | 27/100 [00:14<00:39,  1.87it/s]"
     ]
    },
    {
     "name": "stdout",
     "output_type": "stream",
     "text": [
      "7/7 [==============================] - 0s 7ms/step\n",
      "7/7 [==============================] - 0s 24ms/step\n"
     ]
    },
    {
     "name": "stderr",
     "output_type": "stream",
     "text": [
      "\r",
      " 28%|██████████████████████▋                                                          | 28/100 [00:14<00:38,  1.87it/s]"
     ]
    },
    {
     "name": "stdout",
     "output_type": "stream",
     "text": [
      "7/7 [==============================] - 0s 9ms/step\n",
      "7/7 [==============================] - 0s 25ms/step\n"
     ]
    },
    {
     "name": "stderr",
     "output_type": "stream",
     "text": [
      "\r",
      " 29%|███████████████████████▍                                                         | 29/100 [00:15<00:38,  1.82it/s]"
     ]
    },
    {
     "name": "stdout",
     "output_type": "stream",
     "text": [
      "7/7 [==============================] - 0s 5ms/step\n",
      "7/7 [==============================] - 0s 25ms/step\n"
     ]
    },
    {
     "name": "stderr",
     "output_type": "stream",
     "text": [
      "\r",
      " 30%|████████████████████████▎                                                        | 30/100 [00:15<00:38,  1.82it/s]"
     ]
    },
    {
     "name": "stdout",
     "output_type": "stream",
     "text": [
      "7/7 [==============================] - 0s 8ms/step\n",
      "7/7 [==============================] - 0s 23ms/step\n"
     ]
    },
    {
     "name": "stderr",
     "output_type": "stream",
     "text": [
      "\r",
      " 31%|█████████████████████████                                                        | 31/100 [00:16<00:37,  1.85it/s]"
     ]
    },
    {
     "name": "stdout",
     "output_type": "stream",
     "text": [
      "7/7 [==============================] - 0s 7ms/step\n",
      "7/7 [==============================] - 0s 24ms/step\n"
     ]
    },
    {
     "name": "stderr",
     "output_type": "stream",
     "text": [
      "\r",
      " 32%|█████████████████████████▉                                                       | 32/100 [00:16<00:36,  1.86it/s]"
     ]
    },
    {
     "name": "stdout",
     "output_type": "stream",
     "text": [
      "7/7 [==============================] - 0s 8ms/step\n",
      "7/7 [==============================] - 0s 24ms/step\n"
     ]
    },
    {
     "name": "stderr",
     "output_type": "stream",
     "text": [
      "\r",
      " 33%|██████████████████████████▋                                                      | 33/100 [00:17<00:35,  1.87it/s]"
     ]
    },
    {
     "name": "stdout",
     "output_type": "stream",
     "text": [
      "7/7 [==============================] - 0s 8ms/step\n",
      "7/7 [==============================] - 0s 23ms/step\n"
     ]
    },
    {
     "name": "stderr",
     "output_type": "stream",
     "text": [
      "\r",
      " 34%|███████████████████████████▌                                                     | 34/100 [00:18<00:34,  1.89it/s]"
     ]
    },
    {
     "name": "stdout",
     "output_type": "stream",
     "text": [
      "7/7 [==============================] - 0s 6ms/step\n",
      "7/7 [==============================] - 0s 25ms/step\n"
     ]
    },
    {
     "name": "stderr",
     "output_type": "stream",
     "text": [
      "\r",
      " 35%|████████████████████████████▎                                                    | 35/100 [00:18<00:34,  1.90it/s]"
     ]
    },
    {
     "name": "stdout",
     "output_type": "stream",
     "text": [
      "7/7 [==============================] - 0s 6ms/step\n",
      "7/7 [==============================] - 0s 22ms/step\n"
     ]
    },
    {
     "name": "stderr",
     "output_type": "stream",
     "text": [
      "\r",
      " 36%|█████████████████████████████▏                                                   | 36/100 [00:19<00:33,  1.92it/s]"
     ]
    },
    {
     "name": "stdout",
     "output_type": "stream",
     "text": [
      "7/7 [==============================] - 0s 6ms/step\n",
      "7/7 [==============================] - 0s 23ms/step\n"
     ]
    },
    {
     "name": "stderr",
     "output_type": "stream",
     "text": [
      "\r",
      " 37%|█████████████████████████████▉                                                   | 37/100 [00:19<00:32,  1.92it/s]"
     ]
    },
    {
     "name": "stdout",
     "output_type": "stream",
     "text": [
      "7/7 [==============================] - 0s 7ms/step\n",
      "7/7 [==============================] - 0s 24ms/step\n"
     ]
    },
    {
     "name": "stderr",
     "output_type": "stream",
     "text": [
      "\r",
      " 38%|██████████████████████████████▊                                                  | 38/100 [00:20<00:32,  1.92it/s]"
     ]
    },
    {
     "name": "stdout",
     "output_type": "stream",
     "text": [
      "7/7 [==============================] - 0s 8ms/step\n",
      "7/7 [==============================] - 0s 24ms/step\n"
     ]
    },
    {
     "name": "stderr",
     "output_type": "stream",
     "text": [
      "\r",
      " 39%|███████████████████████████████▌                                                 | 39/100 [00:20<00:31,  1.92it/s]"
     ]
    },
    {
     "name": "stdout",
     "output_type": "stream",
     "text": [
      "7/7 [==============================] - 0s 8ms/step\n",
      "7/7 [==============================] - 0s 25ms/step\n"
     ]
    },
    {
     "name": "stderr",
     "output_type": "stream",
     "text": [
      "\r",
      " 40%|████████████████████████████████▍                                                | 40/100 [00:21<00:31,  1.93it/s]"
     ]
    },
    {
     "name": "stdout",
     "output_type": "stream",
     "text": [
      "7/7 [==============================] - 0s 7ms/step\n",
      "7/7 [==============================] - 0s 24ms/step\n"
     ]
    },
    {
     "name": "stderr",
     "output_type": "stream",
     "text": [
      "\r",
      " 41%|█████████████████████████████████▏                                               | 41/100 [00:21<00:30,  1.92it/s]"
     ]
    },
    {
     "name": "stdout",
     "output_type": "stream",
     "text": [
      "7/7 [==============================] - 0s 7ms/step\n",
      "7/7 [==============================] - 0s 23ms/step\n"
     ]
    },
    {
     "name": "stderr",
     "output_type": "stream",
     "text": [
      "\r",
      " 42%|██████████████████████████████████                                               | 42/100 [00:22<00:30,  1.93it/s]"
     ]
    },
    {
     "name": "stdout",
     "output_type": "stream",
     "text": [
      "7/7 [==============================] - 0s 7ms/step\n",
      "7/7 [==============================] - 0s 24ms/step\n"
     ]
    },
    {
     "name": "stderr",
     "output_type": "stream",
     "text": [
      "\r",
      " 43%|██████████████████████████████████▊                                              | 43/100 [00:22<00:29,  1.92it/s]"
     ]
    },
    {
     "name": "stdout",
     "output_type": "stream",
     "text": [
      "7/7 [==============================] - 0s 7ms/step\n",
      "7/7 [==============================] - 0s 24ms/step\n"
     ]
    },
    {
     "name": "stderr",
     "output_type": "stream",
     "text": [
      "\r",
      " 44%|███████████████████████████████████▋                                             | 44/100 [00:23<00:29,  1.92it/s]"
     ]
    },
    {
     "name": "stdout",
     "output_type": "stream",
     "text": [
      "7/7 [==============================] - 0s 6ms/step\n",
      "7/7 [==============================] - 0s 25ms/step\n"
     ]
    },
    {
     "name": "stderr",
     "output_type": "stream",
     "text": [
      "\r",
      " 45%|████████████████████████████████████▍                                            | 45/100 [00:23<00:28,  1.91it/s]"
     ]
    },
    {
     "name": "stdout",
     "output_type": "stream",
     "text": [
      "7/7 [==============================] - 0s 6ms/step\n",
      "7/7 [==============================] - 0s 24ms/step\n"
     ]
    },
    {
     "name": "stderr",
     "output_type": "stream",
     "text": [
      "\r",
      " 46%|█████████████████████████████████████▎                                           | 46/100 [00:24<00:28,  1.91it/s]"
     ]
    },
    {
     "name": "stdout",
     "output_type": "stream",
     "text": [
      "7/7 [==============================] - 0s 6ms/step\n",
      "7/7 [==============================] - 0s 25ms/step\n"
     ]
    },
    {
     "name": "stderr",
     "output_type": "stream",
     "text": [
      "\r",
      " 47%|██████████████████████████████████████                                           | 47/100 [00:24<00:27,  1.91it/s]"
     ]
    },
    {
     "name": "stdout",
     "output_type": "stream",
     "text": [
      "7/7 [==============================] - 0s 7ms/step\n",
      "7/7 [==============================] - 0s 25ms/step\n"
     ]
    },
    {
     "name": "stderr",
     "output_type": "stream",
     "text": [
      "\r",
      " 48%|██████████████████████████████████████▉                                          | 48/100 [00:25<00:27,  1.90it/s]"
     ]
    },
    {
     "name": "stdout",
     "output_type": "stream",
     "text": [
      "7/7 [==============================] - 0s 8ms/step\n",
      "7/7 [==============================] - 0s 23ms/step\n"
     ]
    },
    {
     "name": "stderr",
     "output_type": "stream",
     "text": [
      "\r",
      " 49%|███████████████████████████████████████▋                                         | 49/100 [00:25<00:26,  1.90it/s]"
     ]
    },
    {
     "name": "stdout",
     "output_type": "stream",
     "text": [
      "7/7 [==============================] - 0s 8ms/step\n",
      "7/7 [==============================] - 0s 25ms/step\n"
     ]
    },
    {
     "name": "stderr",
     "output_type": "stream",
     "text": [
      "\r",
      " 50%|████████████████████████████████████████▌                                        | 50/100 [00:26<00:26,  1.91it/s]"
     ]
    },
    {
     "name": "stdout",
     "output_type": "stream",
     "text": [
      "7/7 [==============================] - 0s 8ms/step\n",
      "7/7 [==============================] - 0s 25ms/step\n"
     ]
    },
    {
     "name": "stderr",
     "output_type": "stream",
     "text": [
      "\r",
      " 51%|█████████████████████████████████████████▎                                       | 51/100 [00:26<00:25,  1.92it/s]"
     ]
    },
    {
     "name": "stdout",
     "output_type": "stream",
     "text": [
      "7/7 [==============================] - 0s 5ms/step\n",
      "7/7 [==============================] - 0s 24ms/step\n"
     ]
    },
    {
     "name": "stderr",
     "output_type": "stream",
     "text": [
      "\r",
      " 52%|██████████████████████████████████████████                                       | 52/100 [00:27<00:25,  1.91it/s]"
     ]
    },
    {
     "name": "stdout",
     "output_type": "stream",
     "text": [
      "7/7 [==============================] - 0s 8ms/step\n",
      "7/7 [==============================] - 0s 25ms/step\n"
     ]
    },
    {
     "name": "stderr",
     "output_type": "stream",
     "text": [
      "\r",
      " 53%|██████████████████████████████████████████▉                                      | 53/100 [00:27<00:24,  1.92it/s]"
     ]
    },
    {
     "name": "stdout",
     "output_type": "stream",
     "text": [
      "7/7 [==============================] - 0s 8ms/step\n",
      "7/7 [==============================] - 0s 25ms/step\n"
     ]
    },
    {
     "name": "stderr",
     "output_type": "stream",
     "text": [
      "\r",
      " 54%|███████████████████████████████████████████▋                                     | 54/100 [00:28<00:23,  1.92it/s]"
     ]
    },
    {
     "name": "stdout",
     "output_type": "stream",
     "text": [
      "7/7 [==============================] - 0s 9ms/step\n",
      "7/7 [==============================] - 0s 23ms/step\n"
     ]
    },
    {
     "name": "stderr",
     "output_type": "stream",
     "text": [
      "\r",
      " 55%|████████████████████████████████████████████▌                                    | 55/100 [00:28<00:23,  1.91it/s]"
     ]
    },
    {
     "name": "stdout",
     "output_type": "stream",
     "text": [
      "7/7 [==============================] - 0s 7ms/step\n",
      "7/7 [==============================] - 0s 24ms/step\n"
     ]
    },
    {
     "name": "stderr",
     "output_type": "stream",
     "text": [
      "\r",
      " 56%|█████████████████████████████████████████████▎                                   | 56/100 [00:29<00:23,  1.91it/s]"
     ]
    },
    {
     "name": "stdout",
     "output_type": "stream",
     "text": [
      "7/7 [==============================] - 0s 6ms/step\n",
      "7/7 [==============================] - 0s 24ms/step\n"
     ]
    },
    {
     "name": "stderr",
     "output_type": "stream",
     "text": [
      "\r",
      " 57%|██████████████████████████████████████████████▏                                  | 57/100 [00:30<00:22,  1.91it/s]"
     ]
    },
    {
     "name": "stdout",
     "output_type": "stream",
     "text": [
      "7/7 [==============================] - 0s 8ms/step\n",
      "7/7 [==============================] - 0s 23ms/step\n"
     ]
    },
    {
     "name": "stderr",
     "output_type": "stream",
     "text": [
      "\r",
      " 58%|██████████████████████████████████████████████▉                                  | 58/100 [00:30<00:21,  1.91it/s]"
     ]
    },
    {
     "name": "stdout",
     "output_type": "stream",
     "text": [
      "7/7 [==============================] - 0s 8ms/step\n",
      "7/7 [==============================] - 0s 22ms/step\n"
     ]
    },
    {
     "name": "stderr",
     "output_type": "stream",
     "text": [
      "\r",
      " 59%|███████████████████████████████████████████████▊                                 | 59/100 [00:31<00:21,  1.94it/s]"
     ]
    },
    {
     "name": "stdout",
     "output_type": "stream",
     "text": [
      "7/7 [==============================] - 0s 7ms/step\n",
      "7/7 [==============================] - 0s 23ms/step\n"
     ]
    },
    {
     "name": "stderr",
     "output_type": "stream",
     "text": [
      "\r",
      " 60%|████████████████████████████████████████████████▌                                | 60/100 [00:31<00:20,  1.94it/s]"
     ]
    },
    {
     "name": "stdout",
     "output_type": "stream",
     "text": [
      "7/7 [==============================] - 0s 7ms/step\n",
      "7/7 [==============================] - 0s 24ms/step\n"
     ]
    },
    {
     "name": "stderr",
     "output_type": "stream",
     "text": [
      "\r",
      " 61%|█████████████████████████████████████████████████▍                               | 61/100 [00:32<00:20,  1.92it/s]"
     ]
    },
    {
     "name": "stdout",
     "output_type": "stream",
     "text": [
      "7/7 [==============================] - 0s 6ms/step\n",
      "7/7 [==============================] - 0s 23ms/step\n"
     ]
    },
    {
     "name": "stderr",
     "output_type": "stream",
     "text": [
      "\r",
      " 62%|██████████████████████████████████████████████████▏                              | 62/100 [00:32<00:19,  1.92it/s]"
     ]
    },
    {
     "name": "stdout",
     "output_type": "stream",
     "text": [
      "7/7 [==============================] - 0s 7ms/step\n",
      "7/7 [==============================] - 0s 23ms/step\n"
     ]
    },
    {
     "name": "stderr",
     "output_type": "stream",
     "text": [
      "\r",
      " 63%|███████████████████████████████████████████████████                              | 63/100 [00:33<00:19,  1.91it/s]"
     ]
    },
    {
     "name": "stdout",
     "output_type": "stream",
     "text": [
      "7/7 [==============================] - 0s 8ms/step\n",
      "7/7 [==============================] - 0s 22ms/step\n"
     ]
    },
    {
     "name": "stderr",
     "output_type": "stream",
     "text": [
      "\r",
      " 64%|███████████████████████████████████████████████████▊                             | 64/100 [00:33<00:18,  1.91it/s]"
     ]
    },
    {
     "name": "stdout",
     "output_type": "stream",
     "text": [
      "7/7 [==============================] - 0s 7ms/step\n",
      "7/7 [==============================] - 0s 21ms/step\n"
     ]
    },
    {
     "name": "stderr",
     "output_type": "stream",
     "text": [
      "\r",
      " 65%|████████████████████████████████████████████████████▋                            | 65/100 [00:34<00:18,  1.90it/s]"
     ]
    },
    {
     "name": "stdout",
     "output_type": "stream",
     "text": [
      "7/7 [==============================] - 0s 7ms/step\n",
      "7/7 [==============================] - 0s 21ms/step\n"
     ]
    },
    {
     "name": "stderr",
     "output_type": "stream",
     "text": [
      "\r",
      " 66%|█████████████████████████████████████████████████████▍                           | 66/100 [00:34<00:17,  1.92it/s]"
     ]
    },
    {
     "name": "stdout",
     "output_type": "stream",
     "text": [
      "7/7 [==============================] - 0s 6ms/step\n",
      "7/7 [==============================] - 0s 25ms/step\n"
     ]
    },
    {
     "name": "stderr",
     "output_type": "stream",
     "text": [
      "\r",
      " 67%|██████████████████████████████████████████████████████▎                          | 67/100 [00:35<00:17,  1.91it/s]"
     ]
    },
    {
     "name": "stdout",
     "output_type": "stream",
     "text": [
      "7/7 [==============================] - 0s 7ms/step\n",
      "7/7 [==============================] - 0s 23ms/step\n"
     ]
    },
    {
     "name": "stderr",
     "output_type": "stream",
     "text": [
      "\r",
      " 68%|███████████████████████████████████████████████████████                          | 68/100 [00:35<00:16,  1.91it/s]"
     ]
    },
    {
     "name": "stdout",
     "output_type": "stream",
     "text": [
      "7/7 [==============================] - 0s 6ms/step\n",
      "7/7 [==============================] - 0s 25ms/step\n"
     ]
    },
    {
     "name": "stderr",
     "output_type": "stream",
     "text": [
      "\r",
      " 69%|███████████████████████████████████████████████████████▉                         | 69/100 [00:36<00:16,  1.92it/s]"
     ]
    },
    {
     "name": "stdout",
     "output_type": "stream",
     "text": [
      "7/7 [==============================] - 0s 7ms/step\n",
      "7/7 [==============================] - 0s 22ms/step\n"
     ]
    },
    {
     "name": "stderr",
     "output_type": "stream",
     "text": [
      "\r",
      " 70%|████████████████████████████████████████████████████████▋                        | 70/100 [00:36<00:15,  1.91it/s]"
     ]
    },
    {
     "name": "stdout",
     "output_type": "stream",
     "text": [
      "7/7 [==============================] - 0s 7ms/step\n",
      "7/7 [==============================] - 0s 24ms/step\n"
     ]
    },
    {
     "name": "stderr",
     "output_type": "stream",
     "text": [
      "\r",
      " 71%|█████████████████████████████████████████████████████████▌                       | 71/100 [00:37<00:15,  1.91it/s]"
     ]
    },
    {
     "name": "stdout",
     "output_type": "stream",
     "text": [
      "7/7 [==============================] - 0s 6ms/step\n",
      "7/7 [==============================] - 0s 24ms/step\n"
     ]
    },
    {
     "name": "stderr",
     "output_type": "stream",
     "text": [
      "\r",
      " 72%|██████████████████████████████████████████████████████████▎                      | 72/100 [00:37<00:14,  1.91it/s]"
     ]
    },
    {
     "name": "stdout",
     "output_type": "stream",
     "text": [
      "7/7 [==============================] - 0s 8ms/step\n",
      "7/7 [==============================] - 0s 23ms/step\n"
     ]
    },
    {
     "name": "stderr",
     "output_type": "stream",
     "text": [
      "\r",
      " 73%|███████████████████████████████████████████████████████████▏                     | 73/100 [00:38<00:14,  1.85it/s]"
     ]
    },
    {
     "name": "stdout",
     "output_type": "stream",
     "text": [
      "7/7 [==============================] - 0s 5ms/step\n",
      "7/7 [==============================] - 0s 26ms/step\n"
     ]
    },
    {
     "name": "stderr",
     "output_type": "stream",
     "text": [
      "\r",
      " 74%|███████████████████████████████████████████████████████████▉                     | 74/100 [00:38<00:13,  1.88it/s]"
     ]
    },
    {
     "name": "stdout",
     "output_type": "stream",
     "text": [
      "7/7 [==============================] - 0s 6ms/step\n",
      "7/7 [==============================] - 0s 24ms/step\n"
     ]
    },
    {
     "name": "stderr",
     "output_type": "stream",
     "text": [
      "\r",
      " 75%|████████████████████████████████████████████████████████████▊                    | 75/100 [00:39<00:13,  1.88it/s]"
     ]
    },
    {
     "name": "stdout",
     "output_type": "stream",
     "text": [
      "7/7 [==============================] - 0s 7ms/step\n",
      "7/7 [==============================] - 0s 23ms/step\n"
     ]
    },
    {
     "name": "stderr",
     "output_type": "stream",
     "text": [
      "\r",
      " 76%|█████████████████████████████████████████████████████████████▌                   | 76/100 [00:40<00:12,  1.88it/s]"
     ]
    },
    {
     "name": "stdout",
     "output_type": "stream",
     "text": [
      "7/7 [==============================] - 0s 6ms/step\n",
      "7/7 [==============================] - 0s 23ms/step\n"
     ]
    },
    {
     "name": "stderr",
     "output_type": "stream",
     "text": [
      "\r",
      " 77%|██████████████████████████████████████████████████████████████▎                  | 77/100 [00:40<00:12,  1.91it/s]"
     ]
    },
    {
     "name": "stdout",
     "output_type": "stream",
     "text": [
      "7/7 [==============================] - 0s 7ms/step\n",
      "7/7 [==============================] - 0s 25ms/step\n"
     ]
    },
    {
     "name": "stderr",
     "output_type": "stream",
     "text": [
      "\r",
      " 78%|███████████████████████████████████████████████████████████████▏                 | 78/100 [00:41<00:11,  1.85it/s]"
     ]
    },
    {
     "name": "stdout",
     "output_type": "stream",
     "text": [
      "7/7 [==============================] - 0s 6ms/step\n",
      "7/7 [==============================] - 0s 23ms/step\n"
     ]
    },
    {
     "name": "stderr",
     "output_type": "stream",
     "text": [
      "\r",
      " 79%|███████████████████████████████████████████████████████████████▉                 | 79/100 [00:41<00:11,  1.82it/s]"
     ]
    },
    {
     "name": "stdout",
     "output_type": "stream",
     "text": [
      "7/7 [==============================] - 0s 6ms/step\n",
      "7/7 [==============================] - 0s 23ms/step\n"
     ]
    },
    {
     "name": "stderr",
     "output_type": "stream",
     "text": [
      "\r",
      " 80%|████████████████████████████████████████████████████████████████▊                | 80/100 [00:42<00:11,  1.81it/s]"
     ]
    },
    {
     "name": "stdout",
     "output_type": "stream",
     "text": [
      "7/7 [==============================] - 0s 5ms/step\n",
      "7/7 [==============================] - 0s 22ms/step\n"
     ]
    },
    {
     "name": "stderr",
     "output_type": "stream",
     "text": [
      "\r",
      " 81%|█████████████████████████████████████████████████████████████████▌               | 81/100 [00:42<00:10,  1.85it/s]"
     ]
    },
    {
     "name": "stdout",
     "output_type": "stream",
     "text": [
      "7/7 [==============================] - 0s 6ms/step\n",
      "7/7 [==============================] - 0s 25ms/step\n"
     ]
    },
    {
     "name": "stderr",
     "output_type": "stream",
     "text": [
      "\r",
      " 82%|██████████████████████████████████████████████████████████████████▍              | 82/100 [00:43<00:09,  1.87it/s]"
     ]
    },
    {
     "name": "stdout",
     "output_type": "stream",
     "text": [
      "7/7 [==============================] - 0s 7ms/step\n",
      "7/7 [==============================] - 0s 23ms/step\n"
     ]
    },
    {
     "name": "stderr",
     "output_type": "stream",
     "text": [
      "\r",
      " 83%|███████████████████████████████████████████████████████████████████▏             | 83/100 [00:43<00:09,  1.86it/s]"
     ]
    },
    {
     "name": "stdout",
     "output_type": "stream",
     "text": [
      "7/7 [==============================] - 0s 6ms/step\n",
      "7/7 [==============================] - 0s 22ms/step\n"
     ]
    },
    {
     "name": "stderr",
     "output_type": "stream",
     "text": [
      "\r",
      " 84%|████████████████████████████████████████████████████████████████████             | 84/100 [00:44<00:08,  1.87it/s]"
     ]
    },
    {
     "name": "stdout",
     "output_type": "stream",
     "text": [
      "7/7 [==============================] - 0s 6ms/step\n",
      "7/7 [==============================] - 0s 25ms/step\n"
     ]
    },
    {
     "name": "stderr",
     "output_type": "stream",
     "text": [
      "\r",
      " 85%|████████████████████████████████████████████████████████████████████▊            | 85/100 [00:44<00:07,  1.89it/s]"
     ]
    },
    {
     "name": "stdout",
     "output_type": "stream",
     "text": [
      "7/7 [==============================] - 0s 7ms/step\n",
      "7/7 [==============================] - 0s 23ms/step\n"
     ]
    },
    {
     "name": "stderr",
     "output_type": "stream",
     "text": [
      "\r",
      " 86%|█████████████████████████████████████████████████████████████████████▋           | 86/100 [00:45<00:07,  1.88it/s]"
     ]
    },
    {
     "name": "stdout",
     "output_type": "stream",
     "text": [
      "7/7 [==============================] - 0s 7ms/step\n",
      "7/7 [==============================] - 0s 23ms/step\n"
     ]
    },
    {
     "name": "stderr",
     "output_type": "stream",
     "text": [
      "\r",
      " 87%|██████████████████████████████████████████████████████████████████████▍          | 87/100 [00:45<00:06,  1.88it/s]"
     ]
    },
    {
     "name": "stdout",
     "output_type": "stream",
     "text": [
      "7/7 [==============================] - 0s 6ms/step\n",
      "7/7 [==============================] - 0s 22ms/step\n"
     ]
    },
    {
     "name": "stderr",
     "output_type": "stream",
     "text": [
      "\r",
      " 88%|███████████████████████████████████████████████████████████████████████▎         | 88/100 [00:46<00:06,  1.91it/s]"
     ]
    },
    {
     "name": "stdout",
     "output_type": "stream",
     "text": [
      "7/7 [==============================] - 0s 5ms/step\n",
      "7/7 [==============================] - 0s 20ms/step\n"
     ]
    },
    {
     "name": "stderr",
     "output_type": "stream",
     "text": [
      "\r",
      " 89%|████████████████████████████████████████████████████████████████████████         | 89/100 [00:46<00:05,  1.96it/s]"
     ]
    },
    {
     "name": "stdout",
     "output_type": "stream",
     "text": [
      "7/7 [==============================] - 0s 6ms/step\n",
      "7/7 [==============================] - 0s 20ms/step\n"
     ]
    },
    {
     "name": "stderr",
     "output_type": "stream",
     "text": [
      "\r",
      " 90%|████████████████████████████████████████████████████████████████████████▉        | 90/100 [00:47<00:04,  2.05it/s]"
     ]
    },
    {
     "name": "stdout",
     "output_type": "stream",
     "text": [
      "7/7 [==============================] - 0s 5ms/step\n",
      "7/7 [==============================] - 0s 22ms/step\n"
     ]
    },
    {
     "name": "stderr",
     "output_type": "stream",
     "text": [
      "\r",
      " 91%|█████████████████████████████████████████████████████████████████████████▋       | 91/100 [00:47<00:04,  2.13it/s]"
     ]
    },
    {
     "name": "stdout",
     "output_type": "stream",
     "text": [
      "7/7 [==============================] - 0s 7ms/step\n",
      "7/7 [==============================] - 0s 22ms/step\n"
     ]
    },
    {
     "name": "stderr",
     "output_type": "stream",
     "text": [
      "\r",
      " 92%|██████████████████████████████████████████████████████████████████████████▌      | 92/100 [00:48<00:03,  2.13it/s]"
     ]
    },
    {
     "name": "stdout",
     "output_type": "stream",
     "text": [
      "7/7 [==============================] - 0s 5ms/step\n",
      "7/7 [==============================] - 0s 20ms/step\n"
     ]
    },
    {
     "name": "stderr",
     "output_type": "stream",
     "text": [
      "\r",
      " 93%|███████████████████████████████████████████████████████████████████████████▎     | 93/100 [00:48<00:03,  2.17it/s]"
     ]
    },
    {
     "name": "stdout",
     "output_type": "stream",
     "text": [
      "7/7 [==============================] - 0s 6ms/step\n",
      "7/7 [==============================] - 0s 24ms/step\n"
     ]
    },
    {
     "name": "stderr",
     "output_type": "stream",
     "text": [
      "\r",
      " 94%|████████████████████████████████████████████████████████████████████████████▏    | 94/100 [00:49<00:02,  2.16it/s]"
     ]
    },
    {
     "name": "stdout",
     "output_type": "stream",
     "text": [
      "7/7 [==============================] - 0s 8ms/step\n",
      "7/7 [==============================] - 0s 24ms/step\n"
     ]
    },
    {
     "name": "stderr",
     "output_type": "stream",
     "text": [
      "\r",
      " 95%|████████████████████████████████████████████████████████████████████████████▉    | 95/100 [00:49<00:02,  2.11it/s]"
     ]
    },
    {
     "name": "stdout",
     "output_type": "stream",
     "text": [
      "7/7 [==============================] - 0s 6ms/step\n",
      "7/7 [==============================] - 0s 25ms/step\n"
     ]
    },
    {
     "name": "stderr",
     "output_type": "stream",
     "text": [
      "\r",
      " 96%|█████████████████████████████████████████████████████████████████████████████▊   | 96/100 [00:50<00:01,  2.04it/s]"
     ]
    },
    {
     "name": "stdout",
     "output_type": "stream",
     "text": [
      "7/7 [==============================] - 0s 5ms/step\n",
      "7/7 [==============================] - 0s 24ms/step\n"
     ]
    },
    {
     "name": "stderr",
     "output_type": "stream",
     "text": [
      "\r",
      " 97%|██████████████████████████████████████████████████████████████████████████████▌  | 97/100 [00:50<00:01,  2.00it/s]"
     ]
    },
    {
     "name": "stdout",
     "output_type": "stream",
     "text": [
      "7/7 [==============================] - 0s 8ms/step\n",
      "7/7 [==============================] - 0s 24ms/step\n"
     ]
    },
    {
     "name": "stderr",
     "output_type": "stream",
     "text": [
      "\r",
      " 98%|███████████████████████████████████████████████████████████████████████████████▍ | 98/100 [00:51<00:01,  2.00it/s]"
     ]
    },
    {
     "name": "stdout",
     "output_type": "stream",
     "text": [
      "7/7 [==============================] - 0s 8ms/step\n",
      "7/7 [==============================] - 0s 25ms/step\n"
     ]
    },
    {
     "name": "stderr",
     "output_type": "stream",
     "text": [
      "\r",
      " 99%|████████████████████████████████████████████████████████████████████████████████▏| 99/100 [00:51<00:00,  1.98it/s]"
     ]
    },
    {
     "name": "stdout",
     "output_type": "stream",
     "text": [
      "7/7 [==============================] - 0s 7ms/step\n",
      "7/7 [==============================] - 0s 24ms/step\n"
     ]
    },
    {
     "name": "stderr",
     "output_type": "stream",
     "text": [
      "100%|████████████████████████████████████████████████████████████████████████████████| 100/100 [00:52<00:00,  1.91it/s]\n",
      "  0%|                                                                                          | 0/100 [00:00<?, ?it/s]"
     ]
    },
    {
     "name": "stdout",
     "output_type": "stream",
     "text": [
      "Collier\tUrban  \t MAE 0.01938206621782188 \t 0.0008286712018797649\n",
      "Collier\tUrban  \t RMSE 0.026095330607585433 \t 0.001287412353549297\n",
      "Collier\tUrban  \t MAPE 20.857519006142326 \t 0.9467264446437723\n",
      "7/7 [==============================] - 0s 7ms/step\n",
      "7/7 [==============================] - 0s 25ms/step\n"
     ]
    },
    {
     "name": "stderr",
     "output_type": "stream",
     "text": [
      "\r",
      "  1%|▊                                                                                 | 1/100 [00:00<00:50,  1.95it/s]"
     ]
    },
    {
     "name": "stdout",
     "output_type": "stream",
     "text": [
      "7/7 [==============================] - 0s 9ms/step\n",
      "7/7 [==============================] - 0s 24ms/step\n"
     ]
    },
    {
     "name": "stderr",
     "output_type": "stream",
     "text": [
      "\r",
      "  2%|█▋                                                                                | 2/100 [00:01<00:51,  1.92it/s]"
     ]
    },
    {
     "name": "stdout",
     "output_type": "stream",
     "text": [
      "7/7 [==============================] - 0s 7ms/step\n",
      "7/7 [==============================] - 0s 24ms/step\n"
     ]
    },
    {
     "name": "stderr",
     "output_type": "stream",
     "text": [
      "\r",
      "  3%|██▍                                                                               | 3/100 [00:01<00:50,  1.94it/s]"
     ]
    },
    {
     "name": "stdout",
     "output_type": "stream",
     "text": [
      "7/7 [==============================] - 0s 7ms/step\n",
      "7/7 [==============================] - 0s 24ms/step\n"
     ]
    },
    {
     "name": "stderr",
     "output_type": "stream",
     "text": [
      "\r",
      "  4%|███▎                                                                              | 4/100 [00:02<00:50,  1.91it/s]"
     ]
    },
    {
     "name": "stdout",
     "output_type": "stream",
     "text": [
      "7/7 [==============================] - 0s 8ms/step\n",
      "7/7 [==============================] - 0s 24ms/step\n"
     ]
    },
    {
     "name": "stderr",
     "output_type": "stream",
     "text": [
      "\r",
      "  5%|████                                                                              | 5/100 [00:02<00:49,  1.91it/s]"
     ]
    },
    {
     "name": "stdout",
     "output_type": "stream",
     "text": [
      "7/7 [==============================] - 0s 8ms/step\n",
      "7/7 [==============================] - 0s 23ms/step\n"
     ]
    },
    {
     "name": "stderr",
     "output_type": "stream",
     "text": [
      "\r",
      "  6%|████▉                                                                             | 6/100 [00:03<00:49,  1.91it/s]"
     ]
    },
    {
     "name": "stdout",
     "output_type": "stream",
     "text": [
      "7/7 [==============================] - 0s 8ms/step\n",
      "7/7 [==============================] - 0s 25ms/step\n"
     ]
    },
    {
     "name": "stderr",
     "output_type": "stream",
     "text": [
      "\r",
      "  7%|█████▋                                                                            | 7/100 [00:03<00:48,  1.91it/s]"
     ]
    },
    {
     "name": "stdout",
     "output_type": "stream",
     "text": [
      "7/7 [==============================] - 0s 8ms/step\n",
      "7/7 [==============================] - 0s 24ms/step\n"
     ]
    },
    {
     "name": "stderr",
     "output_type": "stream",
     "text": [
      "\r",
      "  8%|██████▌                                                                           | 8/100 [00:04<00:48,  1.90it/s]"
     ]
    },
    {
     "name": "stdout",
     "output_type": "stream",
     "text": [
      "7/7 [==============================] - 0s 7ms/step\n",
      "7/7 [==============================] - 0s 24ms/step\n"
     ]
    },
    {
     "name": "stderr",
     "output_type": "stream",
     "text": [
      "\r",
      "  9%|███████▍                                                                          | 9/100 [00:04<00:47,  1.92it/s]"
     ]
    },
    {
     "name": "stdout",
     "output_type": "stream",
     "text": [
      "7/7 [==============================] - 0s 8ms/step\n",
      "7/7 [==============================] - 0s 24ms/step\n"
     ]
    },
    {
     "name": "stderr",
     "output_type": "stream",
     "text": [
      "\r",
      " 10%|████████                                                                         | 10/100 [00:05<00:46,  1.93it/s]"
     ]
    },
    {
     "name": "stdout",
     "output_type": "stream",
     "text": [
      "7/7 [==============================] - 0s 6ms/step\n",
      "7/7 [==============================] - 0s 24ms/step\n"
     ]
    },
    {
     "name": "stderr",
     "output_type": "stream",
     "text": [
      "\r",
      " 11%|████████▉                                                                        | 11/100 [00:05<00:45,  1.95it/s]"
     ]
    },
    {
     "name": "stdout",
     "output_type": "stream",
     "text": [
      "7/7 [==============================] - 0s 8ms/step\n",
      "7/7 [==============================] - 0s 24ms/step\n"
     ]
    },
    {
     "name": "stderr",
     "output_type": "stream",
     "text": [
      "\r",
      " 12%|█████████▋                                                                       | 12/100 [00:06<00:45,  1.93it/s]"
     ]
    },
    {
     "name": "stdout",
     "output_type": "stream",
     "text": [
      "7/7 [==============================] - 0s 8ms/step\n",
      "7/7 [==============================] - 0s 23ms/step\n"
     ]
    },
    {
     "name": "stderr",
     "output_type": "stream",
     "text": [
      "\r",
      " 13%|██████████▌                                                                      | 13/100 [00:06<00:45,  1.92it/s]"
     ]
    },
    {
     "name": "stdout",
     "output_type": "stream",
     "text": [
      "7/7 [==============================] - 0s 7ms/step\n",
      "7/7 [==============================] - 0s 24ms/step\n"
     ]
    },
    {
     "name": "stderr",
     "output_type": "stream",
     "text": [
      "\r",
      " 14%|███████████▎                                                                     | 14/100 [00:07<00:44,  1.92it/s]"
     ]
    },
    {
     "name": "stdout",
     "output_type": "stream",
     "text": [
      "7/7 [==============================] - 0s 6ms/step\n",
      "7/7 [==============================] - 0s 23ms/step\n"
     ]
    },
    {
     "name": "stderr",
     "output_type": "stream",
     "text": [
      "\r",
      " 15%|████████████▏                                                                    | 15/100 [00:07<00:43,  1.93it/s]"
     ]
    },
    {
     "name": "stdout",
     "output_type": "stream",
     "text": [
      "7/7 [==============================] - 0s 6ms/step\n",
      "7/7 [==============================] - 0s 24ms/step\n"
     ]
    },
    {
     "name": "stderr",
     "output_type": "stream",
     "text": [
      "\r",
      " 16%|████████████▉                                                                    | 16/100 [00:08<00:43,  1.91it/s]"
     ]
    },
    {
     "name": "stdout",
     "output_type": "stream",
     "text": [
      "7/7 [==============================] - 0s 5ms/step\n",
      "7/7 [==============================] - 0s 21ms/step\n"
     ]
    },
    {
     "name": "stderr",
     "output_type": "stream",
     "text": [
      "\r",
      " 17%|█████████████▊                                                                   | 17/100 [00:08<00:42,  1.96it/s]"
     ]
    },
    {
     "name": "stdout",
     "output_type": "stream",
     "text": [
      "7/7 [==============================] - 0s 6ms/step\n",
      "7/7 [==============================] - 0s 25ms/step\n"
     ]
    },
    {
     "name": "stderr",
     "output_type": "stream",
     "text": [
      "\r",
      " 18%|██████████████▌                                                                  | 18/100 [00:09<00:41,  1.96it/s]"
     ]
    },
    {
     "name": "stdout",
     "output_type": "stream",
     "text": [
      "7/7 [==============================] - 0s 8ms/step\n",
      "7/7 [==============================] - 0s 26ms/step\n"
     ]
    },
    {
     "name": "stderr",
     "output_type": "stream",
     "text": [
      "\r",
      " 19%|███████████████▍                                                                 | 19/100 [00:09<00:41,  1.97it/s]"
     ]
    },
    {
     "name": "stdout",
     "output_type": "stream",
     "text": [
      "7/7 [==============================] - 0s 6ms/step\n",
      "7/7 [==============================] - 0s 25ms/step\n"
     ]
    },
    {
     "name": "stderr",
     "output_type": "stream",
     "text": [
      "\r",
      " 20%|████████████████▏                                                                | 20/100 [00:10<00:41,  1.93it/s]"
     ]
    },
    {
     "name": "stdout",
     "output_type": "stream",
     "text": [
      "7/7 [==============================] - 0s 6ms/step\n",
      "7/7 [==============================] - 0s 25ms/step\n"
     ]
    },
    {
     "name": "stderr",
     "output_type": "stream",
     "text": [
      "\r",
      " 21%|█████████████████                                                                | 21/100 [00:10<00:40,  1.93it/s]"
     ]
    },
    {
     "name": "stdout",
     "output_type": "stream",
     "text": [
      "7/7 [==============================] - 0s 7ms/step\n",
      "7/7 [==============================] - 0s 25ms/step\n"
     ]
    },
    {
     "name": "stderr",
     "output_type": "stream",
     "text": [
      "\r",
      " 22%|█████████████████▊                                                               | 22/100 [00:11<00:40,  1.91it/s]"
     ]
    },
    {
     "name": "stdout",
     "output_type": "stream",
     "text": [
      "7/7 [==============================] - 0s 6ms/step\n",
      "7/7 [==============================] - 0s 23ms/step\n"
     ]
    },
    {
     "name": "stderr",
     "output_type": "stream",
     "text": [
      "\r",
      " 23%|██████████████████▋                                                              | 23/100 [00:11<00:40,  1.92it/s]"
     ]
    },
    {
     "name": "stdout",
     "output_type": "stream",
     "text": [
      "7/7 [==============================] - 0s 9ms/step\n",
      "7/7 [==============================] - 0s 26ms/step\n"
     ]
    },
    {
     "name": "stderr",
     "output_type": "stream",
     "text": [
      "\r",
      " 24%|███████████████████▍                                                             | 24/100 [00:12<00:40,  1.89it/s]"
     ]
    },
    {
     "name": "stdout",
     "output_type": "stream",
     "text": [
      "7/7 [==============================] - 0s 5ms/step\n",
      "7/7 [==============================] - 0s 23ms/step\n"
     ]
    },
    {
     "name": "stderr",
     "output_type": "stream",
     "text": [
      "\r",
      " 25%|████████████████████▎                                                            | 25/100 [00:13<00:39,  1.89it/s]"
     ]
    },
    {
     "name": "stdout",
     "output_type": "stream",
     "text": [
      "7/7 [==============================] - 0s 6ms/step\n",
      "7/7 [==============================] - 0s 23ms/step\n"
     ]
    },
    {
     "name": "stderr",
     "output_type": "stream",
     "text": [
      "\r",
      " 26%|█████████████████████                                                            | 26/100 [00:13<00:38,  1.90it/s]"
     ]
    },
    {
     "name": "stdout",
     "output_type": "stream",
     "text": [
      "7/7 [==============================] - 0s 9ms/step\n",
      "7/7 [==============================] - 0s 25ms/step\n"
     ]
    },
    {
     "name": "stderr",
     "output_type": "stream",
     "text": [
      "\r",
      " 27%|█████████████████████▊                                                           | 27/100 [00:14<00:38,  1.87it/s]"
     ]
    },
    {
     "name": "stdout",
     "output_type": "stream",
     "text": [
      "7/7 [==============================] - 0s 7ms/step\n",
      "7/7 [==============================] - 0s 25ms/step\n"
     ]
    },
    {
     "name": "stderr",
     "output_type": "stream",
     "text": [
      "\r",
      " 28%|██████████████████████▋                                                          | 28/100 [00:14<00:38,  1.87it/s]"
     ]
    },
    {
     "name": "stdout",
     "output_type": "stream",
     "text": [
      "7/7 [==============================] - 0s 7ms/step\n",
      "7/7 [==============================] - 0s 25ms/step\n"
     ]
    },
    {
     "name": "stderr",
     "output_type": "stream",
     "text": [
      "\r",
      " 29%|███████████████████████▍                                                         | 29/100 [00:15<00:38,  1.84it/s]"
     ]
    },
    {
     "name": "stdout",
     "output_type": "stream",
     "text": [
      "7/7 [==============================] - 0s 8ms/step\n",
      "7/7 [==============================] - 0s 23ms/step\n"
     ]
    },
    {
     "name": "stderr",
     "output_type": "stream",
     "text": [
      "\r",
      " 30%|████████████████████████▎                                                        | 30/100 [00:15<00:37,  1.86it/s]"
     ]
    },
    {
     "name": "stdout",
     "output_type": "stream",
     "text": [
      "7/7 [==============================] - 0s 7ms/step\n",
      "7/7 [==============================] - 0s 25ms/step\n"
     ]
    },
    {
     "name": "stderr",
     "output_type": "stream",
     "text": [
      "\r",
      " 31%|█████████████████████████                                                        | 31/100 [00:16<00:37,  1.85it/s]"
     ]
    },
    {
     "name": "stdout",
     "output_type": "stream",
     "text": [
      "7/7 [==============================] - 0s 8ms/step\n",
      "7/7 [==============================] - 0s 23ms/step\n"
     ]
    },
    {
     "name": "stderr",
     "output_type": "stream",
     "text": [
      "\r",
      " 32%|█████████████████████████▉                                                       | 32/100 [00:16<00:36,  1.87it/s]"
     ]
    },
    {
     "name": "stdout",
     "output_type": "stream",
     "text": [
      "7/7 [==============================] - 0s 7ms/step\n",
      "7/7 [==============================] - 0s 23ms/step\n"
     ]
    },
    {
     "name": "stderr",
     "output_type": "stream",
     "text": [
      "\r",
      " 33%|██████████████████████████▋                                                      | 33/100 [00:17<00:35,  1.87it/s]"
     ]
    },
    {
     "name": "stdout",
     "output_type": "stream",
     "text": [
      "7/7 [==============================] - 0s 6ms/step\n",
      "7/7 [==============================] - 0s 25ms/step\n"
     ]
    },
    {
     "name": "stderr",
     "output_type": "stream",
     "text": [
      "\r",
      " 34%|███████████████████████████▌                                                     | 34/100 [00:17<00:34,  1.89it/s]"
     ]
    },
    {
     "name": "stdout",
     "output_type": "stream",
     "text": [
      "7/7 [==============================] - 0s 7ms/step\n",
      "7/7 [==============================] - 0s 23ms/step\n"
     ]
    },
    {
     "name": "stderr",
     "output_type": "stream",
     "text": [
      "\r",
      " 35%|████████████████████████████▎                                                    | 35/100 [00:18<00:34,  1.90it/s]"
     ]
    },
    {
     "name": "stdout",
     "output_type": "stream",
     "text": [
      "7/7 [==============================] - 0s 8ms/step\n",
      "7/7 [==============================] - 0s 23ms/step\n"
     ]
    },
    {
     "name": "stderr",
     "output_type": "stream",
     "text": [
      "\r",
      " 36%|█████████████████████████████▏                                                   | 36/100 [00:18<00:33,  1.90it/s]"
     ]
    },
    {
     "name": "stdout",
     "output_type": "stream",
     "text": [
      "7/7 [==============================] - 0s 5ms/step\n",
      "7/7 [==============================] - 0s 23ms/step\n"
     ]
    },
    {
     "name": "stderr",
     "output_type": "stream",
     "text": [
      "\r",
      " 37%|█████████████████████████████▉                                                   | 37/100 [00:19<00:33,  1.91it/s]"
     ]
    },
    {
     "name": "stdout",
     "output_type": "stream",
     "text": [
      "7/7 [==============================] - 0s 8ms/step\n",
      "7/7 [==============================] - 0s 23ms/step\n"
     ]
    },
    {
     "name": "stderr",
     "output_type": "stream",
     "text": [
      "\r",
      " 38%|██████████████████████████████▊                                                  | 38/100 [00:19<00:32,  1.92it/s]"
     ]
    },
    {
     "name": "stdout",
     "output_type": "stream",
     "text": [
      "7/7 [==============================] - 0s 6ms/step\n",
      "7/7 [==============================] - 0s 25ms/step\n"
     ]
    },
    {
     "name": "stderr",
     "output_type": "stream",
     "text": [
      "\r",
      " 39%|███████████████████████████████▌                                                 | 39/100 [00:20<00:31,  1.92it/s]"
     ]
    },
    {
     "name": "stdout",
     "output_type": "stream",
     "text": [
      "7/7 [==============================] - 0s 7ms/step\n",
      "7/7 [==============================] - 0s 26ms/step\n"
     ]
    },
    {
     "name": "stderr",
     "output_type": "stream",
     "text": [
      "\r",
      " 40%|████████████████████████████████▍                                                | 40/100 [00:20<00:31,  1.93it/s]"
     ]
    },
    {
     "name": "stdout",
     "output_type": "stream",
     "text": [
      "7/7 [==============================] - 0s 6ms/step\n",
      "7/7 [==============================] - 0s 22ms/step\n"
     ]
    },
    {
     "name": "stderr",
     "output_type": "stream",
     "text": [
      "\r",
      " 41%|█████████████████████████████████▏                                               | 41/100 [00:21<00:30,  1.94it/s]"
     ]
    },
    {
     "name": "stdout",
     "output_type": "stream",
     "text": [
      "7/7 [==============================] - 0s 6ms/step\n",
      "7/7 [==============================] - 0s 25ms/step\n"
     ]
    },
    {
     "name": "stderr",
     "output_type": "stream",
     "text": [
      "\r",
      " 42%|██████████████████████████████████                                               | 42/100 [00:21<00:30,  1.92it/s]"
     ]
    },
    {
     "name": "stdout",
     "output_type": "stream",
     "text": [
      "7/7 [==============================] - 0s 8ms/step\n",
      "7/7 [==============================] - 0s 24ms/step\n"
     ]
    },
    {
     "name": "stderr",
     "output_type": "stream",
     "text": [
      "\r",
      " 43%|██████████████████████████████████▊                                              | 43/100 [00:22<00:29,  1.93it/s]"
     ]
    },
    {
     "name": "stdout",
     "output_type": "stream",
     "text": [
      "7/7 [==============================] - 0s 7ms/step\n",
      "7/7 [==============================] - 0s 23ms/step\n"
     ]
    },
    {
     "name": "stderr",
     "output_type": "stream",
     "text": [
      "\r",
      " 44%|███████████████████████████████████▋                                             | 44/100 [00:23<00:29,  1.92it/s]"
     ]
    },
    {
     "name": "stdout",
     "output_type": "stream",
     "text": [
      "7/7 [==============================] - 0s 6ms/step\n",
      "7/7 [==============================] - 0s 24ms/step\n"
     ]
    },
    {
     "name": "stderr",
     "output_type": "stream",
     "text": [
      "\r",
      " 45%|████████████████████████████████████▍                                            | 45/100 [00:23<00:28,  1.92it/s]"
     ]
    },
    {
     "name": "stdout",
     "output_type": "stream",
     "text": [
      "7/7 [==============================] - 0s 8ms/step\n",
      "7/7 [==============================] - 0s 25ms/step\n"
     ]
    },
    {
     "name": "stderr",
     "output_type": "stream",
     "text": [
      "\r",
      " 46%|█████████████████████████████████████▎                                           | 46/100 [00:24<00:28,  1.92it/s]"
     ]
    },
    {
     "name": "stdout",
     "output_type": "stream",
     "text": [
      "7/7 [==============================] - 0s 6ms/step\n",
      "7/7 [==============================] - 0s 23ms/step\n"
     ]
    },
    {
     "name": "stderr",
     "output_type": "stream",
     "text": [
      "\r",
      " 47%|██████████████████████████████████████                                           | 47/100 [00:24<00:27,  1.93it/s]"
     ]
    },
    {
     "name": "stdout",
     "output_type": "stream",
     "text": [
      "7/7 [==============================] - 0s 8ms/step\n",
      "7/7 [==============================] - 0s 23ms/step\n"
     ]
    },
    {
     "name": "stderr",
     "output_type": "stream",
     "text": [
      "\r",
      " 48%|██████████████████████████████████████▉                                          | 48/100 [00:25<00:27,  1.92it/s]"
     ]
    },
    {
     "name": "stdout",
     "output_type": "stream",
     "text": [
      "7/7 [==============================] - 0s 8ms/step\n",
      "7/7 [==============================] - 0s 25ms/step\n"
     ]
    },
    {
     "name": "stderr",
     "output_type": "stream",
     "text": [
      "\r",
      " 49%|███████████████████████████████████████▋                                         | 49/100 [00:25<00:26,  1.92it/s]"
     ]
    },
    {
     "name": "stdout",
     "output_type": "stream",
     "text": [
      "7/7 [==============================] - 0s 5ms/step\n",
      "7/7 [==============================] - 0s 25ms/step\n"
     ]
    },
    {
     "name": "stderr",
     "output_type": "stream",
     "text": [
      "\r",
      " 50%|████████████████████████████████████████▌                                        | 50/100 [00:26<00:26,  1.88it/s]"
     ]
    },
    {
     "name": "stdout",
     "output_type": "stream",
     "text": [
      "7/7 [==============================] - 0s 6ms/step\n",
      "7/7 [==============================] - 0s 26ms/step\n"
     ]
    },
    {
     "name": "stderr",
     "output_type": "stream",
     "text": [
      "\r",
      " 51%|█████████████████████████████████████████▎                                       | 51/100 [00:26<00:26,  1.84it/s]"
     ]
    },
    {
     "name": "stdout",
     "output_type": "stream",
     "text": [
      "7/7 [==============================] - 0s 8ms/step\n",
      "7/7 [==============================] - 0s 26ms/step\n"
     ]
    },
    {
     "name": "stderr",
     "output_type": "stream",
     "text": [
      "\r",
      " 52%|██████████████████████████████████████████                                       | 52/100 [00:27<00:26,  1.82it/s]"
     ]
    },
    {
     "name": "stdout",
     "output_type": "stream",
     "text": [
      "7/7 [==============================] - 0s 6ms/step\n",
      "7/7 [==============================] - 0s 25ms/step\n"
     ]
    },
    {
     "name": "stderr",
     "output_type": "stream",
     "text": [
      "\r",
      " 53%|██████████████████████████████████████████▉                                      | 53/100 [00:27<00:25,  1.86it/s]"
     ]
    },
    {
     "name": "stdout",
     "output_type": "stream",
     "text": [
      "7/7 [==============================] - 0s 7ms/step\n",
      "7/7 [==============================] - 0s 20ms/step\n"
     ]
    },
    {
     "name": "stderr",
     "output_type": "stream",
     "text": [
      "\r",
      " 54%|███████████████████████████████████████████▋                                     | 54/100 [00:28<00:24,  1.86it/s]"
     ]
    },
    {
     "name": "stdout",
     "output_type": "stream",
     "text": [
      "7/7 [==============================] - 0s 9ms/step\n",
      "7/7 [==============================] - 0s 26ms/step\n"
     ]
    },
    {
     "name": "stderr",
     "output_type": "stream",
     "text": [
      "\r",
      " 55%|████████████████████████████████████████████▌                                    | 55/100 [00:28<00:24,  1.86it/s]"
     ]
    },
    {
     "name": "stdout",
     "output_type": "stream",
     "text": [
      "7/7 [==============================] - 0s 8ms/step\n",
      "7/7 [==============================] - 0s 25ms/step\n"
     ]
    },
    {
     "name": "stderr",
     "output_type": "stream",
     "text": [
      "\r",
      " 56%|█████████████████████████████████████████████▎                                   | 56/100 [00:29<00:23,  1.85it/s]"
     ]
    },
    {
     "name": "stdout",
     "output_type": "stream",
     "text": [
      "7/7 [==============================] - 0s 8ms/step\n",
      "7/7 [==============================] - 0s 25ms/step\n"
     ]
    },
    {
     "name": "stderr",
     "output_type": "stream",
     "text": [
      "\r",
      " 57%|██████████████████████████████████████████████▏                                  | 57/100 [00:29<00:22,  1.88it/s]"
     ]
    },
    {
     "name": "stdout",
     "output_type": "stream",
     "text": [
      "7/7 [==============================] - 0s 6ms/step\n",
      "7/7 [==============================] - 0s 23ms/step\n"
     ]
    },
    {
     "name": "stderr",
     "output_type": "stream",
     "text": [
      "\r",
      " 58%|██████████████████████████████████████████████▉                                  | 58/100 [00:30<00:22,  1.89it/s]"
     ]
    },
    {
     "name": "stdout",
     "output_type": "stream",
     "text": [
      "7/7 [==============================] - 0s 6ms/step\n",
      "7/7 [==============================] - 0s 25ms/step\n"
     ]
    },
    {
     "name": "stderr",
     "output_type": "stream",
     "text": [
      "\r",
      " 59%|███████████████████████████████████████████████▊                                 | 59/100 [00:31<00:21,  1.89it/s]"
     ]
    },
    {
     "name": "stdout",
     "output_type": "stream",
     "text": [
      "7/7 [==============================] - 0s 8ms/step\n",
      "7/7 [==============================] - 0s 25ms/step\n"
     ]
    },
    {
     "name": "stderr",
     "output_type": "stream",
     "text": [
      "\r",
      " 60%|████████████████████████████████████████████████▌                                | 60/100 [00:31<00:21,  1.88it/s]"
     ]
    },
    {
     "name": "stdout",
     "output_type": "stream",
     "text": [
      "7/7 [==============================] - 0s 8ms/step\n",
      "7/7 [==============================] - 0s 25ms/step\n"
     ]
    },
    {
     "name": "stderr",
     "output_type": "stream",
     "text": [
      "\r",
      " 61%|█████████████████████████████████████████████████▍                               | 61/100 [00:32<00:20,  1.89it/s]"
     ]
    },
    {
     "name": "stdout",
     "output_type": "stream",
     "text": [
      "7/7 [==============================] - 0s 5ms/step\n",
      "7/7 [==============================] - 0s 26ms/step\n"
     ]
    },
    {
     "name": "stderr",
     "output_type": "stream",
     "text": [
      "\r",
      " 62%|██████████████████████████████████████████████████▏                              | 62/100 [00:32<00:19,  1.91it/s]"
     ]
    },
    {
     "name": "stdout",
     "output_type": "stream",
     "text": [
      "7/7 [==============================] - 0s 8ms/step\n",
      "7/7 [==============================] - 0s 23ms/step\n"
     ]
    },
    {
     "name": "stderr",
     "output_type": "stream",
     "text": [
      "\r",
      " 63%|███████████████████████████████████████████████████                              | 63/100 [00:33<00:19,  1.91it/s]"
     ]
    },
    {
     "name": "stdout",
     "output_type": "stream",
     "text": [
      "7/7 [==============================] - 0s 7ms/step\n",
      "7/7 [==============================] - 0s 26ms/step\n"
     ]
    },
    {
     "name": "stderr",
     "output_type": "stream",
     "text": [
      "\r",
      " 64%|███████████████████████████████████████████████████▊                             | 64/100 [00:33<00:18,  1.91it/s]"
     ]
    },
    {
     "name": "stdout",
     "output_type": "stream",
     "text": [
      "7/7 [==============================] - 0s 9ms/step\n",
      "7/7 [==============================] - 0s 23ms/step\n"
     ]
    },
    {
     "name": "stderr",
     "output_type": "stream",
     "text": [
      "\r",
      " 65%|████████████████████████████████████████████████████▋                            | 65/100 [00:34<00:18,  1.91it/s]"
     ]
    },
    {
     "name": "stdout",
     "output_type": "stream",
     "text": [
      "7/7 [==============================] - 0s 6ms/step\n",
      "7/7 [==============================] - 0s 23ms/step\n"
     ]
    },
    {
     "name": "stderr",
     "output_type": "stream",
     "text": [
      "\r",
      " 66%|█████████████████████████████████████████████████████▍                           | 66/100 [00:34<00:17,  1.92it/s]"
     ]
    },
    {
     "name": "stdout",
     "output_type": "stream",
     "text": [
      "7/7 [==============================] - 0s 6ms/step\n",
      "7/7 [==============================] - 0s 25ms/step\n"
     ]
    },
    {
     "name": "stderr",
     "output_type": "stream",
     "text": [
      "\r",
      " 67%|██████████████████████████████████████████████████████▎                          | 67/100 [00:35<00:17,  1.94it/s]"
     ]
    },
    {
     "name": "stdout",
     "output_type": "stream",
     "text": [
      "7/7 [==============================] - 0s 6ms/step\n",
      "7/7 [==============================] - 0s 22ms/step\n"
     ]
    },
    {
     "name": "stderr",
     "output_type": "stream",
     "text": [
      "\r",
      " 68%|███████████████████████████████████████████████████████                          | 68/100 [00:35<00:16,  1.93it/s]"
     ]
    },
    {
     "name": "stdout",
     "output_type": "stream",
     "text": [
      "7/7 [==============================] - 0s 9ms/step\n",
      "7/7 [==============================] - 0s 23ms/step\n"
     ]
    },
    {
     "name": "stderr",
     "output_type": "stream",
     "text": [
      "\r",
      " 69%|███████████████████████████████████████████████████████▉                         | 69/100 [00:36<00:16,  1.93it/s]"
     ]
    },
    {
     "name": "stdout",
     "output_type": "stream",
     "text": [
      "7/7 [==============================] - 0s 6ms/step\n",
      "7/7 [==============================] - 0s 25ms/step\n"
     ]
    },
    {
     "name": "stderr",
     "output_type": "stream",
     "text": [
      "\r",
      " 70%|████████████████████████████████████████████████████████▋                        | 70/100 [00:36<00:15,  1.92it/s]"
     ]
    },
    {
     "name": "stdout",
     "output_type": "stream",
     "text": [
      "7/7 [==============================] - 0s 8ms/step\n",
      "7/7 [==============================] - 0s 24ms/step\n"
     ]
    },
    {
     "name": "stderr",
     "output_type": "stream",
     "text": [
      "\r",
      " 71%|█████████████████████████████████████████████████████████▌                       | 71/100 [00:37<00:15,  1.93it/s]"
     ]
    },
    {
     "name": "stdout",
     "output_type": "stream",
     "text": [
      "7/7 [==============================] - 0s 8ms/step\n",
      "7/7 [==============================] - 0s 24ms/step\n"
     ]
    },
    {
     "name": "stderr",
     "output_type": "stream",
     "text": [
      "\r",
      " 72%|██████████████████████████████████████████████████████████▎                      | 72/100 [00:37<00:14,  1.91it/s]"
     ]
    },
    {
     "name": "stdout",
     "output_type": "stream",
     "text": [
      "7/7 [==============================] - 0s 6ms/step\n",
      "7/7 [==============================] - 0s 25ms/step\n"
     ]
    },
    {
     "name": "stderr",
     "output_type": "stream",
     "text": [
      "\r",
      " 73%|███████████████████████████████████████████████████████████▏                     | 73/100 [00:38<00:14,  1.91it/s]"
     ]
    },
    {
     "name": "stdout",
     "output_type": "stream",
     "text": [
      "7/7 [==============================] - 0s 8ms/step\n",
      "7/7 [==============================] - 0s 24ms/step\n"
     ]
    },
    {
     "name": "stderr",
     "output_type": "stream",
     "text": [
      "\r",
      " 74%|███████████████████████████████████████████████████████████▉                     | 74/100 [00:38<00:13,  1.92it/s]"
     ]
    },
    {
     "name": "stdout",
     "output_type": "stream",
     "text": [
      "7/7 [==============================] - 0s 8ms/step\n",
      "7/7 [==============================] - 0s 25ms/step\n"
     ]
    },
    {
     "name": "stderr",
     "output_type": "stream",
     "text": [
      "\r",
      " 75%|████████████████████████████████████████████████████████████▊                    | 75/100 [00:39<00:12,  1.92it/s]"
     ]
    },
    {
     "name": "stdout",
     "output_type": "stream",
     "text": [
      "7/7 [==============================] - 0s 8ms/step\n",
      "7/7 [==============================] - 0s 23ms/step\n"
     ]
    },
    {
     "name": "stderr",
     "output_type": "stream",
     "text": [
      "\r",
      " 76%|█████████████████████████████████████████████████████████████▌                   | 76/100 [00:39<00:12,  1.93it/s]"
     ]
    },
    {
     "name": "stdout",
     "output_type": "stream",
     "text": [
      "7/7 [==============================] - 0s 6ms/step\n",
      "7/7 [==============================] - 0s 25ms/step\n"
     ]
    },
    {
     "name": "stderr",
     "output_type": "stream",
     "text": [
      "\r",
      " 77%|██████████████████████████████████████████████████████████████▎                  | 77/100 [00:40<00:11,  1.93it/s]"
     ]
    },
    {
     "name": "stdout",
     "output_type": "stream",
     "text": [
      "7/7 [==============================] - 0s 6ms/step\n",
      "7/7 [==============================] - 0s 24ms/step\n"
     ]
    },
    {
     "name": "stderr",
     "output_type": "stream",
     "text": [
      "\r",
      " 78%|███████████████████████████████████████████████████████████████▏                 | 78/100 [00:40<00:11,  1.91it/s]"
     ]
    },
    {
     "name": "stdout",
     "output_type": "stream",
     "text": [
      "7/7 [==============================] - 0s 5ms/step\n",
      "7/7 [==============================] - 0s 23ms/step\n"
     ]
    },
    {
     "name": "stderr",
     "output_type": "stream",
     "text": [
      "\r",
      " 79%|███████████████████████████████████████████████████████████████▉                 | 79/100 [00:41<00:10,  1.93it/s]"
     ]
    },
    {
     "name": "stdout",
     "output_type": "stream",
     "text": [
      "7/7 [==============================] - 0s 6ms/step\n",
      "7/7 [==============================] - 0s 24ms/step\n"
     ]
    },
    {
     "name": "stderr",
     "output_type": "stream",
     "text": [
      "\r",
      " 80%|████████████████████████████████████████████████████████████████▊                | 80/100 [00:41<00:10,  1.91it/s]"
     ]
    },
    {
     "name": "stdout",
     "output_type": "stream",
     "text": [
      "7/7 [==============================] - 0s 6ms/step\n",
      "7/7 [==============================] - 0s 23ms/step\n"
     ]
    },
    {
     "name": "stderr",
     "output_type": "stream",
     "text": [
      "\r",
      " 81%|█████████████████████████████████████████████████████████████████▌               | 81/100 [00:42<00:09,  1.90it/s]"
     ]
    },
    {
     "name": "stdout",
     "output_type": "stream",
     "text": [
      "7/7 [==============================] - 0s 7ms/step\n",
      "7/7 [==============================] - 0s 22ms/step\n"
     ]
    },
    {
     "name": "stderr",
     "output_type": "stream",
     "text": [
      "\r",
      " 82%|██████████████████████████████████████████████████████████████████▍              | 82/100 [00:43<00:09,  1.92it/s]"
     ]
    },
    {
     "name": "stdout",
     "output_type": "stream",
     "text": [
      "7/7 [==============================] - 0s 6ms/step\n",
      "7/7 [==============================] - 0s 24ms/step\n"
     ]
    },
    {
     "name": "stderr",
     "output_type": "stream",
     "text": [
      "\r",
      " 83%|███████████████████████████████████████████████████████████████████▏             | 83/100 [00:43<00:08,  1.92it/s]"
     ]
    },
    {
     "name": "stdout",
     "output_type": "stream",
     "text": [
      "7/7 [==============================] - 0s 8ms/step\n",
      "7/7 [==============================] - 0s 22ms/step\n"
     ]
    },
    {
     "name": "stderr",
     "output_type": "stream",
     "text": [
      "\r",
      " 84%|████████████████████████████████████████████████████████████████████             | 84/100 [00:44<00:08,  1.94it/s]"
     ]
    },
    {
     "name": "stdout",
     "output_type": "stream",
     "text": [
      "7/7 [==============================] - 0s 8ms/step\n",
      "7/7 [==============================] - 0s 25ms/step\n"
     ]
    },
    {
     "name": "stderr",
     "output_type": "stream",
     "text": [
      "\r",
      " 85%|████████████████████████████████████████████████████████████████████▊            | 85/100 [00:44<00:07,  1.92it/s]"
     ]
    },
    {
     "name": "stdout",
     "output_type": "stream",
     "text": [
      "7/7 [==============================] - 0s 6ms/step\n",
      "7/7 [==============================] - 0s 25ms/step\n"
     ]
    },
    {
     "name": "stderr",
     "output_type": "stream",
     "text": [
      "\r",
      " 86%|█████████████████████████████████████████████████████████████████████▋           | 86/100 [00:45<00:07,  1.93it/s]"
     ]
    },
    {
     "name": "stdout",
     "output_type": "stream",
     "text": [
      "7/7 [==============================] - 0s 5ms/step\n",
      "7/7 [==============================] - 0s 23ms/step\n"
     ]
    },
    {
     "name": "stderr",
     "output_type": "stream",
     "text": [
      "\r",
      " 87%|██████████████████████████████████████████████████████████████████████▍          | 87/100 [00:45<00:06,  1.93it/s]"
     ]
    },
    {
     "name": "stdout",
     "output_type": "stream",
     "text": [
      "7/7 [==============================] - 0s 6ms/step\n",
      "7/7 [==============================] - 0s 24ms/step\n"
     ]
    },
    {
     "name": "stderr",
     "output_type": "stream",
     "text": [
      "\r",
      " 88%|███████████████████████████████████████████████████████████████████████▎         | 88/100 [00:46<00:06,  1.93it/s]"
     ]
    },
    {
     "name": "stdout",
     "output_type": "stream",
     "text": [
      "7/7 [==============================] - 0s 6ms/step\n",
      "7/7 [==============================] - 0s 22ms/step\n"
     ]
    },
    {
     "name": "stderr",
     "output_type": "stream",
     "text": [
      "\r",
      " 89%|████████████████████████████████████████████████████████████████████████         | 89/100 [00:46<00:05,  1.93it/s]"
     ]
    },
    {
     "name": "stdout",
     "output_type": "stream",
     "text": [
      "7/7 [==============================] - 0s 6ms/step\n",
      "7/7 [==============================] - 0s 23ms/step\n"
     ]
    },
    {
     "name": "stderr",
     "output_type": "stream",
     "text": [
      "\r",
      " 90%|████████████████████████████████████████████████████████████████████████▉        | 90/100 [00:47<00:05,  1.94it/s]"
     ]
    },
    {
     "name": "stdout",
     "output_type": "stream",
     "text": [
      "7/7 [==============================] - 0s 6ms/step\n",
      "7/7 [==============================] - 0s 22ms/step\n"
     ]
    },
    {
     "name": "stderr",
     "output_type": "stream",
     "text": [
      "\r",
      " 91%|█████████████████████████████████████████████████████████████████████████▋       | 91/100 [00:47<00:04,  1.93it/s]"
     ]
    },
    {
     "name": "stdout",
     "output_type": "stream",
     "text": [
      "7/7 [==============================] - 0s 5ms/step\n",
      "7/7 [==============================] - 0s 23ms/step\n"
     ]
    },
    {
     "name": "stderr",
     "output_type": "stream",
     "text": [
      "\r",
      " 92%|██████████████████████████████████████████████████████████████████████████▌      | 92/100 [00:48<00:04,  1.92it/s]"
     ]
    },
    {
     "name": "stdout",
     "output_type": "stream",
     "text": [
      "7/7 [==============================] - 0s 7ms/step\n",
      "7/7 [==============================] - 0s 23ms/step\n"
     ]
    },
    {
     "name": "stderr",
     "output_type": "stream",
     "text": [
      "\r",
      " 93%|███████████████████████████████████████████████████████████████████████████▎     | 93/100 [00:48<00:03,  1.99it/s]"
     ]
    },
    {
     "name": "stdout",
     "output_type": "stream",
     "text": [
      "7/7 [==============================] - 0s 9ms/step\n",
      "7/7 [==============================] - 0s 23ms/step\n"
     ]
    },
    {
     "name": "stderr",
     "output_type": "stream",
     "text": [
      "\r",
      " 94%|████████████████████████████████████████████████████████████████████████████▏    | 94/100 [00:49<00:03,  1.97it/s]"
     ]
    },
    {
     "name": "stdout",
     "output_type": "stream",
     "text": [
      "7/7 [==============================] - 0s 7ms/step\n",
      "7/7 [==============================] - 0s 24ms/step\n"
     ]
    },
    {
     "name": "stderr",
     "output_type": "stream",
     "text": [
      "\r",
      " 95%|████████████████████████████████████████████████████████████████████████████▉    | 95/100 [00:49<00:02,  1.96it/s]"
     ]
    },
    {
     "name": "stdout",
     "output_type": "stream",
     "text": [
      "7/7 [==============================] - 0s 8ms/step\n",
      "7/7 [==============================] - 0s 23ms/step\n"
     ]
    },
    {
     "name": "stderr",
     "output_type": "stream",
     "text": [
      "\r",
      " 96%|█████████████████████████████████████████████████████████████████████████████▊   | 96/100 [00:50<00:02,  1.94it/s]"
     ]
    },
    {
     "name": "stdout",
     "output_type": "stream",
     "text": [
      "7/7 [==============================] - 0s 8ms/step\n",
      "7/7 [==============================] - 0s 24ms/step\n"
     ]
    },
    {
     "name": "stderr",
     "output_type": "stream",
     "text": [
      "\r",
      " 97%|██████████████████████████████████████████████████████████████████████████████▌  | 97/100 [00:50<00:01,  1.93it/s]"
     ]
    },
    {
     "name": "stdout",
     "output_type": "stream",
     "text": [
      "7/7 [==============================] - 0s 8ms/step\n",
      "7/7 [==============================] - 0s 24ms/step\n"
     ]
    },
    {
     "name": "stderr",
     "output_type": "stream",
     "text": [
      "\r",
      " 98%|███████████████████████████████████████████████████████████████████████████████▍ | 98/100 [00:51<00:01,  1.93it/s]"
     ]
    },
    {
     "name": "stdout",
     "output_type": "stream",
     "text": [
      "7/7 [==============================] - 0s 7ms/step\n",
      "7/7 [==============================] - 0s 25ms/step\n"
     ]
    },
    {
     "name": "stderr",
     "output_type": "stream",
     "text": [
      "\r",
      " 99%|████████████████████████████████████████████████████████████████████████████████▏| 99/100 [00:51<00:00,  1.94it/s]"
     ]
    },
    {
     "name": "stdout",
     "output_type": "stream",
     "text": [
      "7/7 [==============================] - 0s 6ms/step\n",
      "7/7 [==============================] - 0s 23ms/step\n"
     ]
    },
    {
     "name": "stderr",
     "output_type": "stream",
     "text": [
      "100%|████████████████████████████████████████████████████████████████████████████████| 100/100 [00:52<00:00,  1.91it/s]"
     ]
    },
    {
     "name": "stdout",
     "output_type": "stream",
     "text": [
      "Collier\tUrban\tUrban no hurricane \t 0.01896351190683568 \t 0.0008354040802261581\n"
     ]
    },
    {
     "name": "stderr",
     "output_type": "stream",
     "text": [
      "\n"
     ]
    },
    {
     "data": {
      "image/png": "[encoded data removed]",
      "text/plain": [
       "<Figure size 864x576 with 1 Axes>"
      ]
     },
     "metadata": {
      "needs_background": "light"
     },
     "output_type": "display_data"
    }
   ],
   "source": [
    "lst = []\n",
    "lst\n",
    "lstBoxPlot = []\n",
    "\n",
    "\n",
    "for j in testCounties1:\n",
    "    county_name = j\n",
    "    b = df[(df[\"region\"] == j)]\n",
    "    county_type = b['type'].unique()[0]\n",
    "    if str(b['type'].values[0]) == 'nan':\n",
    "        print('Not defined county type!')\n",
    "        continue\n",
    "    X_test_c, X_test_o = [], []\n",
    "    y_test_c, y_test_o = [], []\n",
    "    f_test_c, f_test_o = [], []\n",
    "    f_test_c_noHurricane, f_test_o_noHurricane = [], []\n",
    "\n",
    "    for county in df[\"region\"].unique():\n",
    "        for sequence in gen_sequence(df[(df[\"region\"] == county) & (df[\"type\"] == \"Urban\")],\n",
    "                                     sequence_length, ['observed']):\n",
    "            if county == j:\n",
    "                X_test_c.append(sequence)\n",
    "\n",
    "        for sequence in gen_sequence(df[(df[\"region\"] == county) & (df[\"type\"] == \"Rural\")],\n",
    "                                     sequence_length, ['observed']):\n",
    "            if county == j:\n",
    "                X_test_o.append(sequence)\n",
    "    X_test_c, X_test_o = np.asarray(X_test_c), np.asarray(X_test_o)\n",
    "    ####\n",
    "\n",
    "    for county in df[\"region\"].unique():\n",
    "        for sequence in gen_labels(df[(df[\"region\"] == county) & (df[\"type\"] == \"Urban\")],\n",
    "                                   sequence_length, ['observed']):\n",
    "            if county == j:\n",
    "                y_test_c.append(sequence)\n",
    "        for sequence in gen_labels(df[(df[\"region\"] == county) & (df[\"type\"] == \"Rural\")],\n",
    "                                   sequence_length, ['observed']):\n",
    "            if county == j:\n",
    "                y_test_o.append(sequence)\n",
    "    y_test_c, y_test_o = np.asarray(y_test_c), np.asarray(y_test_o)\n",
    "    ### CREATE TRAIN/TEST EXTERNAL FEATURES ###\n",
    "    col = ['residual', \"seasonal\", 'trend', 'hurricane']\n",
    "    for county in df[\"region\"].unique():\n",
    "        for sequence in gen_sequence(df[(df[\"region\"] == county) & (df[\"type\"] == \"Urban\")],\n",
    "                                     sequence_length, col):\n",
    "            if county == j:\n",
    "                f_test_c.append(sequence)\n",
    "        for sequence in gen_sequence(df[(df[\"region\"] == county) & (df[\"type\"] == \"Rural\")],\n",
    "                                     sequence_length, col):\n",
    "            if county == j:\n",
    "                f_test_o.append(sequence)\n",
    "    f_test_c, f_test_o = np.asarray(f_test_c), np.asarray(f_test_o)\n",
    "\n",
    "    col = ['residual', \"seasonal\", 'trend', 'hurricane']\n",
    "    dfnohurricane = df.copy()\n",
    "    dfnohurricane['hurricane'] = 0\n",
    "    for county in dfnohurricane[\"region\"].unique():\n",
    "        for sequence in gen_sequence(dfnohurricane[(dfnohurricane[\"region\"] == county) & (dfnohurricane[\"type\"] == \"Urban\")],\n",
    "                                     sequence_length, col):\n",
    "            if county == j:\n",
    "                f_test_c_noHurricane.append(sequence)\n",
    "        for sequence in gen_sequence(dfnohurricane[(dfnohurricane[\"region\"] == county) & (dfnohurricane[\"type\"] == \"Rural\")],\n",
    "                                     sequence_length, col):\n",
    "            if county == j:\n",
    "                f_test_o_noHurricane.append(sequence)\n",
    "    f_test_c_noHurricane, f_test_o_noHurricane = np.asarray(\n",
    "        f_test_c_noHurricane), np.asarray(f_test_o_noHurricane)\n",
    "\n",
    "    if county_type == \"Urban\":\n",
    "\n",
    "        hurricane = True\n",
    "\n",
    "        MAE, trueValuesList = [], []\n",
    "        RMSE = []\n",
    "        MAPE = []\n",
    "        encUrban = encoderUrban\n",
    "        NNUrban = model1Urban\n",
    "        \n",
    "        for i in tqdm.tqdm(range(0, 100)):\n",
    "\n",
    "            predictedValues, trueValues = test_other_drop1(\n",
    "                county_type, encUrban, NNUrban, hurricane)\n",
    "            MAE.append(mean_absolute_error(predictedValues, trueValues))\n",
    "            RMSE.append(np.sqrt(mean_squared_error(\n",
    "                predictedValues, trueValues)))\n",
    "            MAPE.append(mean_absolute_percentage_error(\n",
    "                predictedValues, trueValues))\n",
    "\n",
    "            trueValuesList.append(trueValues)\n",
    "            a = 'a'+str(i)\n",
    "            predictedValues1 = predictedValues.reshape(1, len(predictedValues))\n",
    "        print(county_name+'\\t'+'Urban ', '\\t',\n",
    "              'MAE', np.mean(MAE), '\\t', np.std(MAE))\n",
    "        print(county_name+'\\t'+'Urban ', '\\t', 'RMSE',\n",
    "              np.mean(RMSE), '\\t', np.std(RMSE))\n",
    "        print(county_name+'\\t'+'Urban ', '\\t', 'MAPE',\n",
    "              np.mean(MAPE), '\\t', np.std(MAPE))\n",
    "\n",
    "        hurricane = False\n",
    "\n",
    "        MAENoHurricane, trueValuesList = [], []\n",
    "        #encUrban = K.function([encoderUrban.layers[0].input], [\n",
    "                              #encoderUrban.layers[-1].output])\n",
    "        #NNUrban = K.function([model1Urban.layers[0].input], [\n",
    "                             #model1Urban.layers[-1].output])\n",
    "\n",
    "        for i in tqdm.tqdm(range(0, 100)):\n",
    "            predictedValuesNoHurricane, trueValues = test_other_drop1(\n",
    "                county_type, encUrban, NNUrban, hurricane)\n",
    "            MAENoHurricane.append(mean_absolute_error(\n",
    "                predictedValuesNoHurricane, trueValues))\n",
    "            trueValuesList.append(trueValues)\n",
    "\n",
    "        print(county_name+'\\t'+county_type+'\\t'+'Urban no hurricane',\n",
    "              '\\t', np.mean(MAENoHurricane), '\\t', np.std(MAENoHurricane))\n",
    "\n",
    "    ### COMPUTE STOCHASTIC DROPOUT FOR UNSEEN COUNTY ###\n",
    "    if county_type == 'Rural':\n",
    "\n",
    "        hurricane = True\n",
    "\n",
    "        MAE, trueValuesList = [], []\n",
    "        encRural = encoderRural\n",
    "        NNRural = model1Rural\n",
    "        \n",
    "        for i in tqdm.tqdm(range(0, 100)):\n",
    "            predictedValues, trueValues = test_other_drop1(\n",
    "                county_type, encRural, NNRural, hurricane)\n",
    "            MAE.append(mean_absolute_error(predictedValues, trueValues))\n",
    "            trueValuesList.append(trueValues)\n",
    "\n",
    "        print(county_name+'\\t'+county_type+'\\t'+\"Rural\",\n",
    "              '\\t', np.mean(MAE), '\\t', np.std(MAE))\n",
    "\n",
    "        hurricane = False\n",
    "        MAENoHurricane, trueValuesList = [], []\n",
    "        encRural = encoderRural\n",
    "        NNRural = model1Rural\n",
    "\n",
    "        for i in tqdm.tqdm(range(0, 100)):\n",
    "            predictedValuesNoHurricane, trueValues = test_other_drop1(\n",
    "                county_type, encRural, NNRural, hurricane)\n",
    "            MAENoHurricane.append(mean_absolute_error(\n",
    "                predictedValuesNoHurricane, trueValues))\n",
    "            trueValuesList.append(trueValues)\n",
    "\n",
    "        print(county_name+'\\t'+county_type+'\\t'+'Rural no hurricane',\n",
    "              '\\t', np.mean(MAENoHurricane), '\\t', np.std(MAENoHurricane))\n",
    "        \n",
    "   "
   ]
  },
  {
   "cell_type": "code",
   "execution_count": 59,
   "id": "d624c660",
   "metadata": {},
   "outputs": [
    {
     "data": {
      "image/png": "[encoded data removed]",
      "text/plain": [
       "<Figure size 1008x1008 with 1 Axes>"
      ]
     },
     "metadata": {
      "needs_background": "light"
     },
     "output_type": "display_data"
    }
   ],
   "source": [
    "plt.rcParams['figure.figsize'] = 14, 14\n",
    "lst.append([category, dropOut, county_type, county_name, np.mean(MAENoHurricane), np.std(MAENoHurricane), np.mean(MAE), np.std(MAE)\n",
    "                ])\n",
    "\n",
    "f, ax = plt.subplots()\n",
    "ax.plot(np.mean(np.hstack(trueValuesList).T, axis=0),\n",
    "            color='black', label='Observed', marker='x')\n",
    "label1 = \"AA-GRU with anomaly labeling\"\n",
    "label2 = \"AA-GRU without anomaly labeling\"\n",
    "\n",
    "ax.plot(predictedValuesNoHurricane, color='blue', label=label2, marker='o')\n",
    "ax.plot(predictedValues, color='red', label=label1, marker='d')\n",
    "\n",
    "# ax.plot(b[\"hurricane\"].iloc[10:].values,label = 'Anomaly Label (Hurricane 1-5)',color='orange')\n",
    "hur = b[\"hurricane\"].iloc[12:].values\n",
    "trueVals = np.mean(np.hstack(trueValuesList).T, axis=0)\n",
    "\n",
    "ax.set_xticklabels(df['Date'].values[0:len(y_test_o[0:splitTest])])\n",
    "ax.set_xticks(customXLabel)\n",
    "ax.set_xticklabels(df['year'].unique()[1:])\n",
    "ax.set_xticklabels(df['Date'].values[0:len(y_test_o[0:splitTest])])\n",
    "ax.set_xticks(customXLabel)\n",
    "ax.set_xticklabels(df['year'].unique()[1:])\n",
    "ax.set_xticklabels(df['year'].unique()[1:])\n",
    "\n",
    "plt.xlabel('Year',fontweight ='bold', fontsize = 15)\n",
    "plt.ylabel('Predicted Values', fontweight ='bold', fontsize = 15)\n",
    "plt.legend(loc='upper left')\n",
    "plt.grid(color='k', linestyle='-', linewidth=0.4)\n",
    "plt.savefig('.//output//'+category+\"_\"+county_type+\"_\" +\n",
    "                county_name+'DropOut_'+str(dropOut)+'.png')\n",
    "\n",
    "plt.show()\n",
    "x = 0\n",
    "cols = ['Category', 'DropOut', 'type', 'countyName',\n",
    "        'MAEnoHur', 'STDnoHur', 'MAE', 'STD']\n",
    "excelResults = pd.DataFrame(lst, columns=cols)\n",
    "districols = ['region', 'type', 'hurricane', 'Date', 'observed', 'residual',\n",
    "              'true', 'predicted no hurricane', 'changes from ori', 'predicted hurricane', 'predicted changes from ori', 'changes hur to no hur', ]\n",
    "\n",
    "excelDistri = pd.DataFrame(lstBoxPlot, columns=districols)\n",
    "\n",
    "\n",
    "   "
   ]
  },
  {
   "cell_type": "markdown",
   "id": "9e11310d",
   "metadata": {},
   "source": [
    "### Contribution in project\n",
    "\n",
    "- Changing the hyperparameters to check how training loss and val_loss changes\n",
    "\n",
    "- **dropOut** = 0.2\n",
    "\n",
    "- **epochs** = 200\n",
    "\n",
    "- **lstmcell1Urban** = 128\n",
    "\n",
    "- **lstmcell2Urban** = 128\n",
    "\n",
    "- **dense1Urban** = 32\n",
    "\n",
    "- **lstmcell1Rural** = 64\n",
    "\n",
    "- **lstmcell2Rural** = 16\n",
    "\n",
    "- **dense1Rural** = 16\n"
   ]
  },
  {
   "cell_type": "code",
   "execution_count": 60,
   "id": "16a02972",
   "metadata": {},
   "outputs": [
    {
     "name": "stdout",
     "output_type": "stream",
     "text": [
      "193/193 [==============================] - 2s 7ms/step\n"
     ]
    }
   ],
   "source": [
    "\"\"\"# GRU after AutoEncoder Urban & Rural\"\"\"\n",
    "\n",
    "os.environ['PYTHONHASHSEED'] = str(47)\n",
    "np.random.seed(47)\n",
    "random.seed(47)\n",
    "\n",
    "dropOut = 0.2\n",
    "epochs = 200\n",
    "lstmcell1Urban = 128\n",
    "lstmcell2Urban = 128\n",
    "dense1Urban = 32\n",
    "\n",
    "lstmcell1Rural = 64\n",
    "lstmcell2Rural = 16\n",
    "dense1Rural = 16\n",
    "\n",
    "\n",
    "encoderUrban = Model(inputsUrbanAE, encodedUrbanAE)\n",
    "XXUrban = encoderUrban.predict(XUrban)\n",
    "XXFUrban = np.concatenate([XXUrban, FUrban], axis=2)\n",
    "XXFUrban.shape\n",
    "X_train1Urban, X_test1Urban = XXFUrban[:len(\n",
    "    X_train_c)], XXFUrban[len(X_train_c):]\n",
    "y_train1Urban, y_test1Urban = yUrban[:len(y_train_c)], yUrban[len(y_train_c):]\n",
    "scaler1Urban = StandardScaler()\n",
    "X_train1Urban = scaler1Urban.fit_transform(\n",
    "    X_train1Urban.reshape(-1, XXFUrban.shape[-1])).reshape(-1, sequence_length, XXFUrban.shape[-1])\n",
    "X_test1Urban = scaler1Urban.transform(\n",
    "    X_test1Urban.reshape(-1, XXFUrban.shape[-1])).reshape(-1, sequence_length, XXFUrban.shape[-1])\n",
    "\n",
    "session_conf = tf.compat.v1.ConfigProto(\n",
    "    intra_op_parallelism_threads=1,\n",
    "    inter_op_parallelism_threads=1\n",
    ")\n",
    "sess = tf.compat.v1.Session(\n",
    "    graph=tf.compat.v1.get_default_graph(),\n",
    "    config=session_conf\n",
    ")\n",
    "tf.compat.v1.keras.backend.set_session(sess)\n"
   ]
  },
  {
   "cell_type": "code",
   "execution_count": 61,
   "id": "8ec4d227",
   "metadata": {},
   "outputs": [],
   "source": [
    "### DEFINE FORECASTER ###\n",
    "inputs1 = Input(shape=(X_train1Urban.shape[1], X_train1Urban.shape[2]))\n",
    "lstm1 = GRU(lstmcell1Urban, return_sequences=True,\n",
    "            dropout=dropOut)(inputs1, training=True)\n",
    "lstm1 = GRU(lstmcell2Urban, return_sequences=False,\n",
    "            dropout=dropOut)(lstm1, training=True)\n",
    "dense1 = Dense(dense1Urban)(lstm1)\n",
    "out1 = Dense(1)(dense1)\n",
    "\n",
    "model1Urban = Model(inputs1, out1)\n",
    "model1Urban.compile(loss=lossmetric, optimizer='adam', metrics=[lossmetric])\n"
   ]
  },
  {
   "cell_type": "code",
   "execution_count": 62,
   "id": "7315788f",
   "metadata": {},
   "outputs": [
    {
     "name": "stdout",
     "output_type": "stream",
     "text": [
      "Epoch 1/200\n",
      "32/32 - 16s - loss: 0.1742 - mean_absolute_error: 0.1742 - val_loss: 0.0757 - val_mean_absolute_error: 0.0757 - 16s/epoch - 509ms/step\n",
      "Epoch 2/200\n",
      "32/32 - 3s - loss: 0.0450 - mean_absolute_error: 0.0450 - val_loss: 0.0402 - val_mean_absolute_error: 0.0402 - 3s/epoch - 97ms/step\n",
      "Epoch 3/200\n",
      "32/32 - 3s - loss: 0.0278 - mean_absolute_error: 0.0278 - val_loss: 0.0335 - val_mean_absolute_error: 0.0335 - 3s/epoch - 100ms/step\n",
      "Epoch 4/200\n",
      "32/32 - 3s - loss: 0.0253 - mean_absolute_error: 0.0253 - val_loss: 0.0317 - val_mean_absolute_error: 0.0317 - 3s/epoch - 100ms/step\n",
      "Epoch 5/200\n",
      "32/32 - 3s - loss: 0.0252 - mean_absolute_error: 0.0252 - val_loss: 0.0312 - val_mean_absolute_error: 0.0312 - 3s/epoch - 99ms/step\n",
      "Epoch 6/200\n",
      "32/32 - 3s - loss: 0.0245 - mean_absolute_error: 0.0245 - val_loss: 0.0283 - val_mean_absolute_error: 0.0283 - 3s/epoch - 100ms/step\n",
      "Epoch 7/200\n",
      "32/32 - 3s - loss: 0.0232 - mean_absolute_error: 0.0232 - val_loss: 0.0288 - val_mean_absolute_error: 0.0288 - 3s/epoch - 99ms/step\n",
      "Epoch 8/200\n",
      "32/32 - 3s - loss: 0.0225 - mean_absolute_error: 0.0225 - val_loss: 0.0276 - val_mean_absolute_error: 0.0276 - 3s/epoch - 100ms/step\n",
      "Epoch 9/200\n",
      "32/32 - 3s - loss: 0.0219 - mean_absolute_error: 0.0219 - val_loss: 0.0296 - val_mean_absolute_error: 0.0296 - 3s/epoch - 100ms/step\n",
      "Epoch 10/200\n",
      "32/32 - 3s - loss: 0.0223 - mean_absolute_error: 0.0223 - val_loss: 0.0271 - val_mean_absolute_error: 0.0271 - 3s/epoch - 100ms/step\n",
      "Epoch 11/200\n",
      "32/32 - 3s - loss: 0.0221 - mean_absolute_error: 0.0221 - val_loss: 0.0295 - val_mean_absolute_error: 0.0295 - 3s/epoch - 99ms/step\n",
      "Epoch 12/200\n",
      "32/32 - 3s - loss: 0.0220 - mean_absolute_error: 0.0220 - val_loss: 0.0277 - val_mean_absolute_error: 0.0277 - 3s/epoch - 99ms/step\n",
      "Epoch 13/200\n",
      "32/32 - 3s - loss: 0.0211 - mean_absolute_error: 0.0211 - val_loss: 0.0274 - val_mean_absolute_error: 0.0274 - 3s/epoch - 99ms/step\n",
      "Epoch 14/200\n",
      "32/32 - 3s - loss: 0.0214 - mean_absolute_error: 0.0214 - val_loss: 0.0256 - val_mean_absolute_error: 0.0256 - 3s/epoch - 99ms/step\n",
      "Epoch 15/200\n",
      "32/32 - 3s - loss: 0.0212 - mean_absolute_error: 0.0212 - val_loss: 0.0291 - val_mean_absolute_error: 0.0291 - 3s/epoch - 99ms/step\n",
      "Epoch 16/200\n",
      "32/32 - 3s - loss: 0.0216 - mean_absolute_error: 0.0216 - val_loss: 0.0256 - val_mean_absolute_error: 0.0256 - 3s/epoch - 100ms/step\n",
      "Epoch 17/200\n",
      "32/32 - 3s - loss: 0.0212 - mean_absolute_error: 0.0212 - val_loss: 0.0262 - val_mean_absolute_error: 0.0262 - 3s/epoch - 98ms/step\n",
      "Epoch 18/200\n",
      "32/32 - 3s - loss: 0.0211 - mean_absolute_error: 0.0211 - val_loss: 0.0281 - val_mean_absolute_error: 0.0281 - 3s/epoch - 94ms/step\n",
      "Epoch 19/200\n",
      "32/32 - 3s - loss: 0.0207 - mean_absolute_error: 0.0207 - val_loss: 0.0294 - val_mean_absolute_error: 0.0294 - 3s/epoch - 99ms/step\n",
      "Epoch 20/200\n",
      "32/32 - 3s - loss: 0.0213 - mean_absolute_error: 0.0213 - val_loss: 0.0255 - val_mean_absolute_error: 0.0255 - 3s/epoch - 99ms/step\n",
      "Epoch 21/200\n",
      "32/32 - 3s - loss: 0.0203 - mean_absolute_error: 0.0203 - val_loss: 0.0294 - val_mean_absolute_error: 0.0294 - 3s/epoch - 100ms/step\n",
      "Epoch 22/200\n",
      "32/32 - 3s - loss: 0.0206 - mean_absolute_error: 0.0206 - val_loss: 0.0245 - val_mean_absolute_error: 0.0245 - 3s/epoch - 100ms/step\n",
      "Epoch 23/200\n",
      "32/32 - 3s - loss: 0.0195 - mean_absolute_error: 0.0195 - val_loss: 0.0270 - val_mean_absolute_error: 0.0270 - 3s/epoch - 99ms/step\n",
      "Epoch 24/200\n",
      "32/32 - 3s - loss: 0.0201 - mean_absolute_error: 0.0201 - val_loss: 0.0270 - val_mean_absolute_error: 0.0270 - 3s/epoch - 98ms/step\n",
      "Epoch 25/200\n",
      "32/32 - 3s - loss: 0.0199 - mean_absolute_error: 0.0199 - val_loss: 0.0267 - val_mean_absolute_error: 0.0267 - 3s/epoch - 99ms/step\n",
      "Epoch 26/200\n",
      "32/32 - 3s - loss: 0.0199 - mean_absolute_error: 0.0199 - val_loss: 0.0252 - val_mean_absolute_error: 0.0252 - 3s/epoch - 99ms/step\n",
      "Epoch 27/200\n",
      "32/32 - 3s - loss: 0.0193 - mean_absolute_error: 0.0193 - val_loss: 0.0249 - val_mean_absolute_error: 0.0249 - 3s/epoch - 100ms/step\n",
      "Epoch 28/200\n",
      "32/32 - 3s - loss: 0.0195 - mean_absolute_error: 0.0195 - val_loss: 0.0276 - val_mean_absolute_error: 0.0276 - 3s/epoch - 99ms/step\n",
      "Epoch 29/200\n",
      "32/32 - 3s - loss: 0.0191 - mean_absolute_error: 0.0191 - val_loss: 0.0250 - val_mean_absolute_error: 0.0250 - 3s/epoch - 99ms/step\n",
      "Epoch 30/200\n",
      "32/32 - 3s - loss: 0.0190 - mean_absolute_error: 0.0190 - val_loss: 0.0244 - val_mean_absolute_error: 0.0244 - 3s/epoch - 99ms/step\n",
      "Epoch 31/200\n",
      "32/32 - 3s - loss: 0.0185 - mean_absolute_error: 0.0185 - val_loss: 0.0255 - val_mean_absolute_error: 0.0255 - 3s/epoch - 100ms/step\n",
      "Epoch 32/200\n",
      "32/32 - 3s - loss: 0.0187 - mean_absolute_error: 0.0187 - val_loss: 0.0262 - val_mean_absolute_error: 0.0262 - 3s/epoch - 99ms/step\n",
      "Epoch 33/200\n",
      "32/32 - 3s - loss: 0.0193 - mean_absolute_error: 0.0193 - val_loss: 0.0246 - val_mean_absolute_error: 0.0246 - 3s/epoch - 100ms/step\n",
      "Epoch 34/200\n",
      "32/32 - 3s - loss: 0.0185 - mean_absolute_error: 0.0185 - val_loss: 0.0255 - val_mean_absolute_error: 0.0255 - 3s/epoch - 99ms/step\n",
      "Epoch 35/200\n",
      "32/32 - 3s - loss: 0.0194 - mean_absolute_error: 0.0194 - val_loss: 0.0264 - val_mean_absolute_error: 0.0264 - 3s/epoch - 100ms/step\n",
      "Epoch 36/200\n",
      "32/32 - 3s - loss: 0.0183 - mean_absolute_error: 0.0183 - val_loss: 0.0249 - val_mean_absolute_error: 0.0249 - 3s/epoch - 97ms/step\n",
      "Epoch 37/200\n",
      "32/32 - 3s - loss: 0.0190 - mean_absolute_error: 0.0190 - val_loss: 0.0246 - val_mean_absolute_error: 0.0246 - 3s/epoch - 93ms/step\n",
      "Epoch 38/200\n",
      "32/32 - 3s - loss: 0.0184 - mean_absolute_error: 0.0184 - val_loss: 0.0241 - val_mean_absolute_error: 0.0241 - 3s/epoch - 98ms/step\n",
      "Epoch 39/200\n",
      "32/32 - 3s - loss: 0.0175 - mean_absolute_error: 0.0175 - val_loss: 0.0229 - val_mean_absolute_error: 0.0229 - 3s/epoch - 99ms/step\n",
      "Epoch 40/200\n",
      "32/32 - 3s - loss: 0.0183 - mean_absolute_error: 0.0183 - val_loss: 0.0263 - val_mean_absolute_error: 0.0263 - 3s/epoch - 99ms/step\n",
      "Epoch 41/200\n",
      "32/32 - 3s - loss: 0.0179 - mean_absolute_error: 0.0179 - val_loss: 0.0252 - val_mean_absolute_error: 0.0252 - 3s/epoch - 99ms/step\n",
      "Epoch 42/200\n",
      "32/32 - 3s - loss: 0.0186 - mean_absolute_error: 0.0186 - val_loss: 0.0278 - val_mean_absolute_error: 0.0278 - 3s/epoch - 100ms/step\n",
      "Epoch 43/200\n",
      "32/32 - 3s - loss: 0.0189 - mean_absolute_error: 0.0189 - val_loss: 0.0258 - val_mean_absolute_error: 0.0258 - 3s/epoch - 99ms/step\n",
      "Epoch 44/200\n",
      "32/32 - 3s - loss: 0.0185 - mean_absolute_error: 0.0185 - val_loss: 0.0230 - val_mean_absolute_error: 0.0230 - 3s/epoch - 100ms/step\n",
      "Epoch 45/200\n",
      "32/32 - 3s - loss: 0.0180 - mean_absolute_error: 0.0180 - val_loss: 0.0229 - val_mean_absolute_error: 0.0229 - 3s/epoch - 99ms/step\n",
      "Epoch 46/200\n",
      "32/32 - 3s - loss: 0.0180 - mean_absolute_error: 0.0180 - val_loss: 0.0250 - val_mean_absolute_error: 0.0250 - 3s/epoch - 99ms/step\n",
      "Epoch 47/200\n",
      "32/32 - 3s - loss: 0.0178 - mean_absolute_error: 0.0178 - val_loss: 0.0244 - val_mean_absolute_error: 0.0244 - 3s/epoch - 99ms/step\n",
      "Epoch 48/200\n",
      "32/32 - 3s - loss: 0.0188 - mean_absolute_error: 0.0188 - val_loss: 0.0248 - val_mean_absolute_error: 0.0248 - 3s/epoch - 100ms/step\n",
      "Epoch 49/200\n",
      "32/32 - 3s - loss: 0.0176 - mean_absolute_error: 0.0176 - val_loss: 0.0244 - val_mean_absolute_error: 0.0244 - 3s/epoch - 99ms/step\n",
      "Epoch 50/200\n",
      "32/32 - 3s - loss: 0.0180 - mean_absolute_error: 0.0180 - val_loss: 0.0274 - val_mean_absolute_error: 0.0274 - 3s/epoch - 100ms/step\n",
      "Epoch 51/200\n",
      "32/32 - 3s - loss: 0.0175 - mean_absolute_error: 0.0175 - val_loss: 0.0249 - val_mean_absolute_error: 0.0249 - 3s/epoch - 99ms/step\n",
      "Epoch 52/200\n",
      "32/32 - 3s - loss: 0.0176 - mean_absolute_error: 0.0176 - val_loss: 0.0252 - val_mean_absolute_error: 0.0252 - 3s/epoch - 100ms/step\n",
      "Epoch 53/200\n",
      "32/32 - 3s - loss: 0.0183 - mean_absolute_error: 0.0183 - val_loss: 0.0252 - val_mean_absolute_error: 0.0252 - 3s/epoch - 99ms/step\n",
      "Epoch 54/200\n",
      "32/32 - 3s - loss: 0.0178 - mean_absolute_error: 0.0178 - val_loss: 0.0230 - val_mean_absolute_error: 0.0230 - 3s/epoch - 100ms/step\n",
      "Epoch 55/200\n",
      "32/32 - 3s - loss: 0.0176 - mean_absolute_error: 0.0176 - val_loss: 0.0226 - val_mean_absolute_error: 0.0226 - 3s/epoch - 97ms/step\n",
      "Epoch 56/200\n",
      "32/32 - 3s - loss: 0.0177 - mean_absolute_error: 0.0177 - val_loss: 0.0229 - val_mean_absolute_error: 0.0229 - 3s/epoch - 94ms/step\n",
      "Epoch 57/200\n",
      "32/32 - 3s - loss: 0.0177 - mean_absolute_error: 0.0177 - val_loss: 0.0264 - val_mean_absolute_error: 0.0264 - 3s/epoch - 99ms/step\n"
     ]
    },
    {
     "name": "stdout",
     "output_type": "stream",
     "text": [
      "Epoch 58/200\n",
      "32/32 - 3s - loss: 0.0180 - mean_absolute_error: 0.0180 - val_loss: 0.0254 - val_mean_absolute_error: 0.0254 - 3s/epoch - 99ms/step\n",
      "Epoch 59/200\n",
      "32/32 - 3s - loss: 0.0177 - mean_absolute_error: 0.0177 - val_loss: 0.0248 - val_mean_absolute_error: 0.0248 - 3s/epoch - 100ms/step\n",
      "Epoch 60/200\n",
      "32/32 - 3s - loss: 0.0175 - mean_absolute_error: 0.0175 - val_loss: 0.0253 - val_mean_absolute_error: 0.0253 - 3s/epoch - 100ms/step\n",
      "Epoch 61/200\n",
      "32/32 - 3s - loss: 0.0177 - mean_absolute_error: 0.0177 - val_loss: 0.0269 - val_mean_absolute_error: 0.0269 - 3s/epoch - 99ms/step\n",
      "Epoch 62/200\n",
      "32/32 - 3s - loss: 0.0181 - mean_absolute_error: 0.0181 - val_loss: 0.0252 - val_mean_absolute_error: 0.0252 - 3s/epoch - 101ms/step\n",
      "Epoch 63/200\n",
      "32/32 - 3s - loss: 0.0177 - mean_absolute_error: 0.0177 - val_loss: 0.0233 - val_mean_absolute_error: 0.0233 - 3s/epoch - 98ms/step\n",
      "Epoch 64/200\n",
      "32/32 - 3s - loss: 0.0169 - mean_absolute_error: 0.0169 - val_loss: 0.0253 - val_mean_absolute_error: 0.0253 - 3s/epoch - 100ms/step\n",
      "Epoch 65/200\n",
      "32/32 - 3s - loss: 0.0174 - mean_absolute_error: 0.0174 - val_loss: 0.0231 - val_mean_absolute_error: 0.0231 - 3s/epoch - 100ms/step\n",
      "Epoch 66/200\n",
      "32/32 - 3s - loss: 0.0168 - mean_absolute_error: 0.0168 - val_loss: 0.0235 - val_mean_absolute_error: 0.0235 - 3s/epoch - 99ms/step\n",
      "Epoch 67/200\n",
      "32/32 - 3s - loss: 0.0166 - mean_absolute_error: 0.0166 - val_loss: 0.0241 - val_mean_absolute_error: 0.0241 - 3s/epoch - 99ms/step\n",
      "Epoch 68/200\n",
      "32/32 - 3s - loss: 0.0170 - mean_absolute_error: 0.0170 - val_loss: 0.0232 - val_mean_absolute_error: 0.0232 - 3s/epoch - 99ms/step\n",
      "Epoch 69/200\n",
      "32/32 - 3s - loss: 0.0168 - mean_absolute_error: 0.0168 - val_loss: 0.0252 - val_mean_absolute_error: 0.0252 - 3s/epoch - 99ms/step\n",
      "Epoch 70/200\n",
      "32/32 - 3s - loss: 0.0178 - mean_absolute_error: 0.0178 - val_loss: 0.0247 - val_mean_absolute_error: 0.0247 - 3s/epoch - 100ms/step\n",
      "Epoch 71/200\n",
      "32/32 - 3s - loss: 0.0176 - mean_absolute_error: 0.0176 - val_loss: 0.0239 - val_mean_absolute_error: 0.0239 - 3s/epoch - 100ms/step\n",
      "Epoch 72/200\n",
      "32/32 - 3s - loss: 0.0170 - mean_absolute_error: 0.0170 - val_loss: 0.0250 - val_mean_absolute_error: 0.0250 - 3s/epoch - 99ms/step\n",
      "Epoch 73/200\n",
      "32/32 - 3s - loss: 0.0172 - mean_absolute_error: 0.0172 - val_loss: 0.0242 - val_mean_absolute_error: 0.0242 - 3s/epoch - 100ms/step\n",
      "Epoch 74/200\n",
      "32/32 - 3s - loss: 0.0169 - mean_absolute_error: 0.0169 - val_loss: 0.0232 - val_mean_absolute_error: 0.0232 - 3s/epoch - 94ms/step\n",
      "Epoch 75/200\n",
      "32/32 - 3s - loss: 0.0169 - mean_absolute_error: 0.0169 - val_loss: 0.0231 - val_mean_absolute_error: 0.0231 - 3s/epoch - 96ms/step\n",
      "Epoch 76/200\n",
      "32/32 - 3s - loss: 0.0163 - mean_absolute_error: 0.0163 - val_loss: 0.0240 - val_mean_absolute_error: 0.0240 - 3s/epoch - 100ms/step\n",
      "Epoch 77/200\n",
      "32/32 - 3s - loss: 0.0163 - mean_absolute_error: 0.0163 - val_loss: 0.0270 - val_mean_absolute_error: 0.0270 - 3s/epoch - 99ms/step\n",
      "Epoch 78/200\n",
      "32/32 - 3s - loss: 0.0183 - mean_absolute_error: 0.0183 - val_loss: 0.0260 - val_mean_absolute_error: 0.0260 - 3s/epoch - 99ms/step\n",
      "Epoch 79/200\n",
      "32/32 - 3s - loss: 0.0172 - mean_absolute_error: 0.0172 - val_loss: 0.0248 - val_mean_absolute_error: 0.0248 - 3s/epoch - 99ms/step\n",
      "Epoch 80/200\n",
      "32/32 - 3s - loss: 0.0172 - mean_absolute_error: 0.0172 - val_loss: 0.0236 - val_mean_absolute_error: 0.0236 - 3s/epoch - 100ms/step\n",
      "Epoch 81/200\n",
      "32/32 - 3s - loss: 0.0167 - mean_absolute_error: 0.0167 - val_loss: 0.0249 - val_mean_absolute_error: 0.0249 - 3s/epoch - 99ms/step\n",
      "Epoch 82/200\n",
      "32/32 - 3s - loss: 0.0165 - mean_absolute_error: 0.0165 - val_loss: 0.0234 - val_mean_absolute_error: 0.0234 - 3s/epoch - 100ms/step\n",
      "Epoch 83/200\n",
      "32/32 - 3s - loss: 0.0166 - mean_absolute_error: 0.0166 - val_loss: 0.0259 - val_mean_absolute_error: 0.0259 - 3s/epoch - 99ms/step\n",
      "Epoch 84/200\n",
      "32/32 - 3s - loss: 0.0179 - mean_absolute_error: 0.0179 - val_loss: 0.0240 - val_mean_absolute_error: 0.0240 - 3s/epoch - 99ms/step\n",
      "Epoch 85/200\n",
      "32/32 - 3s - loss: 0.0165 - mean_absolute_error: 0.0165 - val_loss: 0.0220 - val_mean_absolute_error: 0.0220 - 3s/epoch - 99ms/step\n",
      "Epoch 86/200\n",
      "32/32 - 3s - loss: 0.0162 - mean_absolute_error: 0.0162 - val_loss: 0.0219 - val_mean_absolute_error: 0.0219 - 3s/epoch - 99ms/step\n",
      "Epoch 87/200\n",
      "32/32 - 3s - loss: 0.0167 - mean_absolute_error: 0.0167 - val_loss: 0.0234 - val_mean_absolute_error: 0.0234 - 3s/epoch - 99ms/step\n",
      "Epoch 88/200\n",
      "32/32 - 3s - loss: 0.0160 - mean_absolute_error: 0.0160 - val_loss: 0.0250 - val_mean_absolute_error: 0.0250 - 3s/epoch - 99ms/step\n",
      "Epoch 89/200\n",
      "32/32 - 3s - loss: 0.0168 - mean_absolute_error: 0.0168 - val_loss: 0.0250 - val_mean_absolute_error: 0.0250 - 3s/epoch - 100ms/step\n",
      "Epoch 90/200\n",
      "32/32 - 3s - loss: 0.0164 - mean_absolute_error: 0.0164 - val_loss: 0.0264 - val_mean_absolute_error: 0.0264 - 3s/epoch - 99ms/step\n",
      "Epoch 91/200\n",
      "32/32 - 3s - loss: 0.0177 - mean_absolute_error: 0.0177 - val_loss: 0.0229 - val_mean_absolute_error: 0.0229 - 3s/epoch - 100ms/step\n",
      "Epoch 92/200\n",
      "32/32 - 3s - loss: 0.0163 - mean_absolute_error: 0.0163 - val_loss: 0.0226 - val_mean_absolute_error: 0.0226 - 3s/epoch - 99ms/step\n",
      "Epoch 93/200\n",
      "32/32 - 3s - loss: 0.0162 - mean_absolute_error: 0.0162 - val_loss: 0.0218 - val_mean_absolute_error: 0.0218 - 3s/epoch - 96ms/step\n",
      "Epoch 94/200\n",
      "32/32 - 3s - loss: 0.0158 - mean_absolute_error: 0.0158 - val_loss: 0.0226 - val_mean_absolute_error: 0.0226 - 3s/epoch - 95ms/step\n",
      "Epoch 95/200\n",
      "32/32 - 3s - loss: 0.0160 - mean_absolute_error: 0.0160 - val_loss: 0.0256 - val_mean_absolute_error: 0.0256 - 3s/epoch - 100ms/step\n",
      "Epoch 96/200\n",
      "32/32 - 3s - loss: 0.0168 - mean_absolute_error: 0.0168 - val_loss: 0.0226 - val_mean_absolute_error: 0.0226 - 3s/epoch - 100ms/step\n",
      "Epoch 97/200\n",
      "32/32 - 3s - loss: 0.0163 - mean_absolute_error: 0.0163 - val_loss: 0.0231 - val_mean_absolute_error: 0.0231 - 3s/epoch - 99ms/step\n",
      "Epoch 98/200\n",
      "32/32 - 3s - loss: 0.0166 - mean_absolute_error: 0.0166 - val_loss: 0.0224 - val_mean_absolute_error: 0.0224 - 3s/epoch - 100ms/step\n",
      "Epoch 99/200\n",
      "32/32 - 3s - loss: 0.0162 - mean_absolute_error: 0.0162 - val_loss: 0.0248 - val_mean_absolute_error: 0.0248 - 3s/epoch - 99ms/step\n",
      "Epoch 100/200\n",
      "32/32 - 3s - loss: 0.0158 - mean_absolute_error: 0.0158 - val_loss: 0.0215 - val_mean_absolute_error: 0.0215 - 3s/epoch - 100ms/step\n",
      "Epoch 101/200\n",
      "32/32 - 3s - loss: 0.0158 - mean_absolute_error: 0.0158 - val_loss: 0.0228 - val_mean_absolute_error: 0.0228 - 3s/epoch - 99ms/step\n",
      "Epoch 102/200\n",
      "32/32 - 3s - loss: 0.0162 - mean_absolute_error: 0.0162 - val_loss: 0.0232 - val_mean_absolute_error: 0.0232 - 3s/epoch - 100ms/step\n",
      "Epoch 103/200\n",
      "32/32 - 3s - loss: 0.0164 - mean_absolute_error: 0.0164 - val_loss: 0.0234 - val_mean_absolute_error: 0.0234 - 3s/epoch - 99ms/step\n",
      "Epoch 104/200\n",
      "32/32 - 3s - loss: 0.0155 - mean_absolute_error: 0.0155 - val_loss: 0.0237 - val_mean_absolute_error: 0.0237 - 3s/epoch - 100ms/step\n",
      "Epoch 105/200\n",
      "32/32 - 3s - loss: 0.0159 - mean_absolute_error: 0.0159 - val_loss: 0.0224 - val_mean_absolute_error: 0.0224 - 3s/epoch - 99ms/step\n",
      "Epoch 106/200\n",
      "32/32 - 3s - loss: 0.0156 - mean_absolute_error: 0.0156 - val_loss: 0.0235 - val_mean_absolute_error: 0.0235 - 3s/epoch - 100ms/step\n",
      "Epoch 107/200\n",
      "32/32 - 3s - loss: 0.0161 - mean_absolute_error: 0.0161 - val_loss: 0.0228 - val_mean_absolute_error: 0.0228 - 3s/epoch - 100ms/step\n",
      "Epoch 108/200\n",
      "32/32 - 3s - loss: 0.0159 - mean_absolute_error: 0.0159 - val_loss: 0.0219 - val_mean_absolute_error: 0.0219 - 3s/epoch - 100ms/step\n",
      "Epoch 109/200\n",
      "32/32 - 3s - loss: 0.0164 - mean_absolute_error: 0.0164 - val_loss: 0.0222 - val_mean_absolute_error: 0.0222 - 3s/epoch - 99ms/step\n",
      "Epoch 110/200\n",
      "32/32 - 3s - loss: 0.0155 - mean_absolute_error: 0.0155 - val_loss: 0.0218 - val_mean_absolute_error: 0.0218 - 3s/epoch - 100ms/step\n",
      "Epoch 111/200\n",
      "32/32 - 3s - loss: 0.0162 - mean_absolute_error: 0.0162 - val_loss: 0.0230 - val_mean_absolute_error: 0.0230 - 3s/epoch - 99ms/step\n",
      "Epoch 112/200\n",
      "32/32 - 3s - loss: 0.0159 - mean_absolute_error: 0.0159 - val_loss: 0.0222 - val_mean_absolute_error: 0.0222 - 3s/epoch - 95ms/step\n",
      "Epoch 113/200\n",
      "32/32 - 3s - loss: 0.0154 - mean_absolute_error: 0.0154 - val_loss: 0.0229 - val_mean_absolute_error: 0.0229 - 3s/epoch - 97ms/step\n",
      "Epoch 114/200\n",
      "32/32 - 3s - loss: 0.0153 - mean_absolute_error: 0.0153 - val_loss: 0.0221 - val_mean_absolute_error: 0.0221 - 3s/epoch - 100ms/step\n"
     ]
    },
    {
     "name": "stdout",
     "output_type": "stream",
     "text": [
      "Epoch 115/200\n",
      "32/32 - 3s - loss: 0.0156 - mean_absolute_error: 0.0156 - val_loss: 0.0226 - val_mean_absolute_error: 0.0226 - 3s/epoch - 100ms/step\n",
      "Epoch 116/200\n",
      "32/32 - 3s - loss: 0.0160 - mean_absolute_error: 0.0160 - val_loss: 0.0214 - val_mean_absolute_error: 0.0214 - 3s/epoch - 100ms/step\n",
      "Epoch 117/200\n",
      "32/32 - 3s - loss: 0.0151 - mean_absolute_error: 0.0151 - val_loss: 0.0235 - val_mean_absolute_error: 0.0235 - 3s/epoch - 100ms/step\n",
      "Epoch 118/200\n",
      "32/32 - 3s - loss: 0.0159 - mean_absolute_error: 0.0159 - val_loss: 0.0226 - val_mean_absolute_error: 0.0226 - 3s/epoch - 99ms/step\n",
      "Epoch 119/200\n",
      "32/32 - 3s - loss: 0.0153 - mean_absolute_error: 0.0153 - val_loss: 0.0218 - val_mean_absolute_error: 0.0218 - 3s/epoch - 100ms/step\n",
      "Epoch 120/200\n",
      "32/32 - 3s - loss: 0.0156 - mean_absolute_error: 0.0156 - val_loss: 0.0216 - val_mean_absolute_error: 0.0216 - 3s/epoch - 100ms/step\n",
      "Epoch 121/200\n",
      "32/32 - 3s - loss: 0.0153 - mean_absolute_error: 0.0153 - val_loss: 0.0208 - val_mean_absolute_error: 0.0208 - 3s/epoch - 100ms/step\n",
      "Epoch 122/200\n",
      "32/32 - 3s - loss: 0.0150 - mean_absolute_error: 0.0150 - val_loss: 0.0222 - val_mean_absolute_error: 0.0222 - 3s/epoch - 100ms/step\n",
      "Epoch 123/200\n",
      "32/32 - 3s - loss: 0.0151 - mean_absolute_error: 0.0151 - val_loss: 0.0209 - val_mean_absolute_error: 0.0209 - 3s/epoch - 99ms/step\n",
      "Epoch 124/200\n",
      "32/32 - 3s - loss: 0.0154 - mean_absolute_error: 0.0154 - val_loss: 0.0223 - val_mean_absolute_error: 0.0223 - 3s/epoch - 99ms/step\n",
      "Epoch 125/200\n",
      "32/32 - 3s - loss: 0.0151 - mean_absolute_error: 0.0151 - val_loss: 0.0217 - val_mean_absolute_error: 0.0217 - 3s/epoch - 99ms/step\n",
      "Epoch 126/200\n",
      "32/32 - 3s - loss: 0.0150 - mean_absolute_error: 0.0150 - val_loss: 0.0235 - val_mean_absolute_error: 0.0235 - 3s/epoch - 99ms/step\n",
      "Epoch 127/200\n",
      "32/32 - 3s - loss: 0.0154 - mean_absolute_error: 0.0154 - val_loss: 0.0210 - val_mean_absolute_error: 0.0210 - 3s/epoch - 100ms/step\n",
      "Epoch 128/200\n",
      "32/32 - 3s - loss: 0.0149 - mean_absolute_error: 0.0149 - val_loss: 0.0210 - val_mean_absolute_error: 0.0210 - 3s/epoch - 99ms/step\n",
      "Epoch 129/200\n",
      "32/32 - 3s - loss: 0.0146 - mean_absolute_error: 0.0146 - val_loss: 0.0232 - val_mean_absolute_error: 0.0232 - 3s/epoch - 99ms/step\n",
      "Epoch 130/200\n",
      "32/32 - 3s - loss: 0.0151 - mean_absolute_error: 0.0151 - val_loss: 0.0237 - val_mean_absolute_error: 0.0237 - 3s/epoch - 100ms/step\n",
      "Epoch 131/200\n",
      "32/32 - 3s - loss: 0.0149 - mean_absolute_error: 0.0149 - val_loss: 0.0217 - val_mean_absolute_error: 0.0217 - 3s/epoch - 96ms/step\n",
      "Epoch 132/200\n",
      "32/32 - 3s - loss: 0.0144 - mean_absolute_error: 0.0144 - val_loss: 0.0218 - val_mean_absolute_error: 0.0218 - 3s/epoch - 98ms/step\n",
      "Epoch 133/200\n",
      "32/32 - 3s - loss: 0.0147 - mean_absolute_error: 0.0147 - val_loss: 0.0232 - val_mean_absolute_error: 0.0232 - 3s/epoch - 100ms/step\n",
      "Epoch 134/200\n",
      "32/32 - 3s - loss: 0.0147 - mean_absolute_error: 0.0147 - val_loss: 0.0217 - val_mean_absolute_error: 0.0217 - 3s/epoch - 99ms/step\n",
      "Epoch 135/200\n",
      "32/32 - 3s - loss: 0.0151 - mean_absolute_error: 0.0151 - val_loss: 0.0212 - val_mean_absolute_error: 0.0212 - 3s/epoch - 100ms/step\n",
      "Epoch 136/200\n",
      "32/32 - 3s - loss: 0.0149 - mean_absolute_error: 0.0149 - val_loss: 0.0213 - val_mean_absolute_error: 0.0213 - 3s/epoch - 99ms/step\n",
      "Epoch 137/200\n",
      "32/32 - 3s - loss: 0.0148 - mean_absolute_error: 0.0148 - val_loss: 0.0219 - val_mean_absolute_error: 0.0219 - 3s/epoch - 99ms/step\n",
      "Epoch 138/200\n",
      "32/32 - 3s - loss: 0.0151 - mean_absolute_error: 0.0151 - val_loss: 0.0230 - val_mean_absolute_error: 0.0230 - 3s/epoch - 100ms/step\n",
      "Epoch 139/200\n",
      "32/32 - 3s - loss: 0.0147 - mean_absolute_error: 0.0147 - val_loss: 0.0218 - val_mean_absolute_error: 0.0218 - 3s/epoch - 99ms/step\n",
      "Epoch 140/200\n",
      "32/32 - 3s - loss: 0.0152 - mean_absolute_error: 0.0152 - val_loss: 0.0225 - val_mean_absolute_error: 0.0225 - 3s/epoch - 100ms/step\n",
      "Epoch 141/200\n",
      "32/32 - 3s - loss: 0.0149 - mean_absolute_error: 0.0149 - val_loss: 0.0229 - val_mean_absolute_error: 0.0229 - 3s/epoch - 100ms/step\n",
      "Epoch 142/200\n",
      "32/32 - 3s - loss: 0.0147 - mean_absolute_error: 0.0147 - val_loss: 0.0220 - val_mean_absolute_error: 0.0220 - 3s/epoch - 100ms/step\n",
      "Epoch 143/200\n",
      "32/32 - 3s - loss: 0.0148 - mean_absolute_error: 0.0148 - val_loss: 0.0231 - val_mean_absolute_error: 0.0231 - 3s/epoch - 100ms/step\n",
      "Epoch 144/200\n",
      "32/32 - 3s - loss: 0.0147 - mean_absolute_error: 0.0147 - val_loss: 0.0224 - val_mean_absolute_error: 0.0224 - 3s/epoch - 100ms/step\n",
      "Epoch 145/200\n",
      "32/32 - 3s - loss: 0.0142 - mean_absolute_error: 0.0142 - val_loss: 0.0215 - val_mean_absolute_error: 0.0215 - 3s/epoch - 99ms/step\n",
      "Epoch 146/200\n",
      "32/32 - 3s - loss: 0.0138 - mean_absolute_error: 0.0138 - val_loss: 0.0214 - val_mean_absolute_error: 0.0214 - 3s/epoch - 100ms/step\n",
      "Epoch 147/200\n",
      "32/32 - 3s - loss: 0.0146 - mean_absolute_error: 0.0146 - val_loss: 0.0213 - val_mean_absolute_error: 0.0213 - 3s/epoch - 100ms/step\n",
      "Epoch 148/200\n",
      "32/32 - 3s - loss: 0.0145 - mean_absolute_error: 0.0145 - val_loss: 0.0217 - val_mean_absolute_error: 0.0217 - 3s/epoch - 100ms/step\n",
      "Epoch 149/200\n",
      "32/32 - 3s - loss: 0.0143 - mean_absolute_error: 0.0143 - val_loss: 0.0214 - val_mean_absolute_error: 0.0214 - 3s/epoch - 96ms/step\n",
      "Epoch 150/200\n",
      "32/32 - 3s - loss: 0.0137 - mean_absolute_error: 0.0137 - val_loss: 0.0217 - val_mean_absolute_error: 0.0217 - 3s/epoch - 92ms/step\n",
      "Epoch 151/200\n",
      "32/32 - 3s - loss: 0.0141 - mean_absolute_error: 0.0141 - val_loss: 0.0224 - val_mean_absolute_error: 0.0224 - 3s/epoch - 99ms/step\n",
      "Epoch 152/200\n",
      "32/32 - 3s - loss: 0.0140 - mean_absolute_error: 0.0140 - val_loss: 0.0208 - val_mean_absolute_error: 0.0208 - 3s/epoch - 100ms/step\n",
      "Epoch 153/200\n",
      "32/32 - 3s - loss: 0.0145 - mean_absolute_error: 0.0145 - val_loss: 0.0223 - val_mean_absolute_error: 0.0223 - 3s/epoch - 100ms/step\n",
      "Epoch 154/200\n",
      "32/32 - 3s - loss: 0.0146 - mean_absolute_error: 0.0146 - val_loss: 0.0223 - val_mean_absolute_error: 0.0223 - 3s/epoch - 99ms/step\n",
      "Epoch 155/200\n",
      "32/32 - 3s - loss: 0.0144 - mean_absolute_error: 0.0144 - val_loss: 0.0215 - val_mean_absolute_error: 0.0215 - 3s/epoch - 99ms/step\n",
      "Epoch 156/200\n",
      "32/32 - 3s - loss: 0.0143 - mean_absolute_error: 0.0143 - val_loss: 0.0207 - val_mean_absolute_error: 0.0207 - 3s/epoch - 98ms/step\n",
      "Epoch 157/200\n",
      "32/32 - 3s - loss: 0.0147 - mean_absolute_error: 0.0147 - val_loss: 0.0217 - val_mean_absolute_error: 0.0217 - 3s/epoch - 99ms/step\n",
      "Epoch 158/200\n",
      "32/32 - 3s - loss: 0.0142 - mean_absolute_error: 0.0142 - val_loss: 0.0208 - val_mean_absolute_error: 0.0208 - 3s/epoch - 100ms/step\n",
      "Epoch 159/200\n",
      "32/32 - 3s - loss: 0.0136 - mean_absolute_error: 0.0136 - val_loss: 0.0206 - val_mean_absolute_error: 0.0206 - 3s/epoch - 99ms/step\n",
      "Epoch 160/200\n",
      "32/32 - 3s - loss: 0.0138 - mean_absolute_error: 0.0138 - val_loss: 0.0219 - val_mean_absolute_error: 0.0219 - 3s/epoch - 99ms/step\n",
      "Epoch 161/200\n",
      "32/32 - 3s - loss: 0.0142 - mean_absolute_error: 0.0142 - val_loss: 0.0212 - val_mean_absolute_error: 0.0212 - 3s/epoch - 100ms/step\n",
      "Epoch 162/200\n",
      "32/32 - 3s - loss: 0.0132 - mean_absolute_error: 0.0132 - val_loss: 0.0220 - val_mean_absolute_error: 0.0220 - 3s/epoch - 99ms/step\n",
      "Epoch 163/200\n",
      "32/32 - 3s - loss: 0.0139 - mean_absolute_error: 0.0139 - val_loss: 0.0227 - val_mean_absolute_error: 0.0227 - 3s/epoch - 100ms/step\n",
      "Epoch 164/200\n",
      "32/32 - 3s - loss: 0.0140 - mean_absolute_error: 0.0140 - val_loss: 0.0217 - val_mean_absolute_error: 0.0217 - 3s/epoch - 99ms/step\n",
      "Epoch 165/200\n",
      "32/32 - 3s - loss: 0.0134 - mean_absolute_error: 0.0134 - val_loss: 0.0210 - val_mean_absolute_error: 0.0210 - 3s/epoch - 100ms/step\n",
      "Epoch 166/200\n",
      "32/32 - 3s - loss: 0.0144 - mean_absolute_error: 0.0144 - val_loss: 0.0211 - val_mean_absolute_error: 0.0211 - 3s/epoch - 100ms/step\n",
      "Epoch 167/200\n",
      "32/32 - 3s - loss: 0.0142 - mean_absolute_error: 0.0142 - val_loss: 0.0218 - val_mean_absolute_error: 0.0218 - 3s/epoch - 99ms/step\n",
      "Epoch 168/200\n",
      "32/32 - 3s - loss: 0.0139 - mean_absolute_error: 0.0139 - val_loss: 0.0235 - val_mean_absolute_error: 0.0235 - 3s/epoch - 99ms/step\n",
      "Epoch 169/200\n",
      "32/32 - 3s - loss: 0.0148 - mean_absolute_error: 0.0148 - val_loss: 0.0220 - val_mean_absolute_error: 0.0220 - 3s/epoch - 93ms/step\n",
      "Epoch 170/200\n",
      "32/32 - 3s - loss: 0.0140 - mean_absolute_error: 0.0140 - val_loss: 0.0204 - val_mean_absolute_error: 0.0204 - 3s/epoch - 98ms/step\n"
     ]
    },
    {
     "name": "stdout",
     "output_type": "stream",
     "text": [
      "Epoch 171/200\n",
      "32/32 - 3s - loss: 0.0141 - mean_absolute_error: 0.0141 - val_loss: 0.0203 - val_mean_absolute_error: 0.0203 - 3s/epoch - 99ms/step\n",
      "Epoch 172/200\n",
      "32/32 - 3s - loss: 0.0143 - mean_absolute_error: 0.0143 - val_loss: 0.0205 - val_mean_absolute_error: 0.0205 - 3s/epoch - 99ms/step\n",
      "Epoch 173/200\n",
      "32/32 - 3s - loss: 0.0139 - mean_absolute_error: 0.0139 - val_loss: 0.0202 - val_mean_absolute_error: 0.0202 - 3s/epoch - 99ms/step\n",
      "Epoch 174/200\n",
      "32/32 - 3s - loss: 0.0135 - mean_absolute_error: 0.0135 - val_loss: 0.0220 - val_mean_absolute_error: 0.0220 - 3s/epoch - 99ms/step\n",
      "Epoch 175/200\n",
      "32/32 - 3s - loss: 0.0138 - mean_absolute_error: 0.0138 - val_loss: 0.0203 - val_mean_absolute_error: 0.0203 - 3s/epoch - 98ms/step\n",
      "Epoch 176/200\n",
      "32/32 - 3s - loss: 0.0138 - mean_absolute_error: 0.0138 - val_loss: 0.0209 - val_mean_absolute_error: 0.0209 - 3s/epoch - 99ms/step\n",
      "Epoch 177/200\n",
      "32/32 - 3s - loss: 0.0131 - mean_absolute_error: 0.0131 - val_loss: 0.0207 - val_mean_absolute_error: 0.0207 - 3s/epoch - 99ms/step\n",
      "Epoch 178/200\n",
      "32/32 - 3s - loss: 0.0132 - mean_absolute_error: 0.0132 - val_loss: 0.0201 - val_mean_absolute_error: 0.0201 - 3s/epoch - 100ms/step\n",
      "Epoch 179/200\n",
      "32/32 - 3s - loss: 0.0132 - mean_absolute_error: 0.0132 - val_loss: 0.0212 - val_mean_absolute_error: 0.0212 - 3s/epoch - 100ms/step\n",
      "Epoch 180/200\n",
      "32/32 - 3s - loss: 0.0129 - mean_absolute_error: 0.0129 - val_loss: 0.0204 - val_mean_absolute_error: 0.0204 - 3s/epoch - 99ms/step\n",
      "Epoch 181/200\n",
      "32/32 - 3s - loss: 0.0126 - mean_absolute_error: 0.0126 - val_loss: 0.0227 - val_mean_absolute_error: 0.0227 - 3s/epoch - 99ms/step\n",
      "Epoch 182/200\n",
      "32/32 - 3s - loss: 0.0135 - mean_absolute_error: 0.0135 - val_loss: 0.0209 - val_mean_absolute_error: 0.0209 - 3s/epoch - 99ms/step\n",
      "Epoch 183/200\n",
      "32/32 - 3s - loss: 0.0133 - mean_absolute_error: 0.0133 - val_loss: 0.0211 - val_mean_absolute_error: 0.0211 - 3s/epoch - 100ms/step\n",
      "Epoch 184/200\n",
      "32/32 - 3s - loss: 0.0134 - mean_absolute_error: 0.0134 - val_loss: 0.0210 - val_mean_absolute_error: 0.0210 - 3s/epoch - 100ms/step\n",
      "Epoch 185/200\n",
      "32/32 - 3s - loss: 0.0128 - mean_absolute_error: 0.0128 - val_loss: 0.0207 - val_mean_absolute_error: 0.0207 - 3s/epoch - 98ms/step\n",
      "Epoch 186/200\n",
      "32/32 - 3s - loss: 0.0123 - mean_absolute_error: 0.0123 - val_loss: 0.0204 - val_mean_absolute_error: 0.0204 - 3s/epoch - 100ms/step\n",
      "Epoch 187/200\n",
      "32/32 - 3s - loss: 0.0128 - mean_absolute_error: 0.0128 - val_loss: 0.0209 - val_mean_absolute_error: 0.0209 - 3s/epoch - 99ms/step\n",
      "Epoch 188/200\n",
      "32/32 - 3s - loss: 0.0129 - mean_absolute_error: 0.0129 - val_loss: 0.0208 - val_mean_absolute_error: 0.0208 - 3s/epoch - 93ms/step\n",
      "Epoch 189/200\n",
      "32/32 - 3s - loss: 0.0128 - mean_absolute_error: 0.0128 - val_loss: 0.0206 - val_mean_absolute_error: 0.0206 - 3s/epoch - 100ms/step\n",
      "Epoch 190/200\n",
      "32/32 - 3s - loss: 0.0130 - mean_absolute_error: 0.0130 - val_loss: 0.0206 - val_mean_absolute_error: 0.0206 - 3s/epoch - 99ms/step\n",
      "Epoch 191/200\n",
      "32/32 - 3s - loss: 0.0137 - mean_absolute_error: 0.0137 - val_loss: 0.0199 - val_mean_absolute_error: 0.0199 - 3s/epoch - 99ms/step\n",
      "Epoch 192/200\n",
      "32/32 - 3s - loss: 0.0132 - mean_absolute_error: 0.0132 - val_loss: 0.0204 - val_mean_absolute_error: 0.0204 - 3s/epoch - 99ms/step\n",
      "Epoch 193/200\n",
      "32/32 - 3s - loss: 0.0127 - mean_absolute_error: 0.0127 - val_loss: 0.0208 - val_mean_absolute_error: 0.0208 - 3s/epoch - 100ms/step\n",
      "Epoch 194/200\n",
      "32/32 - 3s - loss: 0.0126 - mean_absolute_error: 0.0126 - val_loss: 0.0204 - val_mean_absolute_error: 0.0204 - 3s/epoch - 99ms/step\n",
      "Epoch 195/200\n",
      "32/32 - 3s - loss: 0.0130 - mean_absolute_error: 0.0130 - val_loss: 0.0206 - val_mean_absolute_error: 0.0206 - 3s/epoch - 99ms/step\n",
      "Epoch 196/200\n",
      "32/32 - 3s - loss: 0.0128 - mean_absolute_error: 0.0128 - val_loss: 0.0205 - val_mean_absolute_error: 0.0205 - 3s/epoch - 99ms/step\n",
      "Epoch 197/200\n",
      "32/32 - 3s - loss: 0.0131 - mean_absolute_error: 0.0131 - val_loss: 0.0207 - val_mean_absolute_error: 0.0207 - 3s/epoch - 99ms/step\n",
      "Epoch 198/200\n",
      "32/32 - 3s - loss: 0.0125 - mean_absolute_error: 0.0125 - val_loss: 0.0206 - val_mean_absolute_error: 0.0206 - 3s/epoch - 97ms/step\n",
      "Epoch 199/200\n",
      "32/32 - 3s - loss: 0.0131 - mean_absolute_error: 0.0131 - val_loss: 0.0208 - val_mean_absolute_error: 0.0208 - 3s/epoch - 99ms/step\n",
      "Epoch 200/200\n",
      "32/32 - 3s - loss: 0.0131 - mean_absolute_error: 0.0131 - val_loss: 0.0203 - val_mean_absolute_error: 0.0203 - 3s/epoch - 99ms/step\n"
     ]
    }
   ],
   "source": [
    "### FIT FORECASTER ###\n",
    "historyUrban = model1Urban.fit(X_train1Urban[:4000], y_train1Urban[:4000], validation_data=(X_train1Urban[4000:], y_train1Urban[4000:]),\n",
    "                               epochs=epochs, batch_size=128, verbose=2, shuffle=False)\n"
   ]
  },
  {
   "cell_type": "code",
   "execution_count": 63,
   "id": "538db22e",
   "metadata": {},
   "outputs": [
    {
     "data": {
      "image/png": "[encoded data removed]",
      "text/plain": [
       "<Figure size 1008x1008 with 1 Axes>"
      ]
     },
     "metadata": {
      "needs_background": "light"
     },
     "output_type": "display_data"
    }
   ],
   "source": [
    "plt.plot(historyUrban.history['loss'][10:])\n",
    "plt.plot(historyUrban.history['val_loss'][10:])\n",
    "\n",
    "plt.title('Model training loss 10-100')\n",
    "plt.ylabel('Loss')\n",
    "plt.xlabel('Epoch')\n",
    "plt.legend(['Train loss', 'Val loss'], loc='upper left')\n",
    "plt.show()"
   ]
  },
  {
   "cell_type": "markdown",
   "id": "471aaedc",
   "metadata": {},
   "source": [
    "- By looking at the above graph we can say that the change in hyperparameters has shown **continuous decrease** in validation loss, which can be seen decreasing and again increasing in the original research parameters.\n",
    "\n",
    "- We can say that validation set accuracy can be improved by using these parameters.\n",
    "\n"
   ]
  }
 ],
 "metadata": {
  "kernelspec": {
   "display_name": "Python 3",
   "language": "python",
   "name": "python3"
  },
  "language_info": {
   "codemirror_mode": {
    "name": "ipython",
    "version": 3
   },
   "file_extension": ".py",
   "mimetype": "text/x-python",
   "name": "python",
   "nbconvert_exporter": "python",
   "pygments_lexer": "ipython3",
   "version": "3.8.8"
  }
 },
 "nbformat": 4,
 "nbformat_minor": 5
}
